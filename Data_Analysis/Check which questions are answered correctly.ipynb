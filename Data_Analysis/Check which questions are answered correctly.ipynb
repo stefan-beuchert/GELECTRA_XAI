{
 "cells": [
  {
   "cell_type": "markdown",
   "id": "43da299d",
   "metadata": {},
   "source": [
    "# Check which questions have been answered correctly by GELECTRA"
   ]
  },
  {
   "cell_type": "code",
   "execution_count": 1,
   "id": "10134c54",
   "metadata": {},
   "outputs": [
    {
     "name": "stdout",
     "output_type": "stream",
     "text": [
      "C:\\Users\\Stefan.Beuchert\\Desktop\\backup_from_kubectl\n"
     ]
    }
   ],
   "source": [
    "%cd .."
   ]
  },
  {
   "cell_type": "code",
   "execution_count": 2,
   "id": "90f0f796",
   "metadata": {},
   "outputs": [],
   "source": [
    "# config\n",
    "number_of_features = 10 # the default value\n",
    "number_of_samples = 5000 # the default value\n",
    "\n",
    "source_path_for_data = f'data/Data_Preparation/lime_ns_{number_of_samples}_nf_{number_of_features}_after_frequency_analysis.json'"
   ]
  },
  {
   "cell_type": "code",
   "execution_count": 3,
   "id": "7291b90a",
   "metadata": {},
   "outputs": [],
   "source": [
    "import pandas as pd\n",
    "\n",
    "from src.get_data import enhance_data_with_correctness_of_the_prediction"
   ]
  },
  {
   "cell_type": "markdown",
   "id": "92b7482b",
   "metadata": {},
   "source": [
    "## Get Data"
   ]
  },
  {
   "cell_type": "code",
   "execution_count": 4,
   "id": "dfaa6fd2",
   "metadata": {},
   "outputs": [
    {
     "data": {
      "text/html": [
       "<div>\n",
       "<style scoped>\n",
       "    .dataframe tbody tr th:only-of-type {\n",
       "        vertical-align: middle;\n",
       "    }\n",
       "\n",
       "    .dataframe tbody tr th {\n",
       "        vertical-align: top;\n",
       "    }\n",
       "\n",
       "    .dataframe thead th {\n",
       "        text-align: right;\n",
       "    }\n",
       "</style>\n",
       "<table border=\"1\" class=\"dataframe\">\n",
       "  <thead>\n",
       "    <tr style=\"text-align: right;\">\n",
       "      <th></th>\n",
       "      <th>question</th>\n",
       "      <th>answers</th>\n",
       "      <th>context</th>\n",
       "      <th>document_id</th>\n",
       "      <th>is_impossible</th>\n",
       "      <th>usage</th>\n",
       "      <th>prediction</th>\n",
       "      <th>explanation</th>\n",
       "    </tr>\n",
       "  </thead>\n",
       "  <tbody>\n",
       "    <tr>\n",
       "      <th>37495</th>\n",
       "      <td>Wie viele Amerikaner fühlen sich mehr als eine...</td>\n",
       "      <td>[{'answer_id': 37854, 'document_id': 41057, 'q...</td>\n",
       "      <td>Race__United_States_Census_\\n\\n=== „Race“ ===\\...</td>\n",
       "      <td>41057</td>\n",
       "      <td>False</td>\n",
       "      <td>test</td>\n",
       "      <td>fast sieben Millionen</td>\n",
       "      <td>{'position_id': {'0': 0, '1': 1, '2': 2, '3': ...</td>\n",
       "    </tr>\n",
       "    <tr>\n",
       "      <th>36553</th>\n",
       "      <td>Wer wanderte nach North Carolina Anfang des 20...</td>\n",
       "      <td>[{'answer_id': 36895, 'document_id': 40789, 'q...</td>\n",
       "      <td>North_Carolina\\n\\n==== Europäische Amerikaner ...</td>\n",
       "      <td>40789</td>\n",
       "      <td>False</td>\n",
       "      <td>test</td>\n",
       "      <td>eine Gruppe orthodoxer Einwanderer aus der Ukr...</td>\n",
       "      <td>{'position_id': {'0': 0, '1': 1, '2': 2, '3': ...</td>\n",
       "    </tr>\n",
       "    <tr>\n",
       "      <th>36597</th>\n",
       "      <td>Was gehört zum Stadtkirchenverband Hannover?</td>\n",
       "      <td>[{'answer_id': 36938, 'document_id': 40797, 'q...</td>\n",
       "      <td>Hannover\\n\\n==== Evangelisch-lutherische Kirch...</td>\n",
       "      <td>40797</td>\n",
       "      <td>False</td>\n",
       "      <td>test</td>\n",
       "      <td>Alle landeskirchlichen evangelischen Kirchenge...</td>\n",
       "      <td>{'position_id': {'0': 0, '1': 1, '2': 2, '3': ...</td>\n",
       "    </tr>\n",
       "    <tr>\n",
       "      <th>37392</th>\n",
       "      <td>Wann starb Athanasius der Große?</td>\n",
       "      <td>[{'answer_id': 37749, 'document_id': 41075, 'q...</td>\n",
       "      <td>Athanasius_der_Große\\nGriechische Ikone, Titul...</td>\n",
       "      <td>41075</td>\n",
       "      <td>False</td>\n",
       "      <td>test</td>\n",
       "      <td>2. Mai 373</td>\n",
       "      <td>{'position_id': {'0': 0, '1': 1, '2': 2, '3': ...</td>\n",
       "    </tr>\n",
       "    <tr>\n",
       "      <th>37351</th>\n",
       "      <td>Welche Länder liegen östlich des Irans?</td>\n",
       "      <td>[{'answer_id': 37706, 'document_id': 41082, 'q...</td>\n",
       "      <td>Iran\\n\\n=== Antike und Mittelalter ===\\nDas he...</td>\n",
       "      <td>41082</td>\n",
       "      <td>False</td>\n",
       "      <td>test</td>\n",
       "      <td>Indien und China</td>\n",
       "      <td>{'position_id': {'0': 0, '1': 1, '2': 2, '3': ...</td>\n",
       "    </tr>\n",
       "  </tbody>\n",
       "</table>\n",
       "</div>"
      ],
      "text/plain": [
       "                                                question  \\\n",
       "37495  Wie viele Amerikaner fühlen sich mehr als eine...   \n",
       "36553  Wer wanderte nach North Carolina Anfang des 20...   \n",
       "36597       Was gehört zum Stadtkirchenverband Hannover?   \n",
       "37392                   Wann starb Athanasius der Große?   \n",
       "37351            Welche Länder liegen östlich des Irans?   \n",
       "\n",
       "                                                 answers  \\\n",
       "37495  [{'answer_id': 37854, 'document_id': 41057, 'q...   \n",
       "36553  [{'answer_id': 36895, 'document_id': 40789, 'q...   \n",
       "36597  [{'answer_id': 36938, 'document_id': 40797, 'q...   \n",
       "37392  [{'answer_id': 37749, 'document_id': 41075, 'q...   \n",
       "37351  [{'answer_id': 37706, 'document_id': 41082, 'q...   \n",
       "\n",
       "                                                 context  document_id  \\\n",
       "37495  Race__United_States_Census_\\n\\n=== „Race“ ===\\...        41057   \n",
       "36553  North_Carolina\\n\\n==== Europäische Amerikaner ...        40789   \n",
       "36597  Hannover\\n\\n==== Evangelisch-lutherische Kirch...        40797   \n",
       "37392  Athanasius_der_Große\\nGriechische Ikone, Titul...        41075   \n",
       "37351  Iran\\n\\n=== Antike und Mittelalter ===\\nDas he...        41082   \n",
       "\n",
       "       is_impossible usage                                         prediction  \\\n",
       "37495          False  test                              fast sieben Millionen   \n",
       "36553          False  test  eine Gruppe orthodoxer Einwanderer aus der Ukr...   \n",
       "36597          False  test  Alle landeskirchlichen evangelischen Kirchenge...   \n",
       "37392          False  test                                         2. Mai 373   \n",
       "37351          False  test                                   Indien und China   \n",
       "\n",
       "                                             explanation  \n",
       "37495  {'position_id': {'0': 0, '1': 1, '2': 2, '3': ...  \n",
       "36553  {'position_id': {'0': 0, '1': 1, '2': 2, '3': ...  \n",
       "36597  {'position_id': {'0': 0, '1': 1, '2': 2, '3': ...  \n",
       "37392  {'position_id': {'0': 0, '1': 1, '2': 2, '3': ...  \n",
       "37351  {'position_id': {'0': 0, '1': 1, '2': 2, '3': ...  "
      ]
     },
     "execution_count": 4,
     "metadata": {},
     "output_type": "execute_result"
    }
   ],
   "source": [
    "# load data\n",
    "data_df = pd.read_json(source_path_for_data)\n",
    "# data_df['explanation'] = [pd.DataFrame(exp) for exp in data_df['explanation'].tolist()]\n",
    "data_df.head()"
   ]
  },
  {
   "cell_type": "markdown",
   "id": "a822af66",
   "metadata": {},
   "source": [
    "## Method for comparing ground truth and prediction"
   ]
  },
  {
   "cell_type": "markdown",
   "id": "30688168",
   "metadata": {},
   "source": [
    "This Method is not perfect, since often the prediction is a bit shorter than the perfect answer, which markes it as wrong, where you could theoreticaly argue that it still pases as the correct answer.\n",
    "\n",
    "For example:\n",
    "\n",
    "    ID: 41685\n",
    "    question: \"Mit wem strebte Stalin laut Gerhard Weinberg vor dem 2. Weltkrieg ein Bündnis an?\"\n",
    "    prediction: \"Hitler\"\n",
    "    possible_answers: ['mit hitler', 'mit hitler']"
   ]
  },
  {
   "cell_type": "markdown",
   "id": "0d060841",
   "metadata": {},
   "source": [
    "For evaluation the prediction Excact Match (EM) is used. If the prediction does not exactly match one of the possible answers given for each question, it is classified as wrong. If not it is classified as correct. There is no middle ground where the prediction catches a subset of the correct answer (overlap)."
   ]
  },
  {
   "cell_type": "code",
   "execution_count": 5,
   "id": "42fe9e1a",
   "metadata": {},
   "outputs": [],
   "source": [
    "if False: # the following content was moved to get_data.py\n",
    "\n",
    "    def check_if_prediction_is_correct(row):\n",
    "\n",
    "        prediction = str.lower(row['prediction'])\n",
    "        possible_answers_list_of_dicts = row['answers']\n",
    "\n",
    "        possible_answers_list = [str.lower(answer_dict['text']) for answer_dict in possible_answers_list_of_dicts]\n",
    "\n",
    "        for possible_answer in possible_answers_list:\n",
    "\n",
    "            # decode data to reduce errors like \"−27\\xa0°C\" which should be \"−27 °C\"\n",
    "            possible_answer_decoded = unicodedata.normalize(\"NFKD\", possible_answer)\n",
    "\n",
    "            # also decode the prediction, just to make sure both have the same format\n",
    "            prediction_decoded = unicodedata.normalize(\"NFKD\", prediction)\n",
    "\n",
    "            if possible_answer_decoded == prediction_decoded:\n",
    "\n",
    "                return True\n",
    "\n",
    "        return False\n",
    "    data_df['prediction_correct'] = data_df.apply(lambda row: check_if_prediction_is_correct(row), axis=1)"
   ]
  },
  {
   "cell_type": "code",
   "execution_count": 6,
   "id": "733f5c35",
   "metadata": {},
   "outputs": [],
   "source": [
    "data_df = enhance_data_with_correctness_of_the_prediction(data_df)"
   ]
  },
  {
   "cell_type": "markdown",
   "id": "8ef41446",
   "metadata": {},
   "source": [
    "## Visualize data distribution"
   ]
  },
  {
   "cell_type": "code",
   "execution_count": 7,
   "id": "c34b89a0",
   "metadata": {},
   "outputs": [
    {
     "data": {
      "text/plain": [
       "<AxesSubplot:>"
      ]
     },
     "execution_count": 7,
     "metadata": {},
     "output_type": "execute_result"
    },
    {
     "data": {
      "image/png": "[encoded data removed]",
      "text/plain": [
       "<Figure size 432x288 with 1 Axes>"
      ]
     },
     "metadata": {
      "needs_background": "light"
     },
     "output_type": "display_data"
    }
   ],
   "source": [
    "data_df['prediction_correct'].value_counts().plot.bar()"
   ]
  }
 ],
 "metadata": {
  "kernelspec": {
   "display_name": "Python 3 (ipykernel)",
   "language": "python",
   "name": "python3"
  },
  "language_info": {
   "codemirror_mode": {
    "name": "ipython",
    "version": 3
   },
   "file_extension": ".py",
   "mimetype": "text/x-python",
   "name": "python",
   "nbconvert_exporter": "python",
   "pygments_lexer": "ipython3",
   "version": "3.9.12"
  }
 },
 "nbformat": 4,
 "nbformat_minor": 5
}
