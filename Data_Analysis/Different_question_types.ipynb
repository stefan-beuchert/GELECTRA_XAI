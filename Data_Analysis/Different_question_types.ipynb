{
 "cells": [
  {
   "cell_type": "markdown",
   "id": "2e3e1010",
   "metadata": {},
   "source": [
    "# Different question types"
   ]
  },
  {
   "cell_type": "code",
   "execution_count": 1,
   "id": "1844bd3e",
   "metadata": {},
   "outputs": [
    {
     "name": "stdout",
     "output_type": "stream",
     "text": [
      "/home/jupyter-stefan.beuchert/2022-11-26_version\n"
     ]
    }
   ],
   "source": [
    "%cd .."
   ]
  },
  {
   "cell_type": "code",
   "execution_count": 2,
   "id": "f66c93d3",
   "metadata": {},
   "outputs": [],
   "source": [
    "# config\n",
    "number_of_features = 10 # the default value\n",
    "number_of_samples = 5000 # the default value\n",
    "\n",
    "source_path_for_data = f'data/Data_Preparation/lime_ns_{number_of_samples}_nf_{number_of_features}_after_frequency_analysis.json'"
   ]
  },
  {
   "cell_type": "code",
   "execution_count": 3,
   "id": "4ed27654",
   "metadata": {},
   "outputs": [
    {
     "name": "stderr",
     "output_type": "stream",
     "text": [
      "/home/jupyter-stefan.beuchert/.local/lib/python3.9/site-packages/torch/cuda/__init__.py:497: UserWarning: Can't initialize NVML\n",
      "  warnings.warn(\"Can't initialize NVML\")\n",
      "/home/jupyter-stefan.beuchert/.local/lib/python3.9/site-packages/torch/cuda/__init__.py:529: UserWarning: CUDA initialization: Unexpected error from cudaGetDeviceCount(). Did you run some cuda functions before calling NumCudaDevices() that might have already set an error? Error 804: forward compatibility was attempted on non supported HW (Triggered internally at ../c10/cuda/CUDAFunctions.cpp:109.)\n",
      "  return torch._C._cuda_getDeviceCount() if nvml_count < 0 else nvml_count\n",
      "[nltk_data] Error loading averaged_perceptron_tagger: <urlopen error\n",
      "[nltk_data]     [Errno -3] Temporary failure in name resolution>\n",
      "[nltk_data] Error loading stopwords: <urlopen error [Errno -3]\n",
      "[nltk_data]     Temporary failure in name resolution>\n"
     ]
    }
   ],
   "source": [
    "from src.analyzer import sort_tokens_in_categories, get_frequencie, display_frequencies\n",
    "from src.ExplanationObjectForQuestionType import ExplanationObjectForQuestionType\n",
    "\n",
    "import pandas as pd\n",
    "import matplotlib.pyplot as plt"
   ]
  },
  {
   "cell_type": "code",
   "execution_count": 4,
   "id": "bedd9dc2",
   "metadata": {},
   "outputs": [
    {
     "data": {
      "text/html": [
       "<div>\n",
       "<style scoped>\n",
       "    .dataframe tbody tr th:only-of-type {\n",
       "        vertical-align: middle;\n",
       "    }\n",
       "\n",
       "    .dataframe tbody tr th {\n",
       "        vertical-align: top;\n",
       "    }\n",
       "\n",
       "    .dataframe thead th {\n",
       "        text-align: right;\n",
       "    }\n",
       "</style>\n",
       "<table border=\"1\" class=\"dataframe\">\n",
       "  <thead>\n",
       "    <tr style=\"text-align: right;\">\n",
       "      <th></th>\n",
       "      <th>question</th>\n",
       "      <th>answers</th>\n",
       "      <th>context</th>\n",
       "      <th>document_id</th>\n",
       "      <th>is_impossible</th>\n",
       "      <th>usage</th>\n",
       "      <th>prediction</th>\n",
       "      <th>explanation</th>\n",
       "    </tr>\n",
       "  </thead>\n",
       "  <tbody>\n",
       "    <tr>\n",
       "      <th>37495</th>\n",
       "      <td>Wie viele Amerikaner fühlen sich mehr als eine...</td>\n",
       "      <td>[{'answer_id': 37854, 'document_id': 41057, 'q...</td>\n",
       "      <td>Race__United_States_Census_\\n\\n=== „Race“ ===\\...</td>\n",
       "      <td>41057</td>\n",
       "      <td>False</td>\n",
       "      <td>test</td>\n",
       "      <td>fast sieben Millionen</td>\n",
       "      <td>position_id   lime_token question_or_cont...</td>\n",
       "    </tr>\n",
       "    <tr>\n",
       "      <th>36553</th>\n",
       "      <td>Wer wanderte nach North Carolina Anfang des 20...</td>\n",
       "      <td>[{'answer_id': 36895, 'document_id': 40789, 'q...</td>\n",
       "      <td>North_Carolina\\n\\n==== Europäische Amerikaner ...</td>\n",
       "      <td>40789</td>\n",
       "      <td>False</td>\n",
       "      <td>test</td>\n",
       "      <td>eine Gruppe orthodoxer Einwanderer aus der Ukr...</td>\n",
       "      <td>position_id lime_token question_or_contex...</td>\n",
       "    </tr>\n",
       "    <tr>\n",
       "      <th>36597</th>\n",
       "      <td>Was gehört zum Stadtkirchenverband Hannover?</td>\n",
       "      <td>[{'answer_id': 36938, 'document_id': 40797, 'q...</td>\n",
       "      <td>Hannover\\n\\n==== Evangelisch-lutherische Kirch...</td>\n",
       "      <td>40797</td>\n",
       "      <td>False</td>\n",
       "      <td>test</td>\n",
       "      <td>Alle landeskirchlichen evangelischen Kirchenge...</td>\n",
       "      <td>position_id           lime_token question...</td>\n",
       "    </tr>\n",
       "    <tr>\n",
       "      <th>37392</th>\n",
       "      <td>Wann starb Athanasius der Große?</td>\n",
       "      <td>[{'answer_id': 37749, 'document_id': 41075, 'q...</td>\n",
       "      <td>Athanasius_der_Große\\nGriechische Ikone, Titul...</td>\n",
       "      <td>41075</td>\n",
       "      <td>False</td>\n",
       "      <td>test</td>\n",
       "      <td>2. Mai 373</td>\n",
       "      <td>position_id    lime_token question_or_con...</td>\n",
       "    </tr>\n",
       "    <tr>\n",
       "      <th>37351</th>\n",
       "      <td>Welche Länder liegen östlich des Irans?</td>\n",
       "      <td>[{'answer_id': 37706, 'document_id': 41082, 'q...</td>\n",
       "      <td>Iran\\n\\n=== Antike und Mittelalter ===\\nDas he...</td>\n",
       "      <td>41082</td>\n",
       "      <td>False</td>\n",
       "      <td>test</td>\n",
       "      <td>Indien und China</td>\n",
       "      <td>position_id  lime_token question_or_conte...</td>\n",
       "    </tr>\n",
       "  </tbody>\n",
       "</table>\n",
       "</div>"
      ],
      "text/plain": [
       "                                                question  \\\n",
       "37495  Wie viele Amerikaner fühlen sich mehr als eine...   \n",
       "36553  Wer wanderte nach North Carolina Anfang des 20...   \n",
       "36597       Was gehört zum Stadtkirchenverband Hannover?   \n",
       "37392                   Wann starb Athanasius der Große?   \n",
       "37351            Welche Länder liegen östlich des Irans?   \n",
       "\n",
       "                                                 answers  \\\n",
       "37495  [{'answer_id': 37854, 'document_id': 41057, 'q...   \n",
       "36553  [{'answer_id': 36895, 'document_id': 40789, 'q...   \n",
       "36597  [{'answer_id': 36938, 'document_id': 40797, 'q...   \n",
       "37392  [{'answer_id': 37749, 'document_id': 41075, 'q...   \n",
       "37351  [{'answer_id': 37706, 'document_id': 41082, 'q...   \n",
       "\n",
       "                                                 context  document_id  \\\n",
       "37495  Race__United_States_Census_\\n\\n=== „Race“ ===\\...        41057   \n",
       "36553  North_Carolina\\n\\n==== Europäische Amerikaner ...        40789   \n",
       "36597  Hannover\\n\\n==== Evangelisch-lutherische Kirch...        40797   \n",
       "37392  Athanasius_der_Große\\nGriechische Ikone, Titul...        41075   \n",
       "37351  Iran\\n\\n=== Antike und Mittelalter ===\\nDas he...        41082   \n",
       "\n",
       "       is_impossible usage                                         prediction  \\\n",
       "37495          False  test                              fast sieben Millionen   \n",
       "36553          False  test  eine Gruppe orthodoxer Einwanderer aus der Ukr...   \n",
       "36597          False  test  Alle landeskirchlichen evangelischen Kirchenge...   \n",
       "37392          False  test                                         2. Mai 373   \n",
       "37351          False  test                                   Indien und China   \n",
       "\n",
       "                                             explanation  \n",
       "37495       position_id   lime_token question_or_cont...  \n",
       "36553       position_id lime_token question_or_contex...  \n",
       "36597       position_id           lime_token question...  \n",
       "37392       position_id    lime_token question_or_con...  \n",
       "37351       position_id  lime_token question_or_conte...  "
      ]
     },
     "execution_count": 4,
     "metadata": {},
     "output_type": "execute_result"
    }
   ],
   "source": [
    "# load data\n",
    "data_df = pd.read_json(source_path_for_data)\n",
    "data_df['explanation'] = [pd.DataFrame(exp) for exp in data_df['explanation'].tolist()]\n",
    "data_df.head()"
   ]
  },
  {
   "cell_type": "markdown",
   "id": "82f246d0",
   "metadata": {},
   "source": [
    "## Prepare Data"
   ]
  },
  {
   "cell_type": "code",
   "execution_count": 5,
   "id": "d7753073",
   "metadata": {},
   "outputs": [],
   "source": [
    "# split into question types\n",
    "def identify_question_type(question):\n",
    "    question = question.lower()\n",
    "    if question[-1] == '?': question = question[:-1] # remove '?' from question (if there is one)\n",
    "    \n",
    "    question_type = None\n",
    "    \n",
    "    # check for 'wie viel' as the only w-question that contains two 2 tokens\n",
    "    if 'wie viel' in question:\n",
    "        question_type = 'wie viel'\n",
    "    \n",
    "    # if 'wie viel' is identified, no need to check for other question words\n",
    "    else:\n",
    "        # split question into tokens\n",
    "        question_tokens = question.split(' ')\n",
    "        \n",
    "        # turns out that all questions have the question word at the beginning of the question.\n",
    "        # therefore we only have to look at the first token\n",
    "        # question_tokens = [question_tokens[0]]\n",
    "\n",
    "        question_words_list = [\n",
    "            # https://de.wikipedia.org/wiki/W-Wort\n",
    "            'wer', 'welche', 'welcher',\n",
    "            'wem', 'wen', 'welchen', 'welchem',\n",
    "            'wessen',\n",
    "            'was', 'welches',\n",
    "            'warum', 'weshalb', 'weswegen', 'wieso',\n",
    "            'wie', 'wieweit', #'wie viel'\n",
    "            'wofür', 'wozu', 'womit', 'wodurch', 'worum', 'worüber', 'wobei', 'wovon', 'woraus',\n",
    "            'wo', 'wogegen',\n",
    "            'wohin', 'woher',\n",
    "            'woran', 'worin', 'worauf', 'worunter', 'wovor', 'wohinter', 'woneben',\n",
    "            'wann',\n",
    "            # below words that have been added by looking at the questions that are not covered by the word above\n",
    "            'wonach', 'inwiefern' \n",
    "        ]\n",
    "\n",
    "        # check for other w-quetions\n",
    "        for question_word in question_words_list:\n",
    "            if question_word in question_tokens:\n",
    "                if (question_type is not None):\n",
    "                    #print(f'{question} - has multiple question types')\n",
    "                    question_type = 'conflict'\n",
    "                else:\n",
    "                    question_type = question_word\n",
    "    \n",
    "    if question_type is None:\n",
    "        print(f'{question} - has no question type')\n",
    "        question_type = 'undefined'\n",
    "        \n",
    "    if question_type is None:\n",
    "        print(i)\n",
    "    return question_type"
   ]
  },
  {
   "cell_type": "code",
   "execution_count": 6,
   "id": "e20c51be",
   "metadata": {},
   "outputs": [
    {
     "name": "stdout",
     "output_type": "stream",
     "text": [
      "gibt es immer noch kohlenfadenlampen - has no question type\n",
      "zum wievielten mal hintereinander stand der fc everton 1986 im fa cup finale - has no question type\n",
      "ist usb mit atari mint benutzbar - has no question type\n",
      "war die glorious revolution gewaltsam - has no question type\n",
      "in wiefern erweiterte rudolf clausius das verständnis von energie und wärme - has no question type\n",
      "haben wir im moment eine warm- oder kaltzeit - has no question type\n",
      "war die republik der vereinigten niederlande ein zentralstaat - has no question type\n",
      "ist frankreich offensiv, oder defensiv an den deutsch-französischen-krieg herangegangen - has no question type\n",
      "sind usb 3.0.stecker mit älteren typen kompatibel - has no question type\n",
      "müssen hunde gegen tollwut geimpft werden - has no question type\n",
      "ist in englischen pubs das rauchen erlaubt - has no question type\n",
      "ist kupfer gesundheitsschädlich - has no question type\n",
      "liegt bildung im aufgabenbereich der verwaltungsbezirke von melbourne oder beim bundesstaat - has no question type\n",
      "welhce teile von straßburg sind unesco-weltkulturerbe - has no question type\n",
      "kann zink durchfall auslösen - has no question type\n",
      "kann man eine laserdisc als cd benutzen - has no question type\n",
      "ist die northwestern eine private oder staatliche universität - has no question type\n",
      "können bakterien photosynthese betreiben - has no question type\n",
      "wan war elisabeth ii. das erste mal im \"time\" magazin auf der titelseite - has no question type\n",
      "kann man der us-army ohne high-school-abschluss beitreten - has no question type\n",
      "er war 2015 italienischer finanzminister - has no question type\n",
      "haben tiere im vergleich zu menschen oft einen herzinfakt - has no question type\n",
      "können sich schalwellen im vakuum ausbreiten - has no question type\n",
      "sind emotionen oder stimmungen eher durch einen bestimmten reiz ausgelöst - has no question type\n",
      "kann man usb-anschlüsse mit dos benutzen - has no question type\n"
     ]
    }
   ],
   "source": [
    "question_list = data_df['question'].tolist()\n",
    "question_type_list = [identify_question_type(q) for q in question_list]\n",
    "data_df['question_type'] = question_type_list"
   ]
  },
  {
   "cell_type": "code",
   "execution_count": 7,
   "id": "1921e3e9",
   "metadata": {},
   "outputs": [
    {
     "data": {
      "text/html": [
       "<div>\n",
       "<style scoped>\n",
       "    .dataframe tbody tr th:only-of-type {\n",
       "        vertical-align: middle;\n",
       "    }\n",
       "\n",
       "    .dataframe tbody tr th {\n",
       "        vertical-align: top;\n",
       "    }\n",
       "\n",
       "    .dataframe thead th {\n",
       "        text-align: right;\n",
       "    }\n",
       "</style>\n",
       "<table border=\"1\" class=\"dataframe\">\n",
       "  <thead>\n",
       "    <tr style=\"text-align: right;\">\n",
       "      <th></th>\n",
       "      <th>question</th>\n",
       "      <th>answers</th>\n",
       "      <th>context</th>\n",
       "      <th>document_id</th>\n",
       "      <th>is_impossible</th>\n",
       "      <th>usage</th>\n",
       "      <th>prediction</th>\n",
       "      <th>explanation</th>\n",
       "      <th>question_type</th>\n",
       "    </tr>\n",
       "  </thead>\n",
       "  <tbody>\n",
       "    <tr>\n",
       "      <th>37495</th>\n",
       "      <td>Wie viele Amerikaner fühlen sich mehr als eine...</td>\n",
       "      <td>[{'answer_id': 37854, 'document_id': 41057, 'q...</td>\n",
       "      <td>Race__United_States_Census_\\n\\n=== „Race“ ===\\...</td>\n",
       "      <td>41057</td>\n",
       "      <td>False</td>\n",
       "      <td>test</td>\n",
       "      <td>fast sieben Millionen</td>\n",
       "      <td>position_id   lime_token question_or_cont...</td>\n",
       "      <td>wie viel</td>\n",
       "    </tr>\n",
       "    <tr>\n",
       "      <th>36553</th>\n",
       "      <td>Wer wanderte nach North Carolina Anfang des 20...</td>\n",
       "      <td>[{'answer_id': 36895, 'document_id': 40789, 'q...</td>\n",
       "      <td>North_Carolina\\n\\n==== Europäische Amerikaner ...</td>\n",
       "      <td>40789</td>\n",
       "      <td>False</td>\n",
       "      <td>test</td>\n",
       "      <td>eine Gruppe orthodoxer Einwanderer aus der Ukr...</td>\n",
       "      <td>position_id lime_token question_or_contex...</td>\n",
       "      <td>wer</td>\n",
       "    </tr>\n",
       "    <tr>\n",
       "      <th>36597</th>\n",
       "      <td>Was gehört zum Stadtkirchenverband Hannover?</td>\n",
       "      <td>[{'answer_id': 36938, 'document_id': 40797, 'q...</td>\n",
       "      <td>Hannover\\n\\n==== Evangelisch-lutherische Kirch...</td>\n",
       "      <td>40797</td>\n",
       "      <td>False</td>\n",
       "      <td>test</td>\n",
       "      <td>Alle landeskirchlichen evangelischen Kirchenge...</td>\n",
       "      <td>position_id           lime_token question...</td>\n",
       "      <td>was</td>\n",
       "    </tr>\n",
       "    <tr>\n",
       "      <th>37392</th>\n",
       "      <td>Wann starb Athanasius der Große?</td>\n",
       "      <td>[{'answer_id': 37749, 'document_id': 41075, 'q...</td>\n",
       "      <td>Athanasius_der_Große\\nGriechische Ikone, Titul...</td>\n",
       "      <td>41075</td>\n",
       "      <td>False</td>\n",
       "      <td>test</td>\n",
       "      <td>2. Mai 373</td>\n",
       "      <td>position_id    lime_token question_or_con...</td>\n",
       "      <td>wann</td>\n",
       "    </tr>\n",
       "    <tr>\n",
       "      <th>37351</th>\n",
       "      <td>Welche Länder liegen östlich des Irans?</td>\n",
       "      <td>[{'answer_id': 37706, 'document_id': 41082, 'q...</td>\n",
       "      <td>Iran\\n\\n=== Antike und Mittelalter ===\\nDas he...</td>\n",
       "      <td>41082</td>\n",
       "      <td>False</td>\n",
       "      <td>test</td>\n",
       "      <td>Indien und China</td>\n",
       "      <td>position_id  lime_token question_or_conte...</td>\n",
       "      <td>welche</td>\n",
       "    </tr>\n",
       "  </tbody>\n",
       "</table>\n",
       "</div>"
      ],
      "text/plain": [
       "                                                question  \\\n",
       "37495  Wie viele Amerikaner fühlen sich mehr als eine...   \n",
       "36553  Wer wanderte nach North Carolina Anfang des 20...   \n",
       "36597       Was gehört zum Stadtkirchenverband Hannover?   \n",
       "37392                   Wann starb Athanasius der Große?   \n",
       "37351            Welche Länder liegen östlich des Irans?   \n",
       "\n",
       "                                                 answers  \\\n",
       "37495  [{'answer_id': 37854, 'document_id': 41057, 'q...   \n",
       "36553  [{'answer_id': 36895, 'document_id': 40789, 'q...   \n",
       "36597  [{'answer_id': 36938, 'document_id': 40797, 'q...   \n",
       "37392  [{'answer_id': 37749, 'document_id': 41075, 'q...   \n",
       "37351  [{'answer_id': 37706, 'document_id': 41082, 'q...   \n",
       "\n",
       "                                                 context  document_id  \\\n",
       "37495  Race__United_States_Census_\\n\\n=== „Race“ ===\\...        41057   \n",
       "36553  North_Carolina\\n\\n==== Europäische Amerikaner ...        40789   \n",
       "36597  Hannover\\n\\n==== Evangelisch-lutherische Kirch...        40797   \n",
       "37392  Athanasius_der_Große\\nGriechische Ikone, Titul...        41075   \n",
       "37351  Iran\\n\\n=== Antike und Mittelalter ===\\nDas he...        41082   \n",
       "\n",
       "       is_impossible usage                                         prediction  \\\n",
       "37495          False  test                              fast sieben Millionen   \n",
       "36553          False  test  eine Gruppe orthodoxer Einwanderer aus der Ukr...   \n",
       "36597          False  test  Alle landeskirchlichen evangelischen Kirchenge...   \n",
       "37392          False  test                                         2. Mai 373   \n",
       "37351          False  test                                   Indien und China   \n",
       "\n",
       "                                             explanation question_type  \n",
       "37495       position_id   lime_token question_or_cont...      wie viel  \n",
       "36553       position_id lime_token question_or_contex...           wer  \n",
       "36597       position_id           lime_token question...           was  \n",
       "37392       position_id    lime_token question_or_con...          wann  \n",
       "37351       position_id  lime_token question_or_conte...        welche  "
      ]
     },
     "execution_count": 7,
     "metadata": {},
     "output_type": "execute_result"
    }
   ],
   "source": [
    "data_df.head()"
   ]
  },
  {
   "cell_type": "markdown",
   "id": "3077995d",
   "metadata": {},
   "source": [
    "## Visualize W-Word distribution"
   ]
  },
  {
   "cell_type": "code",
   "execution_count": 8,
   "id": "fdba6a84",
   "metadata": {},
   "outputs": [
    {
     "name": "stdout",
     "output_type": "stream",
     "text": [
      "   question_type  count\n",
      "5            was    441\n",
      "17           wie    249\n",
      "3           wann    247\n",
      "6         welche    243\n",
      "13           wer    188\n",
      "18      wie viel    154\n",
      "9        welcher    106\n",
      "20            wo    102\n",
      "7        welchem     75\n",
      "4          warum     73\n",
      "10       welches     62\n",
      "8        welchen     57\n",
      "19         wieso     31\n",
      "2      undefined     25\n",
      "22         wofür     19\n",
      "11           wem     18\n",
      "0       conflict     16\n",
      "33          wozu     10\n",
      "23         woher      9\n",
      "21       wodurch      8\n",
      "12           wen      7\n",
      "24         wohin      6\n",
      "32         wovon      5\n",
      "27         woran      4\n",
      "1      inwiefern      4\n",
      "15        wessen      4\n",
      "16      weswegen      2\n",
      "26        wonach      2\n",
      "14       weshalb      2\n",
      "28        woraus      2\n",
      "30         worum      2\n",
      "29         worin      1\n",
      "31       worüber      1\n",
      "25         womit      1\n"
     ]
    },
    {
     "data": {
      "text/plain": [
       "<AxesSubplot: xlabel='question_type'>"
      ]
     },
     "execution_count": 8,
     "metadata": {},
     "output_type": "execute_result"
    },
    {
     "data": {
      "image/png": "[encoded data removed]",
      "text/plain": [
       "<Figure size 432x288 with 1 Axes>"
      ]
     },
     "metadata": {
      "needs_background": "light"
     },
     "output_type": "display_data"
    }
   ],
   "source": [
    "df_for_bar_chart = data_df.groupby(['question_type'])['question_type'].count().reset_index(name='count').sort_values(['count'], ascending=False)\n",
    "print(df_for_bar_chart)\n",
    "df_for_bar_chart.plot(kind = 'bar', x = 'question_type')"
   ]
  },
  {
   "cell_type": "markdown",
   "id": "f0a18ce7",
   "metadata": {},
   "source": [
    "### Deep dive 'was'"
   ]
  },
  {
   "cell_type": "code",
   "execution_count": 9,
   "id": "005f3588",
   "metadata": {},
   "outputs": [
    {
     "data": {
      "text/html": [
       "<div>\n",
       "<style scoped>\n",
       "    .dataframe tbody tr th:only-of-type {\n",
       "        vertical-align: middle;\n",
       "    }\n",
       "\n",
       "    .dataframe tbody tr th {\n",
       "        vertical-align: top;\n",
       "    }\n",
       "\n",
       "    .dataframe thead th {\n",
       "        text-align: right;\n",
       "    }\n",
       "</style>\n",
       "<table border=\"1\" class=\"dataframe\">\n",
       "  <thead>\n",
       "    <tr style=\"text-align: right;\">\n",
       "      <th></th>\n",
       "      <th>question</th>\n",
       "      <th>answers</th>\n",
       "      <th>context</th>\n",
       "      <th>document_id</th>\n",
       "      <th>is_impossible</th>\n",
       "      <th>usage</th>\n",
       "      <th>prediction</th>\n",
       "      <th>explanation</th>\n",
       "      <th>question_type</th>\n",
       "    </tr>\n",
       "  </thead>\n",
       "  <tbody>\n",
       "    <tr>\n",
       "      <th>38607</th>\n",
       "      <td>Wo in der Schweiz wird Fronleichnam gefeiert?</td>\n",
       "      <td>[{'answer_id': 39010, 'document_id': 40720, 'q...</td>\n",
       "      <td>Schweiz\\n\\n=== Feiertage ===\\nIn der Schweiz i...</td>\n",
       "      <td>40720</td>\n",
       "      <td>False</td>\n",
       "      <td>test</td>\n",
       "      <td>nur in den katholischen Kantonen</td>\n",
       "      <td>position_id  lime_token question_or_conte...</td>\n",
       "      <td>wo</td>\n",
       "    </tr>\n",
       "    <tr>\n",
       "      <th>37367</th>\n",
       "      <td>Wo kann man Rettungshundeprüfungen machen?</td>\n",
       "      <td>[{'answer_id': 37722, 'document_id': 40682, 'q...</td>\n",
       "      <td>Haushund\\n\\n==== Sonstiges ====\\nEine Verpflic...</td>\n",
       "      <td>40682</td>\n",
       "      <td>False</td>\n",
       "      <td>test</td>\n",
       "      <td>nur in einer zugelassenen Rettungshundestaffel</td>\n",
       "      <td>position_id              lime_token quest...</td>\n",
       "      <td>wo</td>\n",
       "    </tr>\n",
       "    <tr>\n",
       "      <th>41483</th>\n",
       "      <td>Wo in Hannover stehen die Skulpturen von Niki ...</td>\n",
       "      <td>[{'answer_id': 43108, 'document_id': 40764, 'q...</td>\n",
       "      <td>Hannover\\n\\n=== Denkmale, Mahnmale und Straßen...</td>\n",
       "      <td>40764</td>\n",
       "      <td>False</td>\n",
       "      <td>test</td>\n",
       "      <td>am Leibnizufer</td>\n",
       "      <td>position_id    lime_token question_or_con...</td>\n",
       "      <td>wo</td>\n",
       "    </tr>\n",
       "  </tbody>\n",
       "</table>\n",
       "</div>"
      ],
      "text/plain": [
       "                                                question  \\\n",
       "38607      Wo in der Schweiz wird Fronleichnam gefeiert?   \n",
       "37367         Wo kann man Rettungshundeprüfungen machen?   \n",
       "41483  Wo in Hannover stehen die Skulpturen von Niki ...   \n",
       "\n",
       "                                                 answers  \\\n",
       "38607  [{'answer_id': 39010, 'document_id': 40720, 'q...   \n",
       "37367  [{'answer_id': 37722, 'document_id': 40682, 'q...   \n",
       "41483  [{'answer_id': 43108, 'document_id': 40764, 'q...   \n",
       "\n",
       "                                                 context  document_id  \\\n",
       "38607  Schweiz\\n\\n=== Feiertage ===\\nIn der Schweiz i...        40720   \n",
       "37367  Haushund\\n\\n==== Sonstiges ====\\nEine Verpflic...        40682   \n",
       "41483  Hannover\\n\\n=== Denkmale, Mahnmale und Straßen...        40764   \n",
       "\n",
       "       is_impossible usage                                      prediction  \\\n",
       "38607          False  test                nur in den katholischen Kantonen   \n",
       "37367          False  test  nur in einer zugelassenen Rettungshundestaffel   \n",
       "41483          False  test                                  am Leibnizufer   \n",
       "\n",
       "                                             explanation question_type  \n",
       "38607       position_id  lime_token question_or_conte...            wo  \n",
       "37367       position_id              lime_token quest...            wo  \n",
       "41483       position_id    lime_token question_or_con...            wo  "
      ]
     },
     "execution_count": 9,
     "metadata": {},
     "output_type": "execute_result"
    }
   ],
   "source": [
    "was_questions = data_df[data_df['question_type'] == 'wo']\n",
    "was_questions.head(3)"
   ]
  },
  {
   "cell_type": "code",
   "execution_count": 10,
   "id": "f71c809b",
   "metadata": {},
   "outputs": [
    {
     "name": "stdout",
     "output_type": "stream",
     "text": [
      "out of 102 data points, 8 have been deleted, because GELECTRA could not finde a sufficent answer. 94 data point remaining\n"
     ]
    },
    {
     "name": "stderr",
     "output_type": "stream",
     "text": [
      "/home/jupyter-stefan.beuchert/2022-11-26_version/src/ExplanationObjectForQuestionType.py:63: SettingWithCopyWarning: \n",
      "A value is trying to be set on a copy of a slice from a DataFrame.\n",
      "Try using .loc[row_indexer,col_indexer] = value instead\n",
      "\n",
      "See the caveats in the documentation: https://pandas.pydata.org/pandas-docs/stable/user_guide/indexing.html#returning-a-view-versus-a-copy\n",
      "  answer_context_df['prediction_length'] = answer_context_df.apply(\n",
      "/home/jupyter-stefan.beuchert/2022-11-26_version/src/ExplanationObjectForQuestionType.py:66: SettingWithCopyWarning: \n",
      "A value is trying to be set on a copy of a slice from a DataFrame.\n",
      "Try using .loc[row_indexer,col_indexer] = value instead\n",
      "\n",
      "See the caveats in the documentation: https://pandas.pydata.org/pandas-docs/stable/user_guide/indexing.html#returning-a-view-versus-a-copy\n",
      "  answer_context_df['context_length'] = answer_context_df.apply(lambda row: len(row['context'].split()), axis = 1)\n"
     ]
    },
    {
     "data": {
      "image/png": "[encoded data removed]",
      "text/plain": [
       "<Figure size 432x288 with 1 Axes>"
      ]
     },
     "metadata": {
      "needs_background": "light"
     },
     "output_type": "display_data"
    }
   ],
   "source": [
    "was_explanation = ExplanationObjectForQuestionType('was', was_questions)"
   ]
  },
  {
   "cell_type": "code",
   "execution_count": 12,
   "id": "4fd305e2",
   "metadata": {},
   "outputs": [],
   "source": [
    "#was_explanation.visualize()"
   ]
  },
  {
   "cell_type": "code",
   "execution_count": null,
   "id": "6d401c61",
   "metadata": {},
   "outputs": [],
   "source": []
  },
  {
   "cell_type": "code",
   "execution_count": null,
   "id": "65f82fc7",
   "metadata": {},
   "outputs": [],
   "source": []
  },
  {
   "cell_type": "code",
   "execution_count": null,
   "id": "d1b9e0f9",
   "metadata": {},
   "outputs": [],
   "source": []
  },
  {
   "cell_type": "code",
   "execution_count": null,
   "id": "692aed38",
   "metadata": {},
   "outputs": [],
   "source": []
  },
  {
   "cell_type": "code",
   "execution_count": null,
   "id": "da1832a4",
   "metadata": {},
   "outputs": [],
   "source": []
  },
  {
   "cell_type": "code",
   "execution_count": null,
   "id": "592b6499",
   "metadata": {},
   "outputs": [],
   "source": []
  },
  {
   "cell_type": "code",
   "execution_count": null,
   "id": "c910ee2a",
   "metadata": {},
   "outputs": [],
   "source": []
  },
  {
   "cell_type": "code",
   "execution_count": 13,
   "id": "9595b67a",
   "metadata": {},
   "outputs": [],
   "source": [
    "was_question_tokens_with_weights_dict = sort_tokens_in_categories(was_questions['explanation'].tolist())"
   ]
  },
  {
   "cell_type": "code",
   "execution_count": 14,
   "id": "8d8fa892",
   "metadata": {},
   "outputs": [],
   "source": [
    "# number of data points\n",
    "number_of_datapoints = len(was_questions)\n",
    "percentile_1 = int(number_of_datapoints * 0.01)\n",
    "percentile_5 = int(number_of_datapoints * 0.05)\n",
    "percentile_10 = int(number_of_datapoints * 0.1)"
   ]
  },
  {
   "cell_type": "code",
   "execution_count": 15,
   "id": "e6093dc2",
   "metadata": {},
   "outputs": [],
   "source": [
    "# Exploring the properties of LIME explanations in context of the \"what\" questions\n",
    "\n",
    "# answer lengths"
   ]
  },
  {
   "cell_type": "markdown",
   "id": "68db7c00",
   "metadata": {},
   "source": [
    "#### answer length"
   ]
  },
  {
   "cell_type": "code",
   "execution_count": 16,
   "id": "918bd8cd",
   "metadata": {},
   "outputs": [
    {
     "name": "stdout",
     "output_type": "stream",
     "text": [
      "102\n",
      "94\n",
      "[1, 21]\n"
     ]
    },
    {
     "name": "stderr",
     "output_type": "stream",
     "text": [
      "/tmp/ipykernel_628407/4239716078.py:2: SettingWithCopyWarning: \n",
      "A value is trying to be set on a copy of a slice from a DataFrame.\n",
      "Try using .loc[row_indexer,col_indexer] = value instead\n",
      "\n",
      "See the caveats in the documentation: https://pandas.pydata.org/pandas-docs/stable/user_guide/indexing.html#returning-a-view-versus-a-copy\n",
      "  answer_context_df['prediction_length'] = answer_context_df.apply(lambda row: len(row['prediction'].split()), axis = 1)\n",
      "/tmp/ipykernel_628407/4239716078.py:3: SettingWithCopyWarning: \n",
      "A value is trying to be set on a copy of a slice from a DataFrame.\n",
      "Try using .loc[row_indexer,col_indexer] = value instead\n",
      "\n",
      "See the caveats in the documentation: https://pandas.pydata.org/pandas-docs/stable/user_guide/indexing.html#returning-a-view-versus-a-copy\n",
      "  answer_context_df['context_length'] = answer_context_df.apply(lambda row: len(row['context'].split()), axis = 1)\n"
     ]
    },
    {
     "data": {
      "image/png": "[encoded data removed]",
      "text/plain": [
       "<Figure size 432x288 with 1 Axes>"
      ]
     },
     "metadata": {
      "needs_background": "light"
     },
     "output_type": "display_data"
    }
   ],
   "source": [
    "answer_context_df = was_questions[['prediction', 'context']]\n",
    "answer_context_df['prediction_length'] = answer_context_df.apply(lambda row: len(row['prediction'].split()), axis = 1)\n",
    "answer_context_df['context_length'] = answer_context_df.apply(lambda row: len(row['context'].split()), axis = 1)\n",
    "\n",
    "print(len(answer_context_df))\n",
    "\n",
    "relevant_answer_lengths_df = answer_context_df[(answer_context_df['prediction_length'] > 0) \n",
    "                                            & (answer_context_df['prediction_length'] < answer_context_df['context_length'])]\n",
    "\n",
    "print(len(relevant_answer_lengths_df))\n",
    "\n",
    "# relevant_answer_lengths.groupby(['prediction_length']).size().plot(kind = \"bar\", xlabel = 'token length', ylabel = 'occurences')\n",
    "box_plot_answer_lengths = plt.boxplot(relevant_answer_lengths_df['prediction_length'].tolist())\n",
    "print([int(item.get_ydata()[1]) for item in box_plot_answer_lengths['whiskers']])\n",
    "\n",
    "#token_count_answer_list = [len(answer.split()) for answer in answer_list]"
   ]
  },
  {
   "cell_type": "code",
   "execution_count": 17,
   "id": "44ea372a",
   "metadata": {},
   "outputs": [],
   "source": [
    "def get_relevant_data(self, data):\n",
    "    answer_context_df = data[['prediction', 'context']]\n",
    "    answer_context_df['prediction_length'] = answer_context_df.apply(lambda row: len(row['prediction'].split()), axis = 1)\n",
    "    answer_context_df['context_length'] = answer_context_df.apply(lambda row: len(row['context'].split()), axis = 1)\n",
    "    \n",
    "    \n",
    "\n",
    "    relevant_answer_lengths_df = answer_context_df[(answer_context_df['prediction_length'] > 0) \n",
    "                                                   & (answer_context_df['prediction_length'] < answer_context_df['context_length'])]\n",
    "    \n",
    "    print(f'out of {len(answer_context_df)} data points, {len(answer_context_df) - len(relevant_answer_lengths_df)} have been deleted,\\n because GELECTRA could not finde a sufficent answer. \\n {len(relevant_answer_lengths_df)} data point remaining')\n",
    "    \n",
    "    return relevant_answer_lengths_df"
   ]
  },
  {
   "cell_type": "code",
   "execution_count": 18,
   "id": "d34efef3",
   "metadata": {},
   "outputs": [
    {
     "data": {
      "text/html": [
       "<div>\n",
       "<style scoped>\n",
       "    .dataframe tbody tr th:only-of-type {\n",
       "        vertical-align: middle;\n",
       "    }\n",
       "\n",
       "    .dataframe tbody tr th {\n",
       "        vertical-align: top;\n",
       "    }\n",
       "\n",
       "    .dataframe thead th {\n",
       "        text-align: right;\n",
       "    }\n",
       "</style>\n",
       "<table border=\"1\" class=\"dataframe\">\n",
       "  <thead>\n",
       "    <tr style=\"text-align: right;\">\n",
       "      <th></th>\n",
       "      <th>question</th>\n",
       "      <th>answers</th>\n",
       "      <th>context</th>\n",
       "      <th>document_id</th>\n",
       "      <th>is_impossible</th>\n",
       "      <th>usage</th>\n",
       "      <th>prediction</th>\n",
       "      <th>explanation</th>\n",
       "      <th>question_type</th>\n",
       "    </tr>\n",
       "  </thead>\n",
       "  <tbody>\n",
       "    <tr>\n",
       "      <th>38607</th>\n",
       "      <td>Wo in der Schweiz wird Fronleichnam gefeiert?</td>\n",
       "      <td>[{'answer_id': 39010, 'document_id': 40720, 'q...</td>\n",
       "      <td>Schweiz\\n\\n=== Feiertage ===\\nIn der Schweiz i...</td>\n",
       "      <td>40720</td>\n",
       "      <td>False</td>\n",
       "      <td>test</td>\n",
       "      <td>nur in den katholischen Kantonen</td>\n",
       "      <td>position_id  lime_token question_or_conte...</td>\n",
       "      <td>wo</td>\n",
       "    </tr>\n",
       "    <tr>\n",
       "      <th>37367</th>\n",
       "      <td>Wo kann man Rettungshundeprüfungen machen?</td>\n",
       "      <td>[{'answer_id': 37722, 'document_id': 40682, 'q...</td>\n",
       "      <td>Haushund\\n\\n==== Sonstiges ====\\nEine Verpflic...</td>\n",
       "      <td>40682</td>\n",
       "      <td>False</td>\n",
       "      <td>test</td>\n",
       "      <td>nur in einer zugelassenen Rettungshundestaffel</td>\n",
       "      <td>position_id              lime_token quest...</td>\n",
       "      <td>wo</td>\n",
       "    </tr>\n",
       "    <tr>\n",
       "      <th>41483</th>\n",
       "      <td>Wo in Hannover stehen die Skulpturen von Niki ...</td>\n",
       "      <td>[{'answer_id': 43108, 'document_id': 40764, 'q...</td>\n",
       "      <td>Hannover\\n\\n=== Denkmale, Mahnmale und Straßen...</td>\n",
       "      <td>40764</td>\n",
       "      <td>False</td>\n",
       "      <td>test</td>\n",
       "      <td>am Leibnizufer</td>\n",
       "      <td>position_id    lime_token question_or_con...</td>\n",
       "      <td>wo</td>\n",
       "    </tr>\n",
       "    <tr>\n",
       "      <th>37225</th>\n",
       "      <td>Wo wurde der Prototyp von HDTV mit vierfacher ...</td>\n",
       "      <td>[{'answer_id': 37576, 'document_id': 40677, 'q...</td>\n",
       "      <td>High_Definition_Television\\n\\n== Weiterentwick...</td>\n",
       "      <td>40677</td>\n",
       "      <td>False</td>\n",
       "      <td>test</td>\n",
       "      <td>Auf der CeBIT 2006</td>\n",
       "      <td>position_id        lime_token question_or_...</td>\n",
       "      <td>wo</td>\n",
       "    </tr>\n",
       "    <tr>\n",
       "      <th>37508</th>\n",
       "      <td>Wo befindet sich das Grab von Diego Rivera?</td>\n",
       "      <td>[{'answer_id': 37867, 'document_id': 41050, 'q...</td>\n",
       "      <td>Mexiko-Stadt\\n\\n==== Chapultepec-Park ====\\nDe...</td>\n",
       "      <td>41050</td>\n",
       "      <td>False</td>\n",
       "      <td>test</td>\n",
       "      <td></td>\n",
       "      <td>position_id   lime_token question_or_cont...</td>\n",
       "      <td>wo</td>\n",
       "    </tr>\n",
       "    <tr>\n",
       "      <th>...</th>\n",
       "      <td>...</td>\n",
       "      <td>...</td>\n",
       "      <td>...</td>\n",
       "      <td>...</td>\n",
       "      <td>...</td>\n",
       "      <td>...</td>\n",
       "      <td>...</td>\n",
       "      <td>...</td>\n",
       "      <td>...</td>\n",
       "    </tr>\n",
       "    <tr>\n",
       "      <th>38606</th>\n",
       "      <td>Wo wird in der Schweiz das Knabenschiessen gef...</td>\n",
       "      <td>[{'answer_id': 39009, 'document_id': 40720, 'q...</td>\n",
       "      <td>Schweiz\\n\\n=== Feiertage ===\\nIn der Schweiz i...</td>\n",
       "      <td>40720</td>\n",
       "      <td>False</td>\n",
       "      <td>test</td>\n",
       "      <td>in Zürich</td>\n",
       "      <td>position_id  lime_token question_or_conte...</td>\n",
       "      <td>wo</td>\n",
       "    </tr>\n",
       "    <tr>\n",
       "      <th>45657</th>\n",
       "      <td>Wo sind Perlhühner ursprünglich heimisch?</td>\n",
       "      <td>[{'answer_id': 46729, 'document_id': 41016, 'q...</td>\n",
       "      <td>Geflügel\\n\\n=== Wildgeflügel ===\\n* Junge ''Fa...</td>\n",
       "      <td>41016</td>\n",
       "      <td>False</td>\n",
       "      <td>test</td>\n",
       "      <td>aus Afrika</td>\n",
       "      <td>position_id    lime_token question_or_con...</td>\n",
       "      <td>wo</td>\n",
       "    </tr>\n",
       "    <tr>\n",
       "      <th>37667</th>\n",
       "      <td>Wo leben Säugetiere?</td>\n",
       "      <td>[{'answer_id': 38031, 'document_id': 40843, 'q...</td>\n",
       "      <td>Säugetiere\\n\\n== Verbreitung und Lebensräume =...</td>\n",
       "      <td>40843</td>\n",
       "      <td>False</td>\n",
       "      <td>test</td>\n",
       "      <td>auf allen Kontinenten, in allen Ozeanen sowie ...</td>\n",
       "      <td>position_id      lime_token question_or_c...</td>\n",
       "      <td>wo</td>\n",
       "    </tr>\n",
       "    <tr>\n",
       "      <th>36771</th>\n",
       "      <td>Wo ist der Sitz der Legislative Rajasthans?</td>\n",
       "      <td>[{'answer_id': 37119, 'document_id': 41117, 'q...</td>\n",
       "      <td>Rajasthan\\n\\n=== Politisches System ===\\nDie L...</td>\n",
       "      <td>41117</td>\n",
       "      <td>False</td>\n",
       "      <td>test</td>\n",
       "      <td>Jaipur</td>\n",
       "      <td>position_id lime_token question_or_contex...</td>\n",
       "      <td>wo</td>\n",
       "    </tr>\n",
       "    <tr>\n",
       "      <th>38065</th>\n",
       "      <td>Wo kommt das Motto des FC Barcelona her?</td>\n",
       "      <td>[{'answer_id': 38440, 'document_id': 41036, 'q...</td>\n",
       "      <td>FC_Barcelona\\n\\n==== Aushängeschild Katalonien...</td>\n",
       "      <td>41036</td>\n",
       "      <td>False</td>\n",
       "      <td>test</td>\n",
       "      <td>Die Ursprünge des Mottos finden sich im Jahr 1...</td>\n",
       "      <td>position_id    lime_token question_or_con...</td>\n",
       "      <td>wo</td>\n",
       "    </tr>\n",
       "  </tbody>\n",
       "</table>\n",
       "<p>102 rows × 9 columns</p>\n",
       "</div>"
      ],
      "text/plain": [
       "                                                question  \\\n",
       "38607      Wo in der Schweiz wird Fronleichnam gefeiert?   \n",
       "37367         Wo kann man Rettungshundeprüfungen machen?   \n",
       "41483  Wo in Hannover stehen die Skulpturen von Niki ...   \n",
       "37225  Wo wurde der Prototyp von HDTV mit vierfacher ...   \n",
       "37508        Wo befindet sich das Grab von Diego Rivera?   \n",
       "...                                                  ...   \n",
       "38606  Wo wird in der Schweiz das Knabenschiessen gef...   \n",
       "45657          Wo sind Perlhühner ursprünglich heimisch?   \n",
       "37667                               Wo leben Säugetiere?   \n",
       "36771        Wo ist der Sitz der Legislative Rajasthans?   \n",
       "38065           Wo kommt das Motto des FC Barcelona her?   \n",
       "\n",
       "                                                 answers  \\\n",
       "38607  [{'answer_id': 39010, 'document_id': 40720, 'q...   \n",
       "37367  [{'answer_id': 37722, 'document_id': 40682, 'q...   \n",
       "41483  [{'answer_id': 43108, 'document_id': 40764, 'q...   \n",
       "37225  [{'answer_id': 37576, 'document_id': 40677, 'q...   \n",
       "37508  [{'answer_id': 37867, 'document_id': 41050, 'q...   \n",
       "...                                                  ...   \n",
       "38606  [{'answer_id': 39009, 'document_id': 40720, 'q...   \n",
       "45657  [{'answer_id': 46729, 'document_id': 41016, 'q...   \n",
       "37667  [{'answer_id': 38031, 'document_id': 40843, 'q...   \n",
       "36771  [{'answer_id': 37119, 'document_id': 41117, 'q...   \n",
       "38065  [{'answer_id': 38440, 'document_id': 41036, 'q...   \n",
       "\n",
       "                                                 context  document_id  \\\n",
       "38607  Schweiz\\n\\n=== Feiertage ===\\nIn der Schweiz i...        40720   \n",
       "37367  Haushund\\n\\n==== Sonstiges ====\\nEine Verpflic...        40682   \n",
       "41483  Hannover\\n\\n=== Denkmale, Mahnmale und Straßen...        40764   \n",
       "37225  High_Definition_Television\\n\\n== Weiterentwick...        40677   \n",
       "37508  Mexiko-Stadt\\n\\n==== Chapultepec-Park ====\\nDe...        41050   \n",
       "...                                                  ...          ...   \n",
       "38606  Schweiz\\n\\n=== Feiertage ===\\nIn der Schweiz i...        40720   \n",
       "45657  Geflügel\\n\\n=== Wildgeflügel ===\\n* Junge ''Fa...        41016   \n",
       "37667  Säugetiere\\n\\n== Verbreitung und Lebensräume =...        40843   \n",
       "36771  Rajasthan\\n\\n=== Politisches System ===\\nDie L...        41117   \n",
       "38065  FC_Barcelona\\n\\n==== Aushängeschild Katalonien...        41036   \n",
       "\n",
       "       is_impossible usage                                         prediction  \\\n",
       "38607          False  test                   nur in den katholischen Kantonen   \n",
       "37367          False  test     nur in einer zugelassenen Rettungshundestaffel   \n",
       "41483          False  test                                     am Leibnizufer   \n",
       "37225          False  test                                 Auf der CeBIT 2006   \n",
       "37508          False  test                                                      \n",
       "...              ...   ...                                                ...   \n",
       "38606          False  test                                          in Zürich   \n",
       "45657          False  test                                         aus Afrika   \n",
       "37667          False  test  auf allen Kontinenten, in allen Ozeanen sowie ...   \n",
       "36771          False  test                                             Jaipur   \n",
       "38065          False  test  Die Ursprünge des Mottos finden sich im Jahr 1...   \n",
       "\n",
       "                                             explanation question_type  \n",
       "38607       position_id  lime_token question_or_conte...            wo  \n",
       "37367       position_id              lime_token quest...            wo  \n",
       "41483       position_id    lime_token question_or_con...            wo  \n",
       "37225      position_id        lime_token question_or_...            wo  \n",
       "37508       position_id   lime_token question_or_cont...            wo  \n",
       "...                                                  ...           ...  \n",
       "38606       position_id  lime_token question_or_conte...            wo  \n",
       "45657       position_id    lime_token question_or_con...            wo  \n",
       "37667       position_id      lime_token question_or_c...            wo  \n",
       "36771       position_id lime_token question_or_contex...            wo  \n",
       "38065       position_id    lime_token question_or_con...            wo  \n",
       "\n",
       "[102 rows x 9 columns]"
      ]
     },
     "execution_count": 18,
     "metadata": {},
     "output_type": "execute_result"
    }
   ],
   "source": [
    "was_questions"
   ]
  },
  {
   "cell_type": "code",
   "execution_count": 19,
   "id": "1c9f7967",
   "metadata": {},
   "outputs": [
    {
     "name": "stderr",
     "output_type": "stream",
     "text": [
      "/tmp/ipykernel_628407/2106714602.py:1: SettingWithCopyWarning: \n",
      "A value is trying to be set on a copy of a slice from a DataFrame.\n",
      "Try using .loc[row_indexer,col_indexer] = value instead\n",
      "\n",
      "See the caveats in the documentation: https://pandas.pydata.org/pandas-docs/stable/user_guide/indexing.html#returning-a-view-versus-a-copy\n",
      "  was_questions['prediction_length'] = [len(answer.split()) for answer in was_questions['prediction'].tolist()]\n"
     ]
    },
    {
     "data": {
      "text/plain": [
       "<AxesSubplot: xlabel='token length', ylabel='occurences'>"
      ]
     },
     "execution_count": 19,
     "metadata": {},
     "output_type": "execute_result"
    },
    {
     "data": {
      "image/png": "[encoded data removed]",
      "text/plain": [
       "<Figure size 432x288 with 1 Axes>"
      ]
     },
     "metadata": {
      "needs_background": "light"
     },
     "output_type": "display_data"
    }
   ],
   "source": [
    "was_questions['prediction_length'] = [len(answer.split()) for answer in was_questions['prediction'].tolist()]\n",
    "was_questions.groupby(['prediction_length']).size().plot(kind = \"bar\", xlabel = 'token length', ylabel = 'occurences')"
   ]
  },
  {
   "cell_type": "code",
   "execution_count": 20,
   "id": "d5d07911",
   "metadata": {},
   "outputs": [],
   "source": [
    "a = was_questions['prediction_length'].describe()"
   ]
  },
  {
   "cell_type": "code",
   "execution_count": 21,
   "id": "a9d00efb",
   "metadata": {},
   "outputs": [],
   "source": [
    "q_low = was_questions[\"prediction_length\"].quantile(0.01)\n",
    "q_hi  = was_questions[\"prediction_length\"].quantile(0.99)\n",
    "\n",
    "df_filtered = was_questions[(was_questions[\"prediction_length\"] < q_hi) & (was_questions[\"prediction_length\"] > q_low)]"
   ]
  },
  {
   "cell_type": "code",
   "execution_count": 22,
   "id": "b5b139f2",
   "metadata": {},
   "outputs": [
    {
     "data": {
      "text/plain": [
       "<AxesSubplot: xlabel='token length', ylabel='occurences'>"
      ]
     },
     "execution_count": 22,
     "metadata": {},
     "output_type": "execute_result"
    },
    {
     "data": {
      "image/png": "[encoded data removed]",
      "text/plain": [
       "<Figure size 432x288 with 1 Axes>"
      ]
     },
     "metadata": {
      "needs_background": "light"
     },
     "output_type": "display_data"
    }
   ],
   "source": [
    "df_filtered.groupby(['prediction_length']).size().plot(kind = \"bar\", xlabel = 'token length', ylabel = 'occurences')"
   ]
  },
  {
   "cell_type": "code",
   "execution_count": 23,
   "id": "56e911e0",
   "metadata": {},
   "outputs": [
    {
     "data": {
      "text/html": [
       "<div>\n",
       "<style scoped>\n",
       "    .dataframe tbody tr th:only-of-type {\n",
       "        vertical-align: middle;\n",
       "    }\n",
       "\n",
       "    .dataframe tbody tr th {\n",
       "        vertical-align: top;\n",
       "    }\n",
       "\n",
       "    .dataframe thead th {\n",
       "        text-align: right;\n",
       "    }\n",
       "</style>\n",
       "<table border=\"1\" class=\"dataframe\">\n",
       "  <thead>\n",
       "    <tr style=\"text-align: right;\">\n",
       "      <th></th>\n",
       "      <th>document_id</th>\n",
       "      <th>prediction_length</th>\n",
       "    </tr>\n",
       "  </thead>\n",
       "  <tbody>\n",
       "    <tr>\n",
       "      <th>count</th>\n",
       "      <td>92.000000</td>\n",
       "      <td>92.000000</td>\n",
       "    </tr>\n",
       "    <tr>\n",
       "      <th>mean</th>\n",
       "      <td>40887.010870</td>\n",
       "      <td>8.184783</td>\n",
       "    </tr>\n",
       "    <tr>\n",
       "      <th>std</th>\n",
       "      <td>142.405742</td>\n",
       "      <td>7.666008</td>\n",
       "    </tr>\n",
       "    <tr>\n",
       "      <th>min</th>\n",
       "      <td>40677.000000</td>\n",
       "      <td>1.000000</td>\n",
       "    </tr>\n",
       "    <tr>\n",
       "      <th>25%</th>\n",
       "      <td>40751.000000</td>\n",
       "      <td>3.000000</td>\n",
       "    </tr>\n",
       "    <tr>\n",
       "      <th>50%</th>\n",
       "      <td>40871.000000</td>\n",
       "      <td>5.500000</td>\n",
       "    </tr>\n",
       "    <tr>\n",
       "      <th>75%</th>\n",
       "      <td>41008.000000</td>\n",
       "      <td>11.000000</td>\n",
       "    </tr>\n",
       "    <tr>\n",
       "      <th>max</th>\n",
       "      <td>41158.000000</td>\n",
       "      <td>41.000000</td>\n",
       "    </tr>\n",
       "  </tbody>\n",
       "</table>\n",
       "</div>"
      ],
      "text/plain": [
       "        document_id  prediction_length\n",
       "count     92.000000          92.000000\n",
       "mean   40887.010870           8.184783\n",
       "std      142.405742           7.666008\n",
       "min    40677.000000           1.000000\n",
       "25%    40751.000000           3.000000\n",
       "50%    40871.000000           5.500000\n",
       "75%    41008.000000          11.000000\n",
       "max    41158.000000          41.000000"
      ]
     },
     "execution_count": 23,
     "metadata": {},
     "output_type": "execute_result"
    }
   ],
   "source": [
    "df_filtered.describe()"
   ]
  },
  {
   "cell_type": "code",
   "execution_count": null,
   "id": "b6b4049a",
   "metadata": {},
   "outputs": [],
   "source": []
  },
  {
   "cell_type": "code",
   "execution_count": 24,
   "id": "251de2f8",
   "metadata": {},
   "outputs": [
    {
     "data": {
      "text/plain": [
       "<AxesSubplot: xlabel='word'>"
      ]
     },
     "execution_count": 24,
     "metadata": {},
     "output_type": "execute_result"
    },
    {
     "data": {
      "image/png": "[encoded data removed]",
      "text/plain": [
       "<Figure size 432x288 with 1 Axes>"
      ]
     },
     "metadata": {
      "needs_background": "light"
     },
     "output_type": "display_data"
    }
   ],
   "source": [
    "# start tokens with percentile, no stopwords and weigthed average\n",
    "start_tokens_tfidf_df = get_frequencie(was_question_tokens_with_weights_dict['start_tokens_df'], \n",
    "                                       max_tokens = 15, mode = 'weight', target = 'word', \n",
    "                                       remove_stop_words = True, min_count = percentile_1)\n",
    "\n",
    "start_tokens_tfidf_df.plot(x = 'word', y = 'weight', kind = 'bar')"
   ]
  },
  {
   "cell_type": "code",
   "execution_count": null,
   "id": "da34afc2",
   "metadata": {},
   "outputs": [],
   "source": []
  },
  {
   "cell_type": "code",
   "execution_count": null,
   "id": "51d188c4",
   "metadata": {},
   "outputs": [],
   "source": []
  },
  {
   "cell_type": "code",
   "execution_count": null,
   "id": "af39dc36",
   "metadata": {},
   "outputs": [],
   "source": []
  },
  {
   "cell_type": "code",
   "execution_count": null,
   "id": "591c10f3",
   "metadata": {},
   "outputs": [],
   "source": []
  },
  {
   "cell_type": "code",
   "execution_count": null,
   "id": "90d232b5",
   "metadata": {},
   "outputs": [],
   "source": []
  },
  {
   "cell_type": "code",
   "execution_count": null,
   "id": "ae43fb8c",
   "metadata": {},
   "outputs": [],
   "source": []
  },
  {
   "cell_type": "code",
   "execution_count": null,
   "id": "a3ecffd6",
   "metadata": {},
   "outputs": [],
   "source": [
    "# start ner with percentile, no stopwords and weigthed average\n",
    "start_ner_tfidf_df = get_frequencie(was_question_tokens_with_weights_dict['start_tokens_df'], \n",
    "                                       max_tokens = 15, mode = 'frq', target = 'ner_tag', \n",
    "                                       remove_stop_words = True, min_count = percentile_1)\n",
    "\n",
    "start_ner_tfidf_df.plot(x = 'ner_tag', y = 'count', kind = 'bar')"
   ]
  },
  {
   "cell_type": "code",
   "execution_count": null,
   "id": "31df3459",
   "metadata": {},
   "outputs": [],
   "source": [
    "# start ner with percentile, no stopwords and weigthed average\n",
    "start_ner_tfidf_df = get_frequencie(was_question_tokens_with_weights_dict['start_tokens_df'], \n",
    "                                       max_tokens = 15, mode = 'weight', target = 'ner_tag', \n",
    "                                       remove_stop_words = True, min_count = percentile_1)\n",
    "\n",
    "start_ner_tfidf_df.plot(x = 'ner_tag', y = 'weight', kind = 'bar')"
   ]
  },
  {
   "cell_type": "code",
   "execution_count": null,
   "id": "3c732efc",
   "metadata": {},
   "outputs": [],
   "source": []
  }
 ],
 "metadata": {
  "kernelspec": {
   "display_name": "Python 3 (ipykernel)",
   "language": "python",
   "name": "python3"
  },
  "language_info": {
   "codemirror_mode": {
    "name": "ipython",
    "version": 3
   },
   "file_extension": ".py",
   "mimetype": "text/x-python",
   "name": "python",
   "nbconvert_exporter": "python",
   "pygments_lexer": "ipython3",
   "version": "3.9.7"
  }
 },
 "nbformat": 4,
 "nbformat_minor": 5
}
