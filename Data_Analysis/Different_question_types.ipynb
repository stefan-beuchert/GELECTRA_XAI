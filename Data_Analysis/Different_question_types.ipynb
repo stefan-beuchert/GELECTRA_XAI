{
 "cells": [
  {
   "cell_type": "markdown",
   "id": "2e3e1010",
   "metadata": {},
   "source": [
    "# Different question types"
   ]
  },
  {
   "cell_type": "code",
   "execution_count": 1,
   "id": "1844bd3e",
   "metadata": {},
   "outputs": [
    {
     "name": "stdout",
     "output_type": "stream",
     "text": [
      "C:\\Users\\Stefan.Beuchert\\Desktop\\backup_from_kubectl\n"
     ]
    }
   ],
   "source": [
    "%cd .."
   ]
  },
  {
   "cell_type": "code",
   "execution_count": 2,
   "id": "f66c93d3",
   "metadata": {},
   "outputs": [],
   "source": [
    "# config\n",
    "number_of_features = 10 # the default value\n",
    "number_of_samples = 5000 # the default value\n",
    "\n",
    "source_path_for_data = f'data/Data_Preparation/lime_ns_{number_of_samples}_nf_{number_of_features}_after_frequency_analysis.json'"
   ]
  },
  {
   "cell_type": "code",
   "execution_count": 3,
   "id": "4ed27654",
   "metadata": {},
   "outputs": [
    {
     "name": "stderr",
     "output_type": "stream",
     "text": [
      "[nltk_data] Downloading package averaged_perceptron_tagger to\n",
      "[nltk_data]     C:\\Users\\Stefan.Beuchert\\AppData\\Roaming\\nltk_data...\n",
      "[nltk_data]   Package averaged_perceptron_tagger is already up-to-\n",
      "[nltk_data]       date!\n",
      "[nltk_data] Downloading package stopwords to\n",
      "[nltk_data]     C:\\Users\\Stefan.Beuchert\\AppData\\Roaming\\nltk_data...\n",
      "[nltk_data]   Package stopwords is already up-to-date!\n"
     ]
    }
   ],
   "source": [
    "from src.analyzer import sort_tokens_in_categories, get_frequencie, display_frequencies\n",
    "from src.ExplanationObjectForQuestionType import ExplanationObjectForQuestionType\n",
    "from src.get_data import enhance_data_with_question_type\n",
    "\n",
    "import pandas as pd\n",
    "pd.options.mode.chained_assignment = None  # default='warn'\n",
    "\n",
    "import matplotlib.pyplot as plt"
   ]
  },
  {
   "cell_type": "code",
   "execution_count": 4,
   "id": "bedd9dc2",
   "metadata": {},
   "outputs": [
    {
     "data": {
      "text/html": [
       "<div>\n",
       "<style scoped>\n",
       "    .dataframe tbody tr th:only-of-type {\n",
       "        vertical-align: middle;\n",
       "    }\n",
       "\n",
       "    .dataframe tbody tr th {\n",
       "        vertical-align: top;\n",
       "    }\n",
       "\n",
       "    .dataframe thead th {\n",
       "        text-align: right;\n",
       "    }\n",
       "</style>\n",
       "<table border=\"1\" class=\"dataframe\">\n",
       "  <thead>\n",
       "    <tr style=\"text-align: right;\">\n",
       "      <th></th>\n",
       "      <th>question</th>\n",
       "      <th>answers</th>\n",
       "      <th>context</th>\n",
       "      <th>document_id</th>\n",
       "      <th>is_impossible</th>\n",
       "      <th>usage</th>\n",
       "      <th>prediction</th>\n",
       "      <th>explanation</th>\n",
       "    </tr>\n",
       "  </thead>\n",
       "  <tbody>\n",
       "    <tr>\n",
       "      <th>37495</th>\n",
       "      <td>Wie viele Amerikaner fühlen sich mehr als eine...</td>\n",
       "      <td>[{'answer_id': 37854, 'document_id': 41057, 'q...</td>\n",
       "      <td>Race__United_States_Census_\\n\\n=== „Race“ ===\\...</td>\n",
       "      <td>41057</td>\n",
       "      <td>False</td>\n",
       "      <td>test</td>\n",
       "      <td>fast sieben Millionen</td>\n",
       "      <td>position_id   lime_token question_or_cont...</td>\n",
       "    </tr>\n",
       "    <tr>\n",
       "      <th>36553</th>\n",
       "      <td>Wer wanderte nach North Carolina Anfang des 20...</td>\n",
       "      <td>[{'answer_id': 36895, 'document_id': 40789, 'q...</td>\n",
       "      <td>North_Carolina\\n\\n==== Europäische Amerikaner ...</td>\n",
       "      <td>40789</td>\n",
       "      <td>False</td>\n",
       "      <td>test</td>\n",
       "      <td>eine Gruppe orthodoxer Einwanderer aus der Ukr...</td>\n",
       "      <td>position_id lime_token question_or_contex...</td>\n",
       "    </tr>\n",
       "    <tr>\n",
       "      <th>36597</th>\n",
       "      <td>Was gehört zum Stadtkirchenverband Hannover?</td>\n",
       "      <td>[{'answer_id': 36938, 'document_id': 40797, 'q...</td>\n",
       "      <td>Hannover\\n\\n==== Evangelisch-lutherische Kirch...</td>\n",
       "      <td>40797</td>\n",
       "      <td>False</td>\n",
       "      <td>test</td>\n",
       "      <td>Alle landeskirchlichen evangelischen Kirchenge...</td>\n",
       "      <td>position_id           lime_token question...</td>\n",
       "    </tr>\n",
       "    <tr>\n",
       "      <th>37392</th>\n",
       "      <td>Wann starb Athanasius der Große?</td>\n",
       "      <td>[{'answer_id': 37749, 'document_id': 41075, 'q...</td>\n",
       "      <td>Athanasius_der_Große\\nGriechische Ikone, Titul...</td>\n",
       "      <td>41075</td>\n",
       "      <td>False</td>\n",
       "      <td>test</td>\n",
       "      <td>2. Mai 373</td>\n",
       "      <td>position_id    lime_token question_or_con...</td>\n",
       "    </tr>\n",
       "    <tr>\n",
       "      <th>37351</th>\n",
       "      <td>Welche Länder liegen östlich des Irans?</td>\n",
       "      <td>[{'answer_id': 37706, 'document_id': 41082, 'q...</td>\n",
       "      <td>Iran\\n\\n=== Antike und Mittelalter ===\\nDas he...</td>\n",
       "      <td>41082</td>\n",
       "      <td>False</td>\n",
       "      <td>test</td>\n",
       "      <td>Indien und China</td>\n",
       "      <td>position_id  lime_token question_or_conte...</td>\n",
       "    </tr>\n",
       "  </tbody>\n",
       "</table>\n",
       "</div>"
      ],
      "text/plain": [
       "                                                question  \\\n",
       "37495  Wie viele Amerikaner fühlen sich mehr als eine...   \n",
       "36553  Wer wanderte nach North Carolina Anfang des 20...   \n",
       "36597       Was gehört zum Stadtkirchenverband Hannover?   \n",
       "37392                   Wann starb Athanasius der Große?   \n",
       "37351            Welche Länder liegen östlich des Irans?   \n",
       "\n",
       "                                                 answers  \\\n",
       "37495  [{'answer_id': 37854, 'document_id': 41057, 'q...   \n",
       "36553  [{'answer_id': 36895, 'document_id': 40789, 'q...   \n",
       "36597  [{'answer_id': 36938, 'document_id': 40797, 'q...   \n",
       "37392  [{'answer_id': 37749, 'document_id': 41075, 'q...   \n",
       "37351  [{'answer_id': 37706, 'document_id': 41082, 'q...   \n",
       "\n",
       "                                                 context  document_id  \\\n",
       "37495  Race__United_States_Census_\\n\\n=== „Race“ ===\\...        41057   \n",
       "36553  North_Carolina\\n\\n==== Europäische Amerikaner ...        40789   \n",
       "36597  Hannover\\n\\n==== Evangelisch-lutherische Kirch...        40797   \n",
       "37392  Athanasius_der_Große\\nGriechische Ikone, Titul...        41075   \n",
       "37351  Iran\\n\\n=== Antike und Mittelalter ===\\nDas he...        41082   \n",
       "\n",
       "       is_impossible usage                                         prediction  \\\n",
       "37495          False  test                              fast sieben Millionen   \n",
       "36553          False  test  eine Gruppe orthodoxer Einwanderer aus der Ukr...   \n",
       "36597          False  test  Alle landeskirchlichen evangelischen Kirchenge...   \n",
       "37392          False  test                                         2. Mai 373   \n",
       "37351          False  test                                   Indien und China   \n",
       "\n",
       "                                             explanation  \n",
       "37495       position_id   lime_token question_or_cont...  \n",
       "36553       position_id lime_token question_or_contex...  \n",
       "36597       position_id           lime_token question...  \n",
       "37392       position_id    lime_token question_or_con...  \n",
       "37351       position_id  lime_token question_or_conte...  "
      ]
     },
     "execution_count": 4,
     "metadata": {},
     "output_type": "execute_result"
    }
   ],
   "source": [
    "# load data\n",
    "data_df = pd.read_json(source_path_for_data)\n",
    "data_df['explanation'] = [pd.DataFrame(exp) for exp in data_df['explanation'].tolist()]\n",
    "data_df.head()"
   ]
  },
  {
   "cell_type": "markdown",
   "id": "82f246d0",
   "metadata": {},
   "source": [
    "## Prepare Data"
   ]
  },
  {
   "cell_type": "code",
   "execution_count": 5,
   "id": "92cfeb8e",
   "metadata": {},
   "outputs": [],
   "source": [
    "data_df = enhance_data_with_question_type(data_df)"
   ]
  },
  {
   "cell_type": "code",
   "execution_count": 6,
   "id": "d7753073",
   "metadata": {},
   "outputs": [],
   "source": [
    "if False:\n",
    "    # split into question types\n",
    "    def identify_question_type(question):\n",
    "        question = question.lower()\n",
    "        if question[-1] == '?': question = question[:-1] # remove '?' from question (if there is one)\n",
    "\n",
    "        question_type = None\n",
    "\n",
    "        # check for 'wie viel' as the only w-question that contains two 2 tokens\n",
    "        if 'wie viel' in question:\n",
    "            question_type = 'wie viel'\n",
    "\n",
    "        # if 'wie viel' is identified, no need to check for other question words\n",
    "        else:\n",
    "            # split question into tokens\n",
    "            question_tokens = question.split(' ')\n",
    "\n",
    "            # turns out that all questions have the question word at the beginning of the question.\n",
    "            # therefore we only have to look at the first token\n",
    "            # question_tokens = [question_tokens[0]]\n",
    "\n",
    "            question_words_list = [\n",
    "                # https://de.wikipedia.org/wiki/W-Wort\n",
    "                'wer', 'welche', 'welcher',\n",
    "                'wem', 'wen', 'welchen', 'welchem',\n",
    "                'wessen',\n",
    "                'was', 'welches',\n",
    "                'warum', 'weshalb', 'weswegen', 'wieso',\n",
    "                'wie', 'wieweit', #'wie viel'\n",
    "                'wofür', 'wozu', 'womit', 'wodurch', 'worum', 'worüber', 'wobei', 'wovon', 'woraus',\n",
    "                'wo', 'wogegen',\n",
    "                'wohin', 'woher',\n",
    "                'woran', 'worin', 'worauf', 'worunter', 'wovor', 'wohinter', 'woneben',\n",
    "                'wann',\n",
    "                # below words that have been added by looking at the questions that are not covered by the word above\n",
    "                'wonach', 'inwiefern' \n",
    "            ]\n",
    "\n",
    "            # check for other w-quetions\n",
    "            for question_word in question_words_list:\n",
    "                if question_word in question_tokens:\n",
    "                    if (question_type is not None):\n",
    "                        #print(f'{question} - has multiple question types')\n",
    "                        question_type = 'conflict'\n",
    "                    else:\n",
    "                        question_type = question_word\n",
    "\n",
    "        if question_type is None:\n",
    "            print(f'{question} - has no question type')\n",
    "            question_type = 'undefined'\n",
    "\n",
    "        return question_type\n",
    "\n",
    "    question_list = data_df['question'].tolist()\n",
    "    question_type_list = [identify_question_type(q) for q in question_list]\n",
    "    data_df['question_type'] = question_type_list"
   ]
  },
  {
   "cell_type": "markdown",
   "id": "3077995d",
   "metadata": {},
   "source": [
    "## Visualize W-Word distribution"
   ]
  },
  {
   "cell_type": "code",
   "execution_count": 7,
   "id": "fdba6a84",
   "metadata": {},
   "outputs": [
    {
     "name": "stdout",
     "output_type": "stream",
     "text": [
      "   question_type  count\n",
      "5            was    441\n",
      "17           wie    249\n",
      "3           wann    247\n",
      "6         welche    243\n",
      "13           wer    188\n",
      "18      wie viel    154\n",
      "9        welcher    106\n",
      "20            wo    102\n",
      "7        welchem     75\n",
      "4          warum     73\n",
      "10       welches     62\n",
      "8        welchen     57\n",
      "19         wieso     31\n",
      "2      undefined     25\n",
      "22         wofür     19\n",
      "11           wem     18\n",
      "0       conflict     16\n",
      "33          wozu     10\n",
      "23         woher      9\n",
      "21       wodurch      8\n",
      "12           wen      7\n",
      "24         wohin      6\n",
      "32         wovon      5\n",
      "27         woran      4\n",
      "1      inwiefern      4\n",
      "15        wessen      4\n",
      "16      weswegen      2\n",
      "26        wonach      2\n",
      "14       weshalb      2\n",
      "28        woraus      2\n",
      "30         worum      2\n",
      "29         worin      1\n",
      "31       worüber      1\n",
      "25         womit      1\n"
     ]
    },
    {
     "data": {
      "text/plain": [
       "<AxesSubplot:xlabel='question_type'>"
      ]
     },
     "execution_count": 7,
     "metadata": {},
     "output_type": "execute_result"
    },
    {
     "data": {
      "image/png": "[encoded data removed]",
      "text/plain": [
       "<Figure size 432x288 with 1 Axes>"
      ]
     },
     "metadata": {
      "needs_background": "light"
     },
     "output_type": "display_data"
    }
   ],
   "source": [
    "df_for_bar_chart = data_df.groupby(['question_type'])['question_type'].count().reset_index(name='count').sort_values(['count'], ascending=False)\n",
    "print(df_for_bar_chart)\n",
    "df_for_bar_chart.plot(kind = 'bar', x = 'question_type')"
   ]
  },
  {
   "cell_type": "markdown",
   "id": "f0a18ce7",
   "metadata": {},
   "source": [
    "### Deep dive single question type"
   ]
  },
  {
   "cell_type": "markdown",
   "id": "907eb380",
   "metadata": {},
   "source": [
    "was\n",
    "wie\n",
    "wann\n",
    "welche\n",
    "wer\n",
    "wie viel\n",
    "welcher\n",
    "wo"
   ]
  },
  {
   "cell_type": "code",
   "execution_count": 37,
   "id": "18600f95",
   "metadata": {},
   "outputs": [],
   "source": [
    "question_type = 'wo'"
   ]
  },
  {
   "cell_type": "code",
   "execution_count": 38,
   "id": "005f3588",
   "metadata": {},
   "outputs": [
    {
     "data": {
      "text/html": [
       "<div>\n",
       "<style scoped>\n",
       "    .dataframe tbody tr th:only-of-type {\n",
       "        vertical-align: middle;\n",
       "    }\n",
       "\n",
       "    .dataframe tbody tr th {\n",
       "        vertical-align: top;\n",
       "    }\n",
       "\n",
       "    .dataframe thead th {\n",
       "        text-align: right;\n",
       "    }\n",
       "</style>\n",
       "<table border=\"1\" class=\"dataframe\">\n",
       "  <thead>\n",
       "    <tr style=\"text-align: right;\">\n",
       "      <th></th>\n",
       "      <th>question</th>\n",
       "      <th>answers</th>\n",
       "      <th>context</th>\n",
       "      <th>document_id</th>\n",
       "      <th>is_impossible</th>\n",
       "      <th>usage</th>\n",
       "      <th>prediction</th>\n",
       "      <th>explanation</th>\n",
       "      <th>question_type</th>\n",
       "    </tr>\n",
       "  </thead>\n",
       "  <tbody>\n",
       "    <tr>\n",
       "      <th>38607</th>\n",
       "      <td>Wo in der Schweiz wird Fronleichnam gefeiert?</td>\n",
       "      <td>[{'answer_id': 39010, 'document_id': 40720, 'q...</td>\n",
       "      <td>Schweiz\\n\\n=== Feiertage ===\\nIn der Schweiz i...</td>\n",
       "      <td>40720</td>\n",
       "      <td>False</td>\n",
       "      <td>test</td>\n",
       "      <td>nur in den katholischen Kantonen</td>\n",
       "      <td>position_id  lime_token question_or_conte...</td>\n",
       "      <td>wo</td>\n",
       "    </tr>\n",
       "    <tr>\n",
       "      <th>37367</th>\n",
       "      <td>Wo kann man Rettungshundeprüfungen machen?</td>\n",
       "      <td>[{'answer_id': 37722, 'document_id': 40682, 'q...</td>\n",
       "      <td>Haushund\\n\\n==== Sonstiges ====\\nEine Verpflic...</td>\n",
       "      <td>40682</td>\n",
       "      <td>False</td>\n",
       "      <td>test</td>\n",
       "      <td>nur in einer zugelassenen Rettungshundestaffel</td>\n",
       "      <td>position_id              lime_token quest...</td>\n",
       "      <td>wo</td>\n",
       "    </tr>\n",
       "    <tr>\n",
       "      <th>41483</th>\n",
       "      <td>Wo in Hannover stehen die Skulpturen von Niki ...</td>\n",
       "      <td>[{'answer_id': 43108, 'document_id': 40764, 'q...</td>\n",
       "      <td>Hannover\\n\\n=== Denkmale, Mahnmale und Straßen...</td>\n",
       "      <td>40764</td>\n",
       "      <td>False</td>\n",
       "      <td>test</td>\n",
       "      <td>am Leibnizufer</td>\n",
       "      <td>position_id    lime_token question_or_con...</td>\n",
       "      <td>wo</td>\n",
       "    </tr>\n",
       "  </tbody>\n",
       "</table>\n",
       "</div>"
      ],
      "text/plain": [
       "                                                question  \\\n",
       "38607      Wo in der Schweiz wird Fronleichnam gefeiert?   \n",
       "37367         Wo kann man Rettungshundeprüfungen machen?   \n",
       "41483  Wo in Hannover stehen die Skulpturen von Niki ...   \n",
       "\n",
       "                                                 answers  \\\n",
       "38607  [{'answer_id': 39010, 'document_id': 40720, 'q...   \n",
       "37367  [{'answer_id': 37722, 'document_id': 40682, 'q...   \n",
       "41483  [{'answer_id': 43108, 'document_id': 40764, 'q...   \n",
       "\n",
       "                                                 context  document_id  \\\n",
       "38607  Schweiz\\n\\n=== Feiertage ===\\nIn der Schweiz i...        40720   \n",
       "37367  Haushund\\n\\n==== Sonstiges ====\\nEine Verpflic...        40682   \n",
       "41483  Hannover\\n\\n=== Denkmale, Mahnmale und Straßen...        40764   \n",
       "\n",
       "       is_impossible usage                                      prediction  \\\n",
       "38607          False  test                nur in den katholischen Kantonen   \n",
       "37367          False  test  nur in einer zugelassenen Rettungshundestaffel   \n",
       "41483          False  test                                  am Leibnizufer   \n",
       "\n",
       "                                             explanation question_type  \n",
       "38607       position_id  lime_token question_or_conte...            wo  \n",
       "37367       position_id              lime_token quest...            wo  \n",
       "41483       position_id    lime_token question_or_con...            wo  "
      ]
     },
     "execution_count": 38,
     "metadata": {},
     "output_type": "execute_result"
    }
   ],
   "source": [
    "single_question_type_df = data_df[data_df['question_type'] == question_type]\n",
    "single_question_type_df.head(3)"
   ]
  },
  {
   "cell_type": "code",
   "execution_count": 39,
   "id": "f71c809b",
   "metadata": {},
   "outputs": [
    {
     "name": "stdout",
     "output_type": "stream",
     "text": [
      "out of 102 data points, 8 have been deleted, because GELECTRA could not find a sufficient answer. 94 data point remaining\n"
     ]
    }
   ],
   "source": [
    "explanation = ExplanationObjectForQuestionType(question_type, single_question_type_df)"
   ]
  },
  {
   "cell_type": "code",
   "execution_count": 40,
   "id": "4fd305e2",
   "metadata": {},
   "outputs": [
    {
     "name": "stdout",
     "output_type": "stream",
     "text": [
      "\n",
      "### wo ###\n",
      "GELECTRA gibt bei ähnlichen Fragen mit 75% Wahrscheinlichkeit eine Antwort zwischen 3 und 17 Worten.\n",
      "Dabei stellt das Start-Wort in 73 % der Fälle ein ADP oder DET dar.\n",
      "Für das End-Wort wählt GELECTRA Eigennamen oder Nomen in 93 % der Fälle.\n",
      "\n",
      "Generell spricht GELECTRA Bindeworten (wenn, falls, während, ...) (+119%) und Ortsangaben (+86%) eine überdurchschnittlich hohe Relevanz bei der Auswahl der Antwort zu.\n",
      "            \n"
     ]
    }
   ],
   "source": [
    "print(explanation)"
   ]
  },
  {
   "cell_type": "code",
   "execution_count": 41,
   "id": "a766a848",
   "metadata": {},
   "outputs": [],
   "source": [
    "# explanation.visualize()"
   ]
  },
  {
   "cell_type": "code",
   "execution_count": null,
   "id": "692aed38",
   "metadata": {},
   "outputs": [],
   "source": []
  }
 ],
 "metadata": {
  "kernelspec": {
   "display_name": "Python 3 (ipykernel)",
   "language": "python",
   "name": "python3"
  },
  "language_info": {
   "codemirror_mode": {
    "name": "ipython",
    "version": 3
   },
   "file_extension": ".py",
   "mimetype": "text/x-python",
   "name": "python",
   "nbconvert_exporter": "python",
   "pygments_lexer": "ipython3",
   "version": "3.9.12"
  }
 },
 "nbformat": 4,
 "nbformat_minor": 5
}
