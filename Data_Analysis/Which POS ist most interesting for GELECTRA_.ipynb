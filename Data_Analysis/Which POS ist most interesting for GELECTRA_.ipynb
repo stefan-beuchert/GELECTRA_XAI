{
 "cells": [
  {
   "cell_type": "markdown",
   "id": "3005547a",
   "metadata": {},
   "source": [
    "a) Importance of nouns for GELECTRA \n",
    "\n",
    "b) Importance of Question-Words\n",
    "\n",
    "c) Difference between start and end tokens\n",
    "\n",
    "d) No significant NER differences for different questiont types\n",
    "\n",
    "e) Investigate Wo-Fragen, just for the sacke of wo == LOC/GEL theory\n"
   ]
  },
  {
   "cell_type": "markdown",
   "id": "965b383d",
   "metadata": {},
   "source": [
    "# Which POS ist most interesting for GELECTRA?"
   ]
  },
  {
   "cell_type": "markdown",
   "id": "22ceb1b2",
   "metadata": {},
   "source": [
    "## Initialize Settings"
   ]
  },
  {
   "cell_type": "code",
   "execution_count": 1,
   "id": "6297999c",
   "metadata": {},
   "outputs": [
    {
     "name": "stdout",
     "output_type": "stream",
     "text": [
      "/home/jupyter-stefan.beuchert/2022-11-26_version\n"
     ]
    }
   ],
   "source": [
    "%cd .."
   ]
  },
  {
   "cell_type": "code",
   "execution_count": 2,
   "id": "09dfd82a",
   "metadata": {},
   "outputs": [],
   "source": [
    "# requirements\n",
    "import pandas as pd\n",
    "import numpy as np\n",
    "import matplotlib.pyplot as plt"
   ]
  },
  {
   "cell_type": "code",
   "execution_count": 3,
   "id": "a6da5a2a",
   "metadata": {},
   "outputs": [],
   "source": [
    "# config\n",
    "number_of_features = 10 # the default value\n",
    "number_of_samples = 5000 # the default value\n",
    "\n",
    "source_path_for_data = f'data/Data_Preparation/lime_ns_{number_of_samples}_nf_{number_of_features}_after_frequency_analysis.json'\n",
    "\n",
    "# list of possible POS tags\n",
    "POS_tag_list = ['ADJ', \n",
    "                'ADP',\n",
    "                'PUNCT',\n",
    "                'ADV',\n",
    "                'AUX',\n",
    "                'SYM',\n",
    "                'INTJ',\n",
    "                'CCONJ',\n",
    "                'X',\n",
    "                'NOUN',\n",
    "                'DET',\n",
    "                'PROPN',\n",
    "                'NUM',\n",
    "                'VERB',\n",
    "                'PART',\n",
    "                'PRON',\n",
    "                'SCONJ',\n",
    "                'SPACE',\n",
    "                '']"
   ]
  },
  {
   "cell_type": "code",
   "execution_count": 4,
   "id": "9673231b",
   "metadata": {},
   "outputs": [
    {
     "data": {
      "text/html": [
       "<div>\n",
       "<style scoped>\n",
       "    .dataframe tbody tr th:only-of-type {\n",
       "        vertical-align: middle;\n",
       "    }\n",
       "\n",
       "    .dataframe tbody tr th {\n",
       "        vertical-align: top;\n",
       "    }\n",
       "\n",
       "    .dataframe thead th {\n",
       "        text-align: right;\n",
       "    }\n",
       "</style>\n",
       "<table border=\"1\" class=\"dataframe\">\n",
       "  <thead>\n",
       "    <tr style=\"text-align: right;\">\n",
       "      <th></th>\n",
       "      <th>question</th>\n",
       "      <th>answers</th>\n",
       "      <th>context</th>\n",
       "      <th>document_id</th>\n",
       "      <th>is_impossible</th>\n",
       "      <th>usage</th>\n",
       "      <th>prediction</th>\n",
       "      <th>explanation</th>\n",
       "    </tr>\n",
       "  </thead>\n",
       "  <tbody>\n",
       "    <tr>\n",
       "      <th>37495</th>\n",
       "      <td>Wie viele Amerikaner fühlen sich mehr als eine...</td>\n",
       "      <td>[{'answer_id': 37854, 'document_id': 41057, 'q...</td>\n",
       "      <td>Race__United_States_Census_\\n\\n=== „Race“ ===\\...</td>\n",
       "      <td>41057</td>\n",
       "      <td>False</td>\n",
       "      <td>test</td>\n",
       "      <td>fast sieben Millionen</td>\n",
       "      <td>position_id   lime_token question_or_cont...</td>\n",
       "    </tr>\n",
       "  </tbody>\n",
       "</table>\n",
       "</div>"
      ],
      "text/plain": [
       "                                                question  \\\n",
       "37495  Wie viele Amerikaner fühlen sich mehr als eine...   \n",
       "\n",
       "                                                 answers  \\\n",
       "37495  [{'answer_id': 37854, 'document_id': 41057, 'q...   \n",
       "\n",
       "                                                 context  document_id  \\\n",
       "37495  Race__United_States_Census_\\n\\n=== „Race“ ===\\...        41057   \n",
       "\n",
       "       is_impossible usage             prediction  \\\n",
       "37495          False  test  fast sieben Millionen   \n",
       "\n",
       "                                             explanation  \n",
       "37495       position_id   lime_token question_or_cont...  "
      ]
     },
     "execution_count": 4,
     "metadata": {},
     "output_type": "execute_result"
    }
   ],
   "source": [
    "# load data\n",
    "data_df = pd.read_json(source_path_for_data)\n",
    "data_df['explanation'] = [pd.DataFrame(exp) for exp in data_df['explanation'].tolist()]\n",
    "data_df.head(1)"
   ]
  },
  {
   "cell_type": "markdown",
   "id": "092b9a82",
   "metadata": {},
   "source": [
    "## Importance of nouns for GELECTRA"
   ]
  },
  {
   "cell_type": "markdown",
   "id": "67c68de2",
   "metadata": {},
   "source": [
    "A visualization of the POS layer with the token frequency as well as weighted average showes a strong occurence of nouns in the LIME highlights. The POS tag 'NOUN' (describing a noun) is by far the most common POS tag when looking at the total count for all six of the possible subsets of LIME highlights (LIME highlights for the start token, LIME hightlights for end token, only positive and negative LIME Highlights for start and end token). The same observation can be made for the 'PROPN' (describing a proper noun) tag that is second to the 'NOUN' tag in everey possible sub set. Even when the 'PROPN' shows less than halfe of the occureces as the 'NOUN' tag in each subset. The combination of 'NOUN' and 'PROPN' makes most of the POS tags that can describe a noun. The only other groups that could indicate a noun are 'NUM', which describes numbers (written in letters or as digits), or 'X', which is used for all the tokens that don't fit in any of the other possible POS categories. Both 'NUM' and 'X' are not looked at in more detail, since they make only a small part of the data set and determinig if the correspoding tokens are indeed nouns is not feasable with the existing setup.\n",
    "\n",
    "The 'NOUN' tag describes all general nouns like 'dog', 'cat'or 'building', while 'PROPN' describe specific nouns like 'Lessi' (the dogs name), 'Google', 'Berlin' or 'Jupyter'.\n",
    "\n",
    "https://universaldependencies.org/u/pos/all.html\n",
    "\n",
    "For evaluating the importance of singel POS tags specifically nouns in generall. The POS frequency for each POS tag is calculated for: \n",
    "- frequency of POS tags for all tokens\n",
    "- frequency of POS tags for tokens highlighted as relevant for the start token\n",
    "- frequency of POS tags for tokens highlighted as relevant for the end token\n",
    "\n",
    "From the total count of each POS tag across all tokens, a baseline is created that is used to normalize the token frequencies for the highlights. Claiming a high occurence of nouns in the highlights, when nouns are actually more common in generall would be a missleading statement."
   ]
  },
  {
   "cell_type": "code",
   "execution_count": 5,
   "id": "ab6e0eb3",
   "metadata": {},
   "outputs": [],
   "source": [
    "# get NOUN and PROPN counts in LIME highlights\n",
    "\n",
    "# get total number of LIME Highlights\n",
    "# get NOUN and PROPN counts for all possible tokens"
   ]
  },
  {
   "cell_type": "code",
   "execution_count": null,
   "id": "21129cfa",
   "metadata": {},
   "outputs": [],
   "source": []
  },
  {
   "cell_type": "code",
   "execution_count": 6,
   "id": "ce6992b3",
   "metadata": {},
   "outputs": [
    {
     "data": {
      "text/html": [
       "<div>\n",
       "<style scoped>\n",
       "    .dataframe tbody tr th:only-of-type {\n",
       "        vertical-align: middle;\n",
       "    }\n",
       "\n",
       "    .dataframe tbody tr th {\n",
       "        vertical-align: top;\n",
       "    }\n",
       "\n",
       "    .dataframe thead th {\n",
       "        text-align: right;\n",
       "    }\n",
       "</style>\n",
       "<table border=\"1\" class=\"dataframe\">\n",
       "  <thead>\n",
       "    <tr style=\"text-align: right;\">\n",
       "      <th></th>\n",
       "      <th>general total</th>\n",
       "      <th>start token total</th>\n",
       "      <th>end token total</th>\n",
       "    </tr>\n",
       "  </thead>\n",
       "  <tbody>\n",
       "    <tr>\n",
       "      <th>ADJ</th>\n",
       "      <td>62598</td>\n",
       "      <td>1383</td>\n",
       "      <td>1362</td>\n",
       "    </tr>\n",
       "    <tr>\n",
       "      <th>ADP</th>\n",
       "      <td>104039</td>\n",
       "      <td>2128</td>\n",
       "      <td>2039</td>\n",
       "    </tr>\n",
       "    <tr>\n",
       "      <th>PUNCT</th>\n",
       "      <td>55</td>\n",
       "      <td>0</td>\n",
       "      <td>3</td>\n",
       "    </tr>\n",
       "    <tr>\n",
       "      <th>ADV</th>\n",
       "      <td>59023</td>\n",
       "      <td>1903</td>\n",
       "      <td>1885</td>\n",
       "    </tr>\n",
       "    <tr>\n",
       "      <th>AUX</th>\n",
       "      <td>30939</td>\n",
       "      <td>1144</td>\n",
       "      <td>1135</td>\n",
       "    </tr>\n",
       "    <tr>\n",
       "      <th>CCONJ</th>\n",
       "      <td>26093</td>\n",
       "      <td>407</td>\n",
       "      <td>503</td>\n",
       "    </tr>\n",
       "    <tr>\n",
       "      <th>X</th>\n",
       "      <td>3946</td>\n",
       "      <td>72</td>\n",
       "      <td>63</td>\n",
       "    </tr>\n",
       "    <tr>\n",
       "      <th>NOUN</th>\n",
       "      <td>190405</td>\n",
       "      <td>5732</td>\n",
       "      <td>5845</td>\n",
       "    </tr>\n",
       "    <tr>\n",
       "      <th>DET</th>\n",
       "      <td>119782</td>\n",
       "      <td>2492</td>\n",
       "      <td>2307</td>\n",
       "    </tr>\n",
       "    <tr>\n",
       "      <th>PROPN</th>\n",
       "      <td>76232</td>\n",
       "      <td>2201</td>\n",
       "      <td>2282</td>\n",
       "    </tr>\n",
       "    <tr>\n",
       "      <th>NUM</th>\n",
       "      <td>33850</td>\n",
       "      <td>1010</td>\n",
       "      <td>1022</td>\n",
       "    </tr>\n",
       "    <tr>\n",
       "      <th>VERB</th>\n",
       "      <td>57590</td>\n",
       "      <td>2143</td>\n",
       "      <td>2206</td>\n",
       "    </tr>\n",
       "    <tr>\n",
       "      <th>PART</th>\n",
       "      <td>5649</td>\n",
       "      <td>99</td>\n",
       "      <td>88</td>\n",
       "    </tr>\n",
       "    <tr>\n",
       "      <th>PRON</th>\n",
       "      <td>21101</td>\n",
       "      <td>935</td>\n",
       "      <td>904</td>\n",
       "    </tr>\n",
       "    <tr>\n",
       "      <th>SCONJ</th>\n",
       "      <td>4044</td>\n",
       "      <td>105</td>\n",
       "      <td>109</td>\n",
       "    </tr>\n",
       "  </tbody>\n",
       "</table>\n",
       "</div>"
      ],
      "text/plain": [
       "       general total  start token total  end token total\n",
       "ADJ            62598               1383             1362\n",
       "ADP           104039               2128             2039\n",
       "PUNCT             55                  0                3\n",
       "ADV            59023               1903             1885\n",
       "AUX            30939               1144             1135\n",
       "CCONJ          26093                407              503\n",
       "X               3946                 72               63\n",
       "NOUN          190405               5732             5845\n",
       "DET           119782               2492             2307\n",
       "PROPN          76232               2201             2282\n",
       "NUM            33850               1010             1022\n",
       "VERB           57590               2143             2206\n",
       "PART            5649                 99               88\n",
       "PRON           21101                935              904\n",
       "SCONJ           4044                105              109"
      ]
     },
     "execution_count": 6,
     "metadata": {},
     "output_type": "execute_result"
    }
   ],
   "source": [
    "# get NOUN and PROPN counts in LIME highlights\n",
    "\n",
    "# get list of all explanations (containing every data point with info about each token)\n",
    "explanation_list = data_df.explanation.tolist()\n",
    "\n",
    "# create empty dicts to count POS tags \n",
    "general_counter_for_POS = {POS_tag: 0 for POS_tag in POS_tag_list}\n",
    "lime_highlights_for_start_tokens__counter_for_POS = {POS_tag: 0 for POS_tag in POS_tag_list}\n",
    "lime_highlights_for_end_tokens__counter_for_POS = {POS_tag: 0 for POS_tag in POS_tag_list}\n",
    "\n",
    "\n",
    "# for each token in each data point\n",
    "for explanation in explanation_list:\n",
    "        \n",
    "        # get lime highlights for start and end token subsets\n",
    "        lime_highlights_for_start_token = explanation[explanation['start_token_weight'].notnull()]\n",
    "        lime_highlights_for_end_token = explanation[explanation['end_token_weight'].notnull()]\n",
    "        \n",
    "        # get total count of each POS tag for that data point\n",
    "        total_count_of_each_POS = explanation['pos_tag'].value_counts()\n",
    "        total_count_of_each_POS_for_start_token_highlights = lime_highlights_for_start_token['pos_tag'].value_counts()\n",
    "        total_count_of_each_POS_for_end_token_highlights = lime_highlights_for_end_token['pos_tag'].value_counts()\n",
    "        \n",
    "        # convert panda.Series to dicts for better extraction of values\n",
    "        total_count_of_each_POS_dict = total_count_of_each_POS.to_dict()\n",
    "        total_count_of_each_POS_for_start_token_highlights_dict = total_count_of_each_POS_for_start_token_highlights.to_dict()\n",
    "        total_count_of_each_POS_for_end_token_highlights_dict = total_count_of_each_POS_for_end_token_highlights.to_dict()\n",
    "        \n",
    "        \n",
    "        # save POS counts in designated dicts\n",
    "        for pos_tag in total_count_of_each_POS_dict:\n",
    "            general_counter_for_POS[pos_tag] += total_count_of_each_POS_dict[pos_tag]\n",
    "            \n",
    "        for pos_tag in total_count_of_each_POS_for_start_token_highlights_dict:\n",
    "            lime_highlights_for_start_tokens__counter_for_POS[pos_tag] += total_count_of_each_POS_for_start_token_highlights_dict[pos_tag]\n",
    "        \n",
    "        for pos_tag in total_count_of_each_POS_for_end_token_highlights_dict:\n",
    "            lime_highlights_for_end_tokens__counter_for_POS[pos_tag] += total_count_of_each_POS_for_end_token_highlights_dict[pos_tag]\n",
    "            \n",
    "# remove 'SPACE' and '' elements from the dict, as they do not represent valid tokens\n",
    "general_counter_for_POS.pop('SPACE')\n",
    "general_counter_for_POS.pop('')\n",
    "general_counter_for_POS.pop('SYM')\n",
    "general_counter_for_POS.pop('INTJ')\n",
    "\n",
    "lime_highlights_for_start_tokens__counter_for_POS.pop('SPACE')\n",
    "lime_highlights_for_start_tokens__counter_for_POS.pop('')\n",
    "lime_highlights_for_start_tokens__counter_for_POS.pop('SYM')\n",
    "lime_highlights_for_start_tokens__counter_for_POS.pop('INTJ')\n",
    "\n",
    "lime_highlights_for_end_tokens__counter_for_POS.pop('SPACE')\n",
    "lime_highlights_for_end_tokens__counter_for_POS.pop('')\n",
    "lime_highlights_for_end_tokens__counter_for_POS.pop('SYM')\n",
    "lime_highlights_for_end_tokens__counter_for_POS.pop('INTJ')\n",
    "\n",
    "# safe data in df\n",
    "frequencies_df = pd.DataFrame([general_counter_for_POS, \n",
    "                               lime_highlights_for_start_tokens__counter_for_POS, \n",
    "                               lime_highlights_for_end_tokens__counter_for_POS])\n",
    "\n",
    "frequencies_df = frequencies_df.T\n",
    "frequencies_df = frequencies_df.rename({0: 'general total', 1: 'start token total', 2: 'end token total'}, axis='columns')\n",
    "frequencies_df"
   ]
  },
  {
   "cell_type": "markdown",
   "id": "30a2aeea",
   "metadata": {},
   "source": [
    "# TODO: HIER DIE BERECHNUNGEN NOCH MAL ÜBERDENKEN"
   ]
  },
  {
   "cell_type": "code",
   "execution_count": 7,
   "id": "aa361346",
   "metadata": {},
   "outputs": [
    {
     "data": {
      "text/html": [
       "<div>\n",
       "<style scoped>\n",
       "    .dataframe tbody tr th:only-of-type {\n",
       "        vertical-align: middle;\n",
       "    }\n",
       "\n",
       "    .dataframe tbody tr th {\n",
       "        vertical-align: top;\n",
       "    }\n",
       "\n",
       "    .dataframe thead th {\n",
       "        text-align: right;\n",
       "    }\n",
       "</style>\n",
       "<table border=\"1\" class=\"dataframe\">\n",
       "  <thead>\n",
       "    <tr style=\"text-align: right;\">\n",
       "      <th></th>\n",
       "      <th>general total</th>\n",
       "      <th>start token total</th>\n",
       "      <th>end token total</th>\n",
       "      <th>general percentage</th>\n",
       "      <th>start token percentage</th>\n",
       "      <th>end token percentage</th>\n",
       "      <th>start token deviation from general</th>\n",
       "      <th>end token deviation from general</th>\n",
       "      <th>start token total deviation</th>\n",
       "      <th>end token total deviation</th>\n",
       "    </tr>\n",
       "  </thead>\n",
       "  <tbody>\n",
       "    <tr>\n",
       "      <th>ADJ</th>\n",
       "      <td>62598</td>\n",
       "      <td>1383</td>\n",
       "      <td>1362</td>\n",
       "      <td>0.078705</td>\n",
       "      <td>0.063575</td>\n",
       "      <td>0.062612</td>\n",
       "      <td>-0.192247</td>\n",
       "      <td>-0.204475</td>\n",
       "      <td>-329.156586</td>\n",
       "      <td>-350.077881</td>\n",
       "    </tr>\n",
       "    <tr>\n",
       "      <th>ADP</th>\n",
       "      <td>104039</td>\n",
       "      <td>2128</td>\n",
       "      <td>2039</td>\n",
       "      <td>0.130810</td>\n",
       "      <td>0.097821</td>\n",
       "      <td>0.093734</td>\n",
       "      <td>-0.252188</td>\n",
       "      <td>-0.283431</td>\n",
       "      <td>-717.634989</td>\n",
       "      <td>-806.504179</td>\n",
       "    </tr>\n",
       "    <tr>\n",
       "      <th>PUNCT</th>\n",
       "      <td>55</td>\n",
       "      <td>0</td>\n",
       "      <td>3</td>\n",
       "      <td>0.000069</td>\n",
       "      <td>0.000000</td>\n",
       "      <td>0.000138</td>\n",
       "      <td>-1.000000</td>\n",
       "      <td>0.994323</td>\n",
       "      <td>-1.504339</td>\n",
       "      <td>1.495730</td>\n",
       "    </tr>\n",
       "    <tr>\n",
       "      <th>ADV</th>\n",
       "      <td>59023</td>\n",
       "      <td>1903</td>\n",
       "      <td>1885</td>\n",
       "      <td>0.074210</td>\n",
       "      <td>0.087478</td>\n",
       "      <td>0.086655</td>\n",
       "      <td>0.178785</td>\n",
       "      <td>0.167689</td>\n",
       "      <td>288.625449</td>\n",
       "      <td>270.699659</td>\n",
       "    </tr>\n",
       "    <tr>\n",
       "      <th>AUX</th>\n",
       "      <td>30939</td>\n",
       "      <td>1144</td>\n",
       "      <td>1135</td>\n",
       "      <td>0.038900</td>\n",
       "      <td>0.052588</td>\n",
       "      <td>0.052177</td>\n",
       "      <td>0.351876</td>\n",
       "      <td>0.341302</td>\n",
       "      <td>297.768290</td>\n",
       "      <td>288.807190</td>\n",
       "    </tr>\n",
       "    <tr>\n",
       "      <th>CCONJ</th>\n",
       "      <td>26093</td>\n",
       "      <td>407</td>\n",
       "      <td>503</td>\n",
       "      <td>0.032807</td>\n",
       "      <td>0.018709</td>\n",
       "      <td>0.023123</td>\n",
       "      <td>-0.429721</td>\n",
       "      <td>-0.295176</td>\n",
       "      <td>-306.685769</td>\n",
       "      <td>-210.652962</td>\n",
       "    </tr>\n",
       "    <tr>\n",
       "      <th>X</th>\n",
       "      <td>3946</td>\n",
       "      <td>72</td>\n",
       "      <td>63</td>\n",
       "      <td>0.004961</td>\n",
       "      <td>0.003310</td>\n",
       "      <td>0.002896</td>\n",
       "      <td>-0.332898</td>\n",
       "      <td>-0.416259</td>\n",
       "      <td>-35.929485</td>\n",
       "      <td>-44.924523</td>\n",
       "    </tr>\n",
       "    <tr>\n",
       "      <th>NOUN</th>\n",
       "      <td>190405</td>\n",
       "      <td>5732</td>\n",
       "      <td>5845</td>\n",
       "      <td>0.239399</td>\n",
       "      <td>0.263492</td>\n",
       "      <td>0.268699</td>\n",
       "      <td>0.100639</td>\n",
       "      <td>0.122388</td>\n",
       "      <td>524.115167</td>\n",
       "      <td>637.354566</td>\n",
       "    </tr>\n",
       "    <tr>\n",
       "      <th>DET</th>\n",
       "      <td>119782</td>\n",
       "      <td>2492</td>\n",
       "      <td>2307</td>\n",
       "      <td>0.150604</td>\n",
       "      <td>0.114554</td>\n",
       "      <td>0.106054</td>\n",
       "      <td>-0.239370</td>\n",
       "      <td>-0.295805</td>\n",
       "      <td>-784.231512</td>\n",
       "      <td>-969.080908</td>\n",
       "    </tr>\n",
       "    <tr>\n",
       "      <th>PROPN</th>\n",
       "      <td>76232</td>\n",
       "      <td>2201</td>\n",
       "      <td>2282</td>\n",
       "      <td>0.095848</td>\n",
       "      <td>0.101177</td>\n",
       "      <td>0.104905</td>\n",
       "      <td>0.055601</td>\n",
       "      <td>0.094499</td>\n",
       "      <td>115.931454</td>\n",
       "      <td>197.027301</td>\n",
       "    </tr>\n",
       "    <tr>\n",
       "      <th>NUM</th>\n",
       "      <td>33850</td>\n",
       "      <td>1010</td>\n",
       "      <td>1022</td>\n",
       "      <td>0.042560</td>\n",
       "      <td>0.046428</td>\n",
       "      <td>0.046982</td>\n",
       "      <td>0.090887</td>\n",
       "      <td>0.103899</td>\n",
       "      <td>84.147729</td>\n",
       "      <td>96.190290</td>\n",
       "    </tr>\n",
       "    <tr>\n",
       "      <th>VERB</th>\n",
       "      <td>57590</td>\n",
       "      <td>2143</td>\n",
       "      <td>2206</td>\n",
       "      <td>0.072409</td>\n",
       "      <td>0.098511</td>\n",
       "      <td>0.101411</td>\n",
       "      <td>0.360480</td>\n",
       "      <td>0.400540</td>\n",
       "      <td>567.820317</td>\n",
       "      <td>630.892726</td>\n",
       "    </tr>\n",
       "    <tr>\n",
       "      <th>PART</th>\n",
       "      <td>5649</td>\n",
       "      <td>99</td>\n",
       "      <td>88</td>\n",
       "      <td>0.007103</td>\n",
       "      <td>0.004551</td>\n",
       "      <td>0.004045</td>\n",
       "      <td>-0.359262</td>\n",
       "      <td>-0.430429</td>\n",
       "      <td>-55.509290</td>\n",
       "      <td>-66.502188</td>\n",
       "    </tr>\n",
       "    <tr>\n",
       "      <th>PRON</th>\n",
       "      <td>21101</td>\n",
       "      <td>935</td>\n",
       "      <td>904</td>\n",
       "      <td>0.026531</td>\n",
       "      <td>0.042981</td>\n",
       "      <td>0.041557</td>\n",
       "      <td>0.620039</td>\n",
       "      <td>0.566399</td>\n",
       "      <td>357.853508</td>\n",
       "      <td>326.880038</td>\n",
       "    </tr>\n",
       "    <tr>\n",
       "      <th>SCONJ</th>\n",
       "      <td>4044</td>\n",
       "      <td>105</td>\n",
       "      <td>109</td>\n",
       "      <td>0.005085</td>\n",
       "      <td>0.004827</td>\n",
       "      <td>0.005011</td>\n",
       "      <td>-0.050718</td>\n",
       "      <td>-0.014510</td>\n",
       "      <td>-5.609943</td>\n",
       "      <td>-1.604859</td>\n",
       "    </tr>\n",
       "  </tbody>\n",
       "</table>\n",
       "</div>"
      ],
      "text/plain": [
       "       general total  start token total  end token total  general percentage  \\\n",
       "ADJ            62598               1383             1362            0.078705   \n",
       "ADP           104039               2128             2039            0.130810   \n",
       "PUNCT             55                  0                3            0.000069   \n",
       "ADV            59023               1903             1885            0.074210   \n",
       "AUX            30939               1144             1135            0.038900   \n",
       "CCONJ          26093                407              503            0.032807   \n",
       "X               3946                 72               63            0.004961   \n",
       "NOUN          190405               5732             5845            0.239399   \n",
       "DET           119782               2492             2307            0.150604   \n",
       "PROPN          76232               2201             2282            0.095848   \n",
       "NUM            33850               1010             1022            0.042560   \n",
       "VERB           57590               2143             2206            0.072409   \n",
       "PART            5649                 99               88            0.007103   \n",
       "PRON           21101                935              904            0.026531   \n",
       "SCONJ           4044                105              109            0.005085   \n",
       "\n",
       "       start token percentage  end token percentage  \\\n",
       "ADJ                  0.063575              0.062612   \n",
       "ADP                  0.097821              0.093734   \n",
       "PUNCT                0.000000              0.000138   \n",
       "ADV                  0.087478              0.086655   \n",
       "AUX                  0.052588              0.052177   \n",
       "CCONJ                0.018709              0.023123   \n",
       "X                    0.003310              0.002896   \n",
       "NOUN                 0.263492              0.268699   \n",
       "DET                  0.114554              0.106054   \n",
       "PROPN                0.101177              0.104905   \n",
       "NUM                  0.046428              0.046982   \n",
       "VERB                 0.098511              0.101411   \n",
       "PART                 0.004551              0.004045   \n",
       "PRON                 0.042981              0.041557   \n",
       "SCONJ                0.004827              0.005011   \n",
       "\n",
       "       start token deviation from general  end token deviation from general  \\\n",
       "ADJ                             -0.192247                         -0.204475   \n",
       "ADP                             -0.252188                         -0.283431   \n",
       "PUNCT                           -1.000000                          0.994323   \n",
       "ADV                              0.178785                          0.167689   \n",
       "AUX                              0.351876                          0.341302   \n",
       "CCONJ                           -0.429721                         -0.295176   \n",
       "X                               -0.332898                         -0.416259   \n",
       "NOUN                             0.100639                          0.122388   \n",
       "DET                             -0.239370                         -0.295805   \n",
       "PROPN                            0.055601                          0.094499   \n",
       "NUM                              0.090887                          0.103899   \n",
       "VERB                             0.360480                          0.400540   \n",
       "PART                            -0.359262                         -0.430429   \n",
       "PRON                             0.620039                          0.566399   \n",
       "SCONJ                           -0.050718                         -0.014510   \n",
       "\n",
       "       start token total deviation  end token total deviation  \n",
       "ADJ                    -329.156586                -350.077881  \n",
       "ADP                    -717.634989                -806.504179  \n",
       "PUNCT                    -1.504339                   1.495730  \n",
       "ADV                     288.625449                 270.699659  \n",
       "AUX                     297.768290                 288.807190  \n",
       "CCONJ                  -306.685769                -210.652962  \n",
       "X                       -35.929485                 -44.924523  \n",
       "NOUN                    524.115167                 637.354566  \n",
       "DET                    -784.231512                -969.080908  \n",
       "PROPN                   115.931454                 197.027301  \n",
       "NUM                      84.147729                  96.190290  \n",
       "VERB                    567.820317                 630.892726  \n",
       "PART                    -55.509290                 -66.502188  \n",
       "PRON                    357.853508                 326.880038  \n",
       "SCONJ                    -5.609943                  -1.604859  "
      ]
     },
     "execution_count": 7,
     "metadata": {},
     "output_type": "execute_result"
    }
   ],
   "source": [
    "frequencies_df['general percentage'] = frequencies_df['general total'] / frequencies_df['general total'].sum()\n",
    "frequencies_df['start token percentage'] = frequencies_df['start token total'] / frequencies_df['start token total'].sum() \n",
    "frequencies_df['end token percentage'] = frequencies_df['end token total'] / frequencies_df['end token total'].sum() \n",
    "\n",
    "frequencies_df['start token deviation from general'] = (frequencies_df['start token percentage'] - frequencies_df['general percentage']) / frequencies_df['general percentage']\n",
    "frequencies_df['end token deviation from general'] = (frequencies_df['end token percentage'] - frequencies_df['general percentage']) / frequencies_df['general percentage']\n",
    "\n",
    "frequencies_df['start token total deviation'] = frequencies_df['start token total'] - (frequencies_df['general percentage'] * frequencies_df['start token total'].sum())\n",
    "frequencies_df['end token total deviation'] =  frequencies_df['end token total'] - (frequencies_df['general percentage'] * frequencies_df['end token total'].sum())\n",
    "\n",
    "frequencies_df"
   ]
  },
  {
   "cell_type": "code",
   "execution_count": 8,
   "id": "103c4381",
   "metadata": {},
   "outputs": [
    {
     "name": "stdout",
     "output_type": "stream",
     "text": [
      "795346\n",
      "21754\n",
      "21753\n"
     ]
    }
   ],
   "source": [
    "print(frequencies_df['general total'].sum())\n",
    "print(frequencies_df['start token total'].sum())\n",
    "print(frequencies_df['end token total'].sum())"
   ]
  },
  {
   "cell_type": "code",
   "execution_count": 9,
   "id": "38932a12",
   "metadata": {},
   "outputs": [
    {
     "data": {
      "text/plain": [
       "<AxesSubplot: title={'center': 'percentage difference start token'}>"
      ]
     },
     "execution_count": 9,
     "metadata": {},
     "output_type": "execute_result"
    },
    {
     "data": {
      "image/png": "[encoded data removed]",
      "text/plain": [
       "<Figure size 432x288 with 1 Axes>"
      ]
     },
     "metadata": {
      "needs_background": "light"
     },
     "output_type": "display_data"
    }
   ],
   "source": [
    "frequencies_df['start token deviation from general'].plot(kind=\"bar\", title = 'percentage difference start token')"
   ]
  },
  {
   "cell_type": "code",
   "execution_count": 10,
   "id": "9ba7cfff",
   "metadata": {},
   "outputs": [
    {
     "data": {
      "text/plain": [
       "<AxesSubplot: title={'center': 'total difference start token'}>"
      ]
     },
     "execution_count": 10,
     "metadata": {},
     "output_type": "execute_result"
    },
    {
     "data": {
      "image/png": "[encoded data removed]",
      "text/plain": [
       "<Figure size 432x288 with 1 Axes>"
      ]
     },
     "metadata": {
      "needs_background": "light"
     },
     "output_type": "display_data"
    }
   ],
   "source": [
    "frequencies_df['start token total deviation'].plot(kind=\"bar\", title = 'total difference start token')"
   ]
  },
  {
   "cell_type": "code",
   "execution_count": 11,
   "id": "3f297950",
   "metadata": {},
   "outputs": [
    {
     "data": {
      "text/plain": [
       "<AxesSubplot: title={'center': 'percentage difference end token'}>"
      ]
     },
     "execution_count": 11,
     "metadata": {},
     "output_type": "execute_result"
    },
    {
     "data": {
      "image/png": "[encoded data removed]",
      "text/plain": [
       "<Figure size 432x288 with 1 Axes>"
      ]
     },
     "metadata": {
      "needs_background": "light"
     },
     "output_type": "display_data"
    }
   ],
   "source": [
    "frequencies_df['end token deviation from general'].plot(kind=\"bar\", title = 'percentage difference end token')"
   ]
  },
  {
   "cell_type": "code",
   "execution_count": 12,
   "id": "f69fb9a7",
   "metadata": {},
   "outputs": [
    {
     "data": {
      "text/plain": [
       "<AxesSubplot: title={'center': 'total difference end token'}>"
      ]
     },
     "execution_count": 12,
     "metadata": {},
     "output_type": "execute_result"
    },
    {
     "data": {
      "image/png": "[encoded data removed]",
      "text/plain": [
       "<Figure size 432x288 with 1 Axes>"
      ]
     },
     "metadata": {
      "needs_background": "light"
     },
     "output_type": "display_data"
    }
   ],
   "source": [
    "frequencies_df['end token total deviation'].plot(kind=\"bar\", title = 'total difference end token')"
   ]
  },
  {
   "cell_type": "markdown",
   "id": "83ffc9f0",
   "metadata": {},
   "source": [
    "### notes thorsten idee\n",
    "auf question-ebene betrachten\n"
   ]
  }
 ],
 "metadata": {
  "kernelspec": {
   "display_name": "Python 3 (ipykernel)",
   "language": "python",
   "name": "python3"
  },
  "language_info": {
   "codemirror_mode": {
    "name": "ipython",
    "version": 3
   },
   "file_extension": ".py",
   "mimetype": "text/x-python",
   "name": "python",
   "nbconvert_exporter": "python",
   "pygments_lexer": "ipython3",
   "version": "3.9.7"
  }
 },
 "nbformat": 4,
 "nbformat_minor": 5
}
