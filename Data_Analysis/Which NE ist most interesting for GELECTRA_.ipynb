{
 "cells": [
  {
   "cell_type": "markdown",
   "id": "3005547a",
   "metadata": {},
   "source": [
    "a) Importance of nouns for GELECTRA \n",
    "\n",
    "b) Importance of Question-Words\n",
    "\n",
    "c) Difference between start and end tokens\n",
    "\n",
    "d) No significant NER differences for different questiont types\n",
    "\n",
    "e) Investigate Wo-Fragen, just for the sacke of wo == LOC/GEL theory\n"
   ]
  },
  {
   "cell_type": "markdown",
   "id": "965b383d",
   "metadata": {},
   "source": [
    "# Which NER ist most interesting for GELECTRA?"
   ]
  },
  {
   "cell_type": "markdown",
   "id": "22ceb1b2",
   "metadata": {},
   "source": [
    "## Initialize Settings"
   ]
  },
  {
   "cell_type": "code",
   "execution_count": 1,
   "id": "6297999c",
   "metadata": {},
   "outputs": [
    {
     "name": "stdout",
     "output_type": "stream",
     "text": [
      "/home/jupyter-stefan.beuchert/2022-11-26_version\n"
     ]
    }
   ],
   "source": [
    "%cd .."
   ]
  },
  {
   "cell_type": "code",
   "execution_count": 2,
   "id": "09dfd82a",
   "metadata": {},
   "outputs": [],
   "source": [
    "# requirements\n",
    "import pandas as pd\n",
    "import numpy as np\n",
    "import matplotlib.pyplot as plt"
   ]
  },
  {
   "cell_type": "code",
   "execution_count": 29,
   "id": "a6da5a2a",
   "metadata": {},
   "outputs": [],
   "source": [
    "# config\n",
    "number_of_features = 10 # the default value\n",
    "number_of_samples = 5000 # the default value\n",
    "\n",
    "source_path_for_data = f'data/Data_Preparation/lime_ns_{number_of_samples}_nf_{number_of_features}_after_frequency_analysis.json'\n",
    "\n",
    "# list of possible POS tags\n",
    "NER_tag_list = ['',\n",
    "               'LOC',\n",
    "               'PER',\n",
    "               'MISC',\n",
    "               'ORG']"
   ]
  },
  {
   "cell_type": "code",
   "execution_count": 30,
   "id": "9673231b",
   "metadata": {},
   "outputs": [
    {
     "data": {
      "text/html": [
       "<div>\n",
       "<style scoped>\n",
       "    .dataframe tbody tr th:only-of-type {\n",
       "        vertical-align: middle;\n",
       "    }\n",
       "\n",
       "    .dataframe tbody tr th {\n",
       "        vertical-align: top;\n",
       "    }\n",
       "\n",
       "    .dataframe thead th {\n",
       "        text-align: right;\n",
       "    }\n",
       "</style>\n",
       "<table border=\"1\" class=\"dataframe\">\n",
       "  <thead>\n",
       "    <tr style=\"text-align: right;\">\n",
       "      <th></th>\n",
       "      <th>question</th>\n",
       "      <th>answers</th>\n",
       "      <th>context</th>\n",
       "      <th>document_id</th>\n",
       "      <th>is_impossible</th>\n",
       "      <th>usage</th>\n",
       "      <th>prediction</th>\n",
       "      <th>explanation</th>\n",
       "    </tr>\n",
       "  </thead>\n",
       "  <tbody>\n",
       "    <tr>\n",
       "      <th>37495</th>\n",
       "      <td>Wie viele Amerikaner fühlen sich mehr als eine...</td>\n",
       "      <td>[{'answer_id': 37854, 'document_id': 41057, 'q...</td>\n",
       "      <td>Race__United_States_Census_\\n\\n=== „Race“ ===\\...</td>\n",
       "      <td>41057</td>\n",
       "      <td>False</td>\n",
       "      <td>test</td>\n",
       "      <td>fast sieben Millionen</td>\n",
       "      <td>position_id   lime_token question_or_cont...</td>\n",
       "    </tr>\n",
       "  </tbody>\n",
       "</table>\n",
       "</div>"
      ],
      "text/plain": [
       "                                                question  \\\n",
       "37495  Wie viele Amerikaner fühlen sich mehr als eine...   \n",
       "\n",
       "                                                 answers  \\\n",
       "37495  [{'answer_id': 37854, 'document_id': 41057, 'q...   \n",
       "\n",
       "                                                 context  document_id  \\\n",
       "37495  Race__United_States_Census_\\n\\n=== „Race“ ===\\...        41057   \n",
       "\n",
       "       is_impossible usage             prediction  \\\n",
       "37495          False  test  fast sieben Millionen   \n",
       "\n",
       "                                             explanation  \n",
       "37495       position_id   lime_token question_or_cont...  "
      ]
     },
     "execution_count": 30,
     "metadata": {},
     "output_type": "execute_result"
    }
   ],
   "source": [
    "# load data\n",
    "data_df = pd.read_json(source_path_for_data)\n",
    "data_df['explanation'] = [pd.DataFrame(exp) for exp in data_df['explanation'].tolist()]\n",
    "data_df.head(1)"
   ]
  },
  {
   "cell_type": "markdown",
   "id": "092b9a82",
   "metadata": {},
   "source": [
    "## Importance of enteties for GELECTRA"
   ]
  },
  {
   "cell_type": "code",
   "execution_count": 10,
   "id": "419827af",
   "metadata": {},
   "outputs": [
    {
     "ename": "ModuleNotFoundError",
     "evalue": "No module named 'de_core_news_md'",
     "output_type": "error",
     "traceback": [
      "\u001b[0;31m---------------------------------------------------------------------------\u001b[0m",
      "\u001b[0;31mModuleNotFoundError\u001b[0m                       Traceback (most recent call last)",
      "\u001b[0;32m/tmp/ipykernel_672430/3758767377.py\u001b[0m in \u001b[0;36m<module>\u001b[0;34m\u001b[0m\n\u001b[1;32m      1\u001b[0m \u001b[0;32mimport\u001b[0m \u001b[0mspacy\u001b[0m\u001b[0;34m\u001b[0m\u001b[0;34m\u001b[0m\u001b[0m\n\u001b[0;32m----> 2\u001b[0;31m \u001b[0;32mimport\u001b[0m \u001b[0mde_core_news_md\u001b[0m\u001b[0;34m\u001b[0m\u001b[0;34m\u001b[0m\u001b[0m\n\u001b[0m\u001b[1;32m      3\u001b[0m \u001b[0mnlp\u001b[0m \u001b[0;34m=\u001b[0m \u001b[0mde_core_news_md\u001b[0m\u001b[0;34m.\u001b[0m\u001b[0mload\u001b[0m\u001b[0;34m(\u001b[0m\u001b[0;34m)\u001b[0m\u001b[0;34m\u001b[0m\u001b[0;34m\u001b[0m\u001b[0m\n\u001b[1;32m      4\u001b[0m \u001b[0mnlp\u001b[0m \u001b[0;34m=\u001b[0m \u001b[0mspacy\u001b[0m\u001b[0;34m.\u001b[0m\u001b[0mload\u001b[0m\u001b[0;34m(\u001b[0m\u001b[0;34m\"de_core_news_md\"\u001b[0m\u001b[0;34m)\u001b[0m\u001b[0;34m\u001b[0m\u001b[0;34m\u001b[0m\u001b[0m\n\u001b[1;32m      5\u001b[0m \u001b[0mnlp\u001b[0m\u001b[0;34m.\u001b[0m\u001b[0mget_pipe\u001b[0m\u001b[0;34m(\u001b[0m\u001b[0;34m'ner'\u001b[0m\u001b[0;34m)\u001b[0m\u001b[0;34m.\u001b[0m\u001b[0mlabels\u001b[0m\u001b[0;34m\u001b[0m\u001b[0;34m\u001b[0m\u001b[0m\n",
      "\u001b[0;31mModuleNotFoundError\u001b[0m: No module named 'de_core_news_md'"
     ]
    }
   ],
   "source": [
    "import spacy\n",
    "import de_core_news_md\n",
    "nlp = de_core_news_md.load()\n",
    "nlp = spacy.load(\"de_core_news_md\")\n",
    "nlp.get_pipe('ner').labels\n",
    "\n",
    "# es gibt nur 4 labels"
   ]
  },
  {
   "cell_type": "code",
   "execution_count": 12,
   "id": "bb7860fc",
   "metadata": {},
   "outputs": [
    {
     "name": "stdout",
     "output_type": "stream",
     "text": [
      "/home/jupyter-stefan.beuchert/.local/lib/python3.9/site-packages/torch/cuda/__init__.py:497: UserWarning: Can't initialize NVML\n",
      "  warnings.warn(\"Can't initialize NVML\")\n",
      "/home/jupyter-stefan.beuchert/.local/lib/python3.9/site-packages/torch/cuda/__init__.py:529: UserWarning: CUDA initialization: Unexpected error from cudaGetDeviceCount(). Did you run some cuda functions before calling NumCudaDevices() that might have already set an error? Error 804: forward compatibility was attempted on non supported HW (Triggered internally at ../c10/cuda/CUDAFunctions.cpp:109.)\n",
      "  return torch._C._cuda_getDeviceCount() if nvml_count < 0 else nvml_count\n",
      "Traceback (most recent call last):\n",
      "  File \"/opt/tljh/user/lib/python3.9/site-packages/urllib3/connection.py\", line 174, in _new_conn\n",
      "    conn = connection.create_connection(\n",
      "  File \"/opt/tljh/user/lib/python3.9/site-packages/urllib3/util/connection.py\", line 73, in create_connection\n",
      "    for res in socket.getaddrinfo(host, port, family, socket.SOCK_STREAM):\n",
      "  File \"/opt/tljh/user/lib/python3.9/socket.py\", line 954, in getaddrinfo\n",
      "    for res in _socket.getaddrinfo(host, port, family, type, proto, flags):\n",
      "socket.gaierror: [Errno -3] Temporary failure in name resolution\n",
      "\n",
      "During handling of the above exception, another exception occurred:\n",
      "\n",
      "Traceback (most recent call last):\n",
      "  File \"/opt/tljh/user/lib/python3.9/site-packages/urllib3/connectionpool.py\", line 699, in urlopen\n",
      "    httplib_response = self._make_request(\n",
      "  File \"/opt/tljh/user/lib/python3.9/site-packages/urllib3/connectionpool.py\", line 382, in _make_request\n",
      "    self._validate_conn(conn)\n",
      "  File \"/opt/tljh/user/lib/python3.9/site-packages/urllib3/connectionpool.py\", line 1010, in _validate_conn\n",
      "    conn.connect()\n",
      "  File \"/opt/tljh/user/lib/python3.9/site-packages/urllib3/connection.py\", line 358, in connect\n",
      "    conn = self._new_conn()\n",
      "  File \"/opt/tljh/user/lib/python3.9/site-packages/urllib3/connection.py\", line 186, in _new_conn\n",
      "    raise NewConnectionError(\n",
      "urllib3.exceptions.NewConnectionError: <urllib3.connection.HTTPSConnection object at 0x7f765ed77d00>: Failed to establish a new connection: [Errno -3] Temporary failure in name resolution\n",
      "\n",
      "During handling of the above exception, another exception occurred:\n",
      "\n",
      "Traceback (most recent call last):\n",
      "  File \"/opt/tljh/user/lib/python3.9/site-packages/requests/adapters.py\", line 439, in send\n",
      "    resp = conn.urlopen(\n",
      "  File \"/opt/tljh/user/lib/python3.9/site-packages/urllib3/connectionpool.py\", line 755, in urlopen\n",
      "    retries = retries.increment(\n",
      "  File \"/opt/tljh/user/lib/python3.9/site-packages/urllib3/util/retry.py\", line 574, in increment\n",
      "    raise MaxRetryError(_pool, url, error or ResponseError(cause))\n",
      "urllib3.exceptions.MaxRetryError: HTTPSConnectionPool(host='raw.githubusercontent.com', port=443): Max retries exceeded with url: /explosion/spacy-models/master/compatibility.json (Caused by NewConnectionError('<urllib3.connection.HTTPSConnection object at 0x7f765ed77d00>: Failed to establish a new connection: [Errno -3] Temporary failure in name resolution'))\n",
      "\n",
      "During handling of the above exception, another exception occurred:\n",
      "\n",
      "Traceback (most recent call last):\n",
      "  File \"/opt/tljh/user/lib/python3.9/runpy.py\", line 197, in _run_module_as_main\n",
      "    return _run_code(code, main_globals, None,\n",
      "  File \"/opt/tljh/user/lib/python3.9/runpy.py\", line 87, in _run_code\n",
      "    exec(code, run_globals)\n",
      "  File \"/home/jupyter-stefan.beuchert/.local/lib/python3.9/site-packages/spacy/__main__.py\", line 4, in <module>\n",
      "    setup_cli()\n",
      "  File \"/home/jupyter-stefan.beuchert/.local/lib/python3.9/site-packages/spacy/cli/_util.py\", line 71, in setup_cli\n",
      "    command(prog_name=COMMAND)\n",
      "  File \"/home/jupyter-stefan.beuchert/.local/lib/python3.9/site-packages/click/core.py\", line 1130, in __call__\n",
      "    return self.main(*args, **kwargs)\n",
      "  File \"/home/jupyter-stefan.beuchert/.local/lib/python3.9/site-packages/typer/core.py\", line 778, in main\n",
      "    return _main(\n",
      "  File \"/home/jupyter-stefan.beuchert/.local/lib/python3.9/site-packages/typer/core.py\", line 216, in _main\n",
      "    rv = self.invoke(ctx)\n",
      "  File \"/home/jupyter-stefan.beuchert/.local/lib/python3.9/site-packages/click/core.py\", line 1657, in invoke\n",
      "    return _process_result(sub_ctx.command.invoke(sub_ctx))\n",
      "  File \"/home/jupyter-stefan.beuchert/.local/lib/python3.9/site-packages/click/core.py\", line 1404, in invoke\n",
      "    return ctx.invoke(self.callback, **ctx.params)\n",
      "  File \"/home/jupyter-stefan.beuchert/.local/lib/python3.9/site-packages/click/core.py\", line 760, in invoke\n",
      "    return __callback(*args, **kwargs)\n",
      "  File \"/home/jupyter-stefan.beuchert/.local/lib/python3.9/site-packages/typer/main.py\", line 683, in wrapper\n",
      "    return callback(**use_params)  # type: ignore\n",
      "  File \"/home/jupyter-stefan.beuchert/.local/lib/python3.9/site-packages/spacy/cli/download.py\", line 36, in download_cli\n",
      "    download(model, direct, sdist, *ctx.args)\n",
      "  File \"/home/jupyter-stefan.beuchert/.local/lib/python3.9/site-packages/spacy/cli/download.py\", line 70, in download\n",
      "    compatibility = get_compatibility()\n",
      "  File \"/home/jupyter-stefan.beuchert/.local/lib/python3.9/site-packages/spacy/cli/download.py\", line 97, in get_compatibility\n",
      "    r = requests.get(about.__compatibility__)\n",
      "  File \"/opt/tljh/user/lib/python3.9/site-packages/requests/api.py\", line 75, in get\n",
      "    return request('get', url, params=params, **kwargs)\n",
      "  File \"/opt/tljh/user/lib/python3.9/site-packages/requests/api.py\", line 61, in request\n",
      "    return session.request(method=method, url=url, **kwargs)\n",
      "  File \"/opt/tljh/user/lib/python3.9/site-packages/requests/sessions.py\", line 542, in request\n",
      "    resp = self.send(prep, **send_kwargs)\n",
      "  File \"/opt/tljh/user/lib/python3.9/site-packages/requests/sessions.py\", line 655, in send\n",
      "    r = adapter.send(request, **kwargs)\n",
      "  File \"/opt/tljh/user/lib/python3.9/site-packages/requests/adapters.py\", line 516, in send\n",
      "    raise ConnectionError(e, request=request)\n",
      "requests.exceptions.ConnectionError: HTTPSConnectionPool(host='raw.githubusercontent.com', port=443): Max retries exceeded with url: /explosion/spacy-models/master/compatibility.json (Caused by NewConnectionError('<urllib3.connection.HTTPSConnection object at 0x7f765ed77d00>: Failed to establish a new connection: [Errno -3] Temporary failure in name resolution'))\n"
     ]
    }
   ],
   "source": [
    "!python -m spacy download de_core_news_sm"
   ]
  },
  {
   "cell_type": "code",
   "execution_count": 31,
   "id": "ab6e0eb3",
   "metadata": {},
   "outputs": [],
   "source": [
    "# get NOUN and PROPN counts in LIME highlights\n",
    "\n",
    "# get total number of LIME Highlights\n",
    "# get NOUN and PROPN counts for all possible tokens"
   ]
  },
  {
   "cell_type": "code",
   "execution_count": null,
   "id": "21129cfa",
   "metadata": {},
   "outputs": [],
   "source": []
  },
  {
   "cell_type": "code",
   "execution_count": 32,
   "id": "ce6992b3",
   "metadata": {},
   "outputs": [
    {
     "data": {
      "text/html": [
       "<div>\n",
       "<style scoped>\n",
       "    .dataframe tbody tr th:only-of-type {\n",
       "        vertical-align: middle;\n",
       "    }\n",
       "\n",
       "    .dataframe tbody tr th {\n",
       "        vertical-align: top;\n",
       "    }\n",
       "\n",
       "    .dataframe thead th {\n",
       "        text-align: right;\n",
       "    }\n",
       "</style>\n",
       "<table border=\"1\" class=\"dataframe\">\n",
       "  <thead>\n",
       "    <tr style=\"text-align: right;\">\n",
       "      <th></th>\n",
       "      <th>general total</th>\n",
       "      <th>start token total</th>\n",
       "      <th>end token total</th>\n",
       "    </tr>\n",
       "  </thead>\n",
       "  <tbody>\n",
       "    <tr>\n",
       "      <th></th>\n",
       "      <td>670775</td>\n",
       "      <td>17981</td>\n",
       "      <td>17928</td>\n",
       "    </tr>\n",
       "    <tr>\n",
       "      <th>LOC</th>\n",
       "      <td>36833</td>\n",
       "      <td>1250</td>\n",
       "      <td>1281</td>\n",
       "    </tr>\n",
       "    <tr>\n",
       "      <th>PER</th>\n",
       "      <td>28768</td>\n",
       "      <td>863</td>\n",
       "      <td>915</td>\n",
       "    </tr>\n",
       "    <tr>\n",
       "      <th>MISC</th>\n",
       "      <td>40793</td>\n",
       "      <td>1073</td>\n",
       "      <td>998</td>\n",
       "    </tr>\n",
       "    <tr>\n",
       "      <th>ORG</th>\n",
       "      <td>20388</td>\n",
       "      <td>593</td>\n",
       "      <td>638</td>\n",
       "    </tr>\n",
       "  </tbody>\n",
       "</table>\n",
       "</div>"
      ],
      "text/plain": [
       "      general total  start token total  end token total\n",
       "             670775              17981            17928\n",
       "LOC           36833               1250             1281\n",
       "PER           28768                863              915\n",
       "MISC          40793               1073              998\n",
       "ORG           20388                593              638"
      ]
     },
     "execution_count": 32,
     "metadata": {},
     "output_type": "execute_result"
    }
   ],
   "source": [
    "# get NOUN and PROPN counts in LIME highlights\n",
    "\n",
    "# get list of all explanations (containing every data point with info about each token)\n",
    "explanation_list = data_df.explanation.tolist()\n",
    "\n",
    "# create empty dicts to count POS tags \n",
    "general_counter_for_NER = {NER_tag: 0 for NER_tag in NER_tag_list}\n",
    "lime_highlights_for_start_tokens__counter_for_NER = {NER_tag: 0 for NER_tag in NER_tag_list}\n",
    "lime_highlights_for_end_tokens__counter_for_NER = {NER_tag: 0 for NER_tag in NER_tag_list}\n",
    "\n",
    "\n",
    "# for each token in each data point\n",
    "for explanation in explanation_list:\n",
    "        \n",
    "        # get lime highlights for start and end token subsets\n",
    "        lime_highlights_for_start_token = explanation[explanation['start_token_weight'].notnull()]\n",
    "        lime_highlights_for_end_token = explanation[explanation['end_token_weight'].notnull()]\n",
    "        \n",
    "        # get total count of each POS tag for that data point\n",
    "        total_count_of_each_NER = explanation['ner_tag'].value_counts()\n",
    "        total_count_of_each_NER_for_start_token_highlights = lime_highlights_for_start_token['ner_tag'].value_counts()\n",
    "        total_count_of_each_NER_for_end_token_highlights = lime_highlights_for_end_token['ner_tag'].value_counts()\n",
    "        \n",
    "        # convert panda.Series to dicts for better extraction of values\n",
    "        total_count_of_each_NER_dict = total_count_of_each_NER.to_dict()\n",
    "        total_count_of_each_NER_for_start_token_highlights_dict = total_count_of_each_NER_for_start_token_highlights.to_dict()\n",
    "        total_count_of_each_NER_for_end_token_highlights_dict = total_count_of_each_NER_for_end_token_highlights.to_dict()\n",
    "        \n",
    "        \n",
    "        # save POS counts in designated dicts\n",
    "        for ner_tag in total_count_of_each_NER_dict:\n",
    "            general_counter_for_NER[ner_tag] += total_count_of_each_NER_dict[ner_tag]\n",
    "            \n",
    "        for ner_tag in total_count_of_each_NER_for_start_token_highlights_dict:\n",
    "            lime_highlights_for_start_tokens__counter_for_NER[ner_tag] += total_count_of_each_NER_for_start_token_highlights_dict[ner_tag]\n",
    "        \n",
    "        for ner_tag in total_count_of_each_NER_for_end_token_highlights_dict:\n",
    "            lime_highlights_for_end_tokens__counter_for_NER[ner_tag] += total_count_of_each_NER_for_end_token_highlights_dict[ner_tag]\n",
    "            \n",
    "# remove 'SPACE' and '' elements from the dict, as they do not represent valid tokens\n",
    "if False:\n",
    "    general_counter_for_NER.pop('SPACE')\n",
    "    general_counter_for_NER.pop('')\n",
    "    general_counter_for_NER.pop('SYM')\n",
    "    general_counter_for_NER.pop('INTJ')\n",
    "\n",
    "    lime_highlights_for_start_tokens__counter_for_NER.pop('SPACE')\n",
    "    lime_highlights_for_start_tokens__counter_for_NER.pop('')\n",
    "    lime_highlights_for_start_tokens__counter_for_NER.pop('SYM')\n",
    "    lime_highlights_for_start_tokens__counter_for_NER.pop('INTJ')\n",
    "\n",
    "    lime_highlights_for_end_tokens__counter_for_NER.pop('SPACE')\n",
    "    lime_highlights_for_end_tokens__counter_for_NER.pop('')\n",
    "    lime_highlights_for_end_tokens__counter_for_NER.pop('SYM')\n",
    "    lime_highlights_for_end_tokens__counter_for_NER.pop('INTJ')\n",
    "\n",
    "# safe data in df\n",
    "frequencies_df = pd.DataFrame([general_counter_for_NER, \n",
    "                               lime_highlights_for_start_tokens__counter_for_NER, \n",
    "                               lime_highlights_for_end_tokens__counter_for_NER])\n",
    "\n",
    "frequencies_df = frequencies_df.T\n",
    "frequencies_df = frequencies_df.rename({0: 'general total', 1: 'start token total', 2: 'end token total'}, axis='columns')\n",
    "frequencies_df"
   ]
  },
  {
   "cell_type": "markdown",
   "id": "30a2aeea",
   "metadata": {},
   "source": [
    "# TODO: HIER DIE BERECHNUNGEN NOCH MAL ÜBERDENKEN"
   ]
  },
  {
   "cell_type": "code",
   "execution_count": 33,
   "id": "aa361346",
   "metadata": {},
   "outputs": [
    {
     "data": {
      "text/html": [
       "<div>\n",
       "<style scoped>\n",
       "    .dataframe tbody tr th:only-of-type {\n",
       "        vertical-align: middle;\n",
       "    }\n",
       "\n",
       "    .dataframe tbody tr th {\n",
       "        vertical-align: top;\n",
       "    }\n",
       "\n",
       "    .dataframe thead th {\n",
       "        text-align: right;\n",
       "    }\n",
       "</style>\n",
       "<table border=\"1\" class=\"dataframe\">\n",
       "  <thead>\n",
       "    <tr style=\"text-align: right;\">\n",
       "      <th></th>\n",
       "      <th>general total</th>\n",
       "      <th>start token total</th>\n",
       "      <th>end token total</th>\n",
       "      <th>general percentage</th>\n",
       "      <th>start token percentage</th>\n",
       "      <th>end token percentage</th>\n",
       "      <th>start token deviation from general</th>\n",
       "      <th>end token deviation from general</th>\n",
       "      <th>start token total deviation</th>\n",
       "      <th>end token total deviation</th>\n",
       "    </tr>\n",
       "  </thead>\n",
       "  <tbody>\n",
       "    <tr>\n",
       "      <th></th>\n",
       "      <td>670775</td>\n",
       "      <td>17981</td>\n",
       "      <td>17928</td>\n",
       "      <td>0.841037</td>\n",
       "      <td>0.826333</td>\n",
       "      <td>0.823897</td>\n",
       "      <td>-0.017484</td>\n",
       "      <td>-0.020380</td>\n",
       "      <td>-319.966577</td>\n",
       "      <td>-372.966577</td>\n",
       "    </tr>\n",
       "    <tr>\n",
       "      <th>LOC</th>\n",
       "      <td>36833</td>\n",
       "      <td>1250</td>\n",
       "      <td>1281</td>\n",
       "      <td>0.046182</td>\n",
       "      <td>0.057445</td>\n",
       "      <td>0.058869</td>\n",
       "      <td>0.243872</td>\n",
       "      <td>0.274720</td>\n",
       "      <td>245.073606</td>\n",
       "      <td>276.073606</td>\n",
       "    </tr>\n",
       "    <tr>\n",
       "      <th>PER</th>\n",
       "      <td>28768</td>\n",
       "      <td>863</td>\n",
       "      <td>915</td>\n",
       "      <td>0.036070</td>\n",
       "      <td>0.039660</td>\n",
       "      <td>0.042050</td>\n",
       "      <td>0.099522</td>\n",
       "      <td>0.165774</td>\n",
       "      <td>78.113553</td>\n",
       "      <td>130.113553</td>\n",
       "    </tr>\n",
       "    <tr>\n",
       "      <th>MISC</th>\n",
       "      <td>40793</td>\n",
       "      <td>1073</td>\n",
       "      <td>998</td>\n",
       "      <td>0.051147</td>\n",
       "      <td>0.049311</td>\n",
       "      <td>0.045864</td>\n",
       "      <td>-0.035911</td>\n",
       "      <td>-0.103299</td>\n",
       "      <td>-39.968327</td>\n",
       "      <td>-114.968327</td>\n",
       "    </tr>\n",
       "    <tr>\n",
       "      <th>ORG</th>\n",
       "      <td>20388</td>\n",
       "      <td>593</td>\n",
       "      <td>638</td>\n",
       "      <td>0.025563</td>\n",
       "      <td>0.027252</td>\n",
       "      <td>0.029320</td>\n",
       "      <td>0.066063</td>\n",
       "      <td>0.146962</td>\n",
       "      <td>36.747745</td>\n",
       "      <td>81.747745</td>\n",
       "    </tr>\n",
       "  </tbody>\n",
       "</table>\n",
       "</div>"
      ],
      "text/plain": [
       "      general total  start token total  end token total  general percentage  \\\n",
       "             670775              17981            17928            0.841037   \n",
       "LOC           36833               1250             1281            0.046182   \n",
       "PER           28768                863              915            0.036070   \n",
       "MISC          40793               1073              998            0.051147   \n",
       "ORG           20388                593              638            0.025563   \n",
       "\n",
       "      start token percentage  end token percentage  \\\n",
       "                    0.826333              0.823897   \n",
       "LOC                 0.057445              0.058869   \n",
       "PER                 0.039660              0.042050   \n",
       "MISC                0.049311              0.045864   \n",
       "ORG                 0.027252              0.029320   \n",
       "\n",
       "      start token deviation from general  end token deviation from general  \\\n",
       "                               -0.017484                         -0.020380   \n",
       "LOC                             0.243872                          0.274720   \n",
       "PER                             0.099522                          0.165774   \n",
       "MISC                           -0.035911                         -0.103299   \n",
       "ORG                             0.066063                          0.146962   \n",
       "\n",
       "      start token total deviation  end token total deviation  \n",
       "                      -319.966577                -372.966577  \n",
       "LOC                    245.073606                 276.073606  \n",
       "PER                     78.113553                 130.113553  \n",
       "MISC                   -39.968327                -114.968327  \n",
       "ORG                     36.747745                  81.747745  "
      ]
     },
     "execution_count": 33,
     "metadata": {},
     "output_type": "execute_result"
    }
   ],
   "source": [
    "frequencies_df['general percentage'] = frequencies_df['general total'] / frequencies_df['general total'].sum()\n",
    "frequencies_df['start token percentage'] = frequencies_df['start token total'] / frequencies_df['start token total'].sum() \n",
    "frequencies_df['end token percentage'] = frequencies_df['end token total'] / frequencies_df['end token total'].sum() \n",
    "\n",
    "frequencies_df['start token deviation from general'] = (frequencies_df['start token percentage'] - frequencies_df['general percentage']) / frequencies_df['general percentage']\n",
    "frequencies_df['end token deviation from general'] = (frequencies_df['end token percentage'] - frequencies_df['general percentage']) / frequencies_df['general percentage']\n",
    "\n",
    "frequencies_df['start token total deviation'] = frequencies_df['start token total'] - (frequencies_df['general percentage'] * frequencies_df['start token total'].sum())\n",
    "frequencies_df['end token total deviation'] =  frequencies_df['end token total'] - (frequencies_df['general percentage'] * frequencies_df['end token total'].sum())\n",
    "\n",
    "frequencies_df"
   ]
  },
  {
   "cell_type": "code",
   "execution_count": 34,
   "id": "103c4381",
   "metadata": {},
   "outputs": [
    {
     "name": "stdout",
     "output_type": "stream",
     "text": [
      "797557\n",
      "21760\n",
      "21760\n"
     ]
    }
   ],
   "source": [
    "print(frequencies_df['general total'].sum())\n",
    "print(frequencies_df['start token total'].sum())\n",
    "print(frequencies_df['end token total'].sum())"
   ]
  },
  {
   "cell_type": "code",
   "execution_count": 35,
   "id": "38932a12",
   "metadata": {},
   "outputs": [
    {
     "data": {
      "text/plain": [
       "<AxesSubplot: title={'center': 'percentage difference start token'}>"
      ]
     },
     "execution_count": 35,
     "metadata": {},
     "output_type": "execute_result"
    },
    {
     "data": {
      "image/png": "[encoded data removed]",
      "text/plain": [
       "<Figure size 432x288 with 1 Axes>"
      ]
     },
     "metadata": {
      "needs_background": "light"
     },
     "output_type": "display_data"
    }
   ],
   "source": [
    "frequencies_df['start token deviation from general'].plot(kind=\"bar\", title = 'percentage difference start token')"
   ]
  },
  {
   "cell_type": "code",
   "execution_count": 36,
   "id": "9ba7cfff",
   "metadata": {},
   "outputs": [
    {
     "data": {
      "text/plain": [
       "<AxesSubplot: title={'center': 'total difference start token'}>"
      ]
     },
     "execution_count": 36,
     "metadata": {},
     "output_type": "execute_result"
    },
    {
     "data": {
      "image/png": "[encoded data removed]",
      "text/plain": [
       "<Figure size 432x288 with 1 Axes>"
      ]
     },
     "metadata": {
      "needs_background": "light"
     },
     "output_type": "display_data"
    }
   ],
   "source": [
    "frequencies_df['start token total deviation'].plot(kind=\"bar\", title = 'total difference start token')"
   ]
  },
  {
   "cell_type": "code",
   "execution_count": 37,
   "id": "3f297950",
   "metadata": {},
   "outputs": [
    {
     "data": {
      "text/plain": [
       "<AxesSubplot: title={'center': 'percentage difference end token'}>"
      ]
     },
     "execution_count": 37,
     "metadata": {},
     "output_type": "execute_result"
    },
    {
     "data": {
      "image/png": "[encoded data removed]",
      "text/plain": [
       "<Figure size 432x288 with 1 Axes>"
      ]
     },
     "metadata": {
      "needs_background": "light"
     },
     "output_type": "display_data"
    }
   ],
   "source": [
    "frequencies_df['end token deviation from general'].plot(kind=\"bar\", title = 'percentage difference end token')"
   ]
  },
  {
   "cell_type": "code",
   "execution_count": 38,
   "id": "f69fb9a7",
   "metadata": {},
   "outputs": [
    {
     "data": {
      "text/plain": [
       "<AxesSubplot: title={'center': 'total difference end token'}>"
      ]
     },
     "execution_count": 38,
     "metadata": {},
     "output_type": "execute_result"
    },
    {
     "data": {
      "image/png": "[encoded data removed]",
      "text/plain": [
       "<Figure size 432x288 with 1 Axes>"
      ]
     },
     "metadata": {
      "needs_background": "light"
     },
     "output_type": "display_data"
    }
   ],
   "source": [
    "frequencies_df['end token total deviation'].plot(kind=\"bar\", title = 'total difference end token')"
   ]
  },
  {
   "cell_type": "markdown",
   "id": "27812de9",
   "metadata": {},
   "source": [
    "## NER on question level"
   ]
  },
  {
   "cell_type": "code",
   "execution_count": 1,
   "id": "02e1004c",
   "metadata": {},
   "outputs": [
    {
     "ename": "NameError",
     "evalue": "name 'nlp' is not defined",
     "output_type": "error",
     "traceback": [
      "\u001b[0;31m---------------------------------------------------------------------------\u001b[0m",
      "\u001b[0;31mNameError\u001b[0m                                 Traceback (most recent call last)",
      "\u001b[0;32m/tmp/ipykernel_672430/1494883312.py\u001b[0m in \u001b[0;36m<module>\u001b[0;34m\u001b[0m\n\u001b[0;32m----> 1\u001b[0;31m \u001b[0mnlp\u001b[0m\u001b[0;34m.\u001b[0m\u001b[0mget_pipe\u001b[0m\u001b[0;34m(\u001b[0m\u001b[0;34m'ner'\u001b[0m\u001b[0;34m)\u001b[0m\u001b[0;34m.\u001b[0m\u001b[0mlabels\u001b[0m\u001b[0;34m\u001b[0m\u001b[0;34m\u001b[0m\u001b[0m\n\u001b[0m",
      "\u001b[0;31mNameError\u001b[0m: name 'nlp' is not defined"
     ]
    }
   ],
   "source": []
  },
  {
   "cell_type": "code",
   "execution_count": null,
   "id": "770cc5e3",
   "metadata": {},
   "outputs": [],
   "source": []
  },
  {
   "cell_type": "code",
   "execution_count": null,
   "id": "535d4b9f",
   "metadata": {},
   "outputs": [],
   "source": []
  },
  {
   "cell_type": "code",
   "execution_count": null,
   "id": "454a7ffc",
   "metadata": {},
   "outputs": [],
   "source": []
  }
 ],
 "metadata": {
  "kernelspec": {
   "display_name": "Python 3 (ipykernel)",
   "language": "python",
   "name": "python3"
  },
  "language_info": {
   "codemirror_mode": {
    "name": "ipython",
    "version": 3
   },
   "file_extension": ".py",
   "mimetype": "text/x-python",
   "name": "python",
   "nbconvert_exporter": "python",
   "pygments_lexer": "ipython3",
   "version": "3.9.7"
  }
 },
 "nbformat": 4,
 "nbformat_minor": 5
}
