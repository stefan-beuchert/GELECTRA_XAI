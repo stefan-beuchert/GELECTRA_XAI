{
 "cells": [
  {
   "cell_type": "markdown",
   "id": "3005547a",
   "metadata": {},
   "source": [
    "a) Importance of nouns for GELECTRA \n",
    "\n",
    "b) Importance of Question-Words\n",
    "\n",
    "c) Difference between start and end tokens\n",
    "\n",
    "d) No significant NER differences for different questiont types\n",
    "\n",
    "e) Investigate Wo-Fragen, just for the sacke of wo == LOC/GEL theory\n"
   ]
  },
  {
   "cell_type": "markdown",
   "id": "965b383d",
   "metadata": {},
   "source": [
    "# Which NER ist most interesting for GELECTRA?"
   ]
  },
  {
   "cell_type": "markdown",
   "id": "22ceb1b2",
   "metadata": {},
   "source": [
    "## Initialize Settings"
   ]
  },
  {
   "cell_type": "code",
   "execution_count": 1,
   "id": "6297999c",
   "metadata": {},
   "outputs": [
    {
     "name": "stdout",
     "output_type": "stream",
     "text": [
      "C:\\Users\\Stefan.Beuchert\\Desktop\\backup_from_kubectl\n"
     ]
    }
   ],
   "source": [
    "%cd .."
   ]
  },
  {
   "cell_type": "code",
   "execution_count": 2,
   "id": "09dfd82a",
   "metadata": {},
   "outputs": [
    {
     "name": "stderr",
     "output_type": "stream",
     "text": [
      "[nltk_data] Downloading package averaged_perceptron_tagger to\n",
      "[nltk_data]     C:\\Users\\Stefan.Beuchert\\AppData\\Roaming\\nltk_data...\n",
      "[nltk_data]   Package averaged_perceptron_tagger is already up-to-\n",
      "[nltk_data]       date!\n",
      "[nltk_data] Downloading package stopwords to\n",
      "[nltk_data]     C:\\Users\\Stefan.Beuchert\\AppData\\Roaming\\nltk_data...\n",
      "[nltk_data]   Package stopwords is already up-to-date!\n"
     ]
    }
   ],
   "source": [
    "# requirements\n",
    "import pandas as pd\n",
    "import numpy as np\n",
    "import matplotlib.pyplot as plt\n",
    "\n",
    "from src.analyzer import get_frequencies_as_data_frame_in_comparison_to_expected_frequencies\n",
    "from src.get_data import enhance_data_with_question_type"
   ]
  },
  {
   "cell_type": "code",
   "execution_count": 3,
   "id": "a6da5a2a",
   "metadata": {},
   "outputs": [],
   "source": [
    "# config\n",
    "number_of_features = 10 # the default value\n",
    "number_of_samples = 5000 # the default value\n",
    "\n",
    "source_path_for_data = f'data/Data_Preparation/lime_ns_{number_of_samples}_nf_{number_of_features}_after_frequency_analysis.json'\n",
    "\n",
    "# list of possible POS tags\n",
    "NER_tag_list = ['',\n",
    "               'LOC',\n",
    "               'PER',\n",
    "               'MISC',\n",
    "               'ORG']"
   ]
  },
  {
   "cell_type": "markdown",
   "id": "c2f0a6d5",
   "metadata": {},
   "source": [
    "## Important info\n",
    "The entetie labels 'LOC', 'PER', 'MISC and 'ORG' are the only labels available in the 'de_core_news_xy' data set. No matter if it's small, medium or large"
   ]
  },
  {
   "cell_type": "code",
   "execution_count": 4,
   "id": "9673231b",
   "metadata": {},
   "outputs": [
    {
     "name": "stdout",
     "output_type": "stream",
     "text": [
      "gibt es immer noch kohlenfadenlampen - has no question type\n",
      "zum wievielten mal hintereinander stand der fc everton 1986 im fa cup finale - has no question type\n",
      "ist usb mit atari mint benutzbar - has no question type\n",
      "war die glorious revolution gewaltsam - has no question type\n",
      "in wiefern erweiterte rudolf clausius das verständnis von energie und wärme - has no question type\n",
      "haben wir im moment eine warm- oder kaltzeit - has no question type\n",
      "war die republik der vereinigten niederlande ein zentralstaat - has no question type\n",
      "ist frankreich offensiv, oder defensiv an den deutsch-französischen-krieg herangegangen - has no question type\n",
      "sind usb 3.0.stecker mit älteren typen kompatibel - has no question type\n",
      "müssen hunde gegen tollwut geimpft werden - has no question type\n",
      "ist in englischen pubs das rauchen erlaubt - has no question type\n",
      "ist kupfer gesundheitsschädlich - has no question type\n",
      "liegt bildung im aufgabenbereich der verwaltungsbezirke von melbourne oder beim bundesstaat - has no question type\n",
      "welhce teile von straßburg sind unesco-weltkulturerbe - has no question type\n",
      "kann zink durchfall auslösen - has no question type\n",
      "kann man eine laserdisc als cd benutzen - has no question type\n",
      "ist die northwestern eine private oder staatliche universität - has no question type\n",
      "können bakterien photosynthese betreiben - has no question type\n",
      "wan war elisabeth ii. das erste mal im \"time\" magazin auf der titelseite - has no question type\n",
      "kann man der us-army ohne high-school-abschluss beitreten - has no question type\n",
      "er war 2015 italienischer finanzminister - has no question type\n",
      "haben tiere im vergleich zu menschen oft einen herzinfakt - has no question type\n",
      "können sich schalwellen im vakuum ausbreiten - has no question type\n",
      "sind emotionen oder stimmungen eher durch einen bestimmten reiz ausgelöst - has no question type\n",
      "kann man usb-anschlüsse mit dos benutzen - has no question type\n"
     ]
    },
    {
     "data": {
      "text/html": [
       "<div>\n",
       "<style scoped>\n",
       "    .dataframe tbody tr th:only-of-type {\n",
       "        vertical-align: middle;\n",
       "    }\n",
       "\n",
       "    .dataframe tbody tr th {\n",
       "        vertical-align: top;\n",
       "    }\n",
       "\n",
       "    .dataframe thead th {\n",
       "        text-align: right;\n",
       "    }\n",
       "</style>\n",
       "<table border=\"1\" class=\"dataframe\">\n",
       "  <thead>\n",
       "    <tr style=\"text-align: right;\">\n",
       "      <th></th>\n",
       "      <th>question</th>\n",
       "      <th>answers</th>\n",
       "      <th>context</th>\n",
       "      <th>document_id</th>\n",
       "      <th>is_impossible</th>\n",
       "      <th>usage</th>\n",
       "      <th>prediction</th>\n",
       "      <th>explanation</th>\n",
       "      <th>question_type</th>\n",
       "    </tr>\n",
       "  </thead>\n",
       "  <tbody>\n",
       "    <tr>\n",
       "      <th>37495</th>\n",
       "      <td>Wie viele Amerikaner fühlen sich mehr als eine...</td>\n",
       "      <td>[{'answer_id': 37854, 'document_id': 41057, 'q...</td>\n",
       "      <td>Race__United_States_Census_\\n\\n=== „Race“ ===\\...</td>\n",
       "      <td>41057</td>\n",
       "      <td>False</td>\n",
       "      <td>test</td>\n",
       "      <td>fast sieben Millionen</td>\n",
       "      <td>position_id   lime_token question_or_cont...</td>\n",
       "      <td>wie viel</td>\n",
       "    </tr>\n",
       "  </tbody>\n",
       "</table>\n",
       "</div>"
      ],
      "text/plain": [
       "                                                question  \\\n",
       "37495  Wie viele Amerikaner fühlen sich mehr als eine...   \n",
       "\n",
       "                                                 answers  \\\n",
       "37495  [{'answer_id': 37854, 'document_id': 41057, 'q...   \n",
       "\n",
       "                                                 context  document_id  \\\n",
       "37495  Race__United_States_Census_\\n\\n=== „Race“ ===\\...        41057   \n",
       "\n",
       "       is_impossible usage             prediction  \\\n",
       "37495          False  test  fast sieben Millionen   \n",
       "\n",
       "                                             explanation question_type  \n",
       "37495       position_id   lime_token question_or_cont...      wie viel  "
      ]
     },
     "execution_count": 4,
     "metadata": {},
     "output_type": "execute_result"
    }
   ],
   "source": [
    "# load data\n",
    "data_df = pd.read_json(source_path_for_data)\n",
    "data_df['explanation'] = [pd.DataFrame(exp) for exp in data_df['explanation'].tolist()]\n",
    "data_df = enhance_data_with_question_type(data_df)\n",
    "data_df.head(1)"
   ]
  },
  {
   "cell_type": "markdown",
   "id": "092b9a82",
   "metadata": {},
   "source": [
    "## Importance of enteties for GELECTRA in general"
   ]
  },
  {
   "cell_type": "code",
   "execution_count": 5,
   "id": "c9cbc694",
   "metadata": {},
   "outputs": [
    {
     "data": {
      "text/html": [
       "<div>\n",
       "<style scoped>\n",
       "    .dataframe tbody tr th:only-of-type {\n",
       "        vertical-align: middle;\n",
       "    }\n",
       "\n",
       "    .dataframe tbody tr th {\n",
       "        vertical-align: top;\n",
       "    }\n",
       "\n",
       "    .dataframe thead th {\n",
       "        text-align: right;\n",
       "    }\n",
       "</style>\n",
       "<table border=\"1\" class=\"dataframe\">\n",
       "  <thead>\n",
       "    <tr style=\"text-align: right;\">\n",
       "      <th></th>\n",
       "      <th>general total</th>\n",
       "      <th>start token total</th>\n",
       "      <th>end token total</th>\n",
       "      <th>general percentage</th>\n",
       "      <th>start token percentage</th>\n",
       "      <th>end token percentage</th>\n",
       "      <th>start token deviation from general</th>\n",
       "      <th>end token deviation from general</th>\n",
       "      <th>start token total deviation</th>\n",
       "      <th>end token total deviation</th>\n",
       "    </tr>\n",
       "  </thead>\n",
       "  <tbody>\n",
       "    <tr>\n",
       "      <th></th>\n",
       "      <td>670775</td>\n",
       "      <td>17981</td>\n",
       "      <td>17928</td>\n",
       "      <td>0.841037</td>\n",
       "      <td>0.826333</td>\n",
       "      <td>0.823897</td>\n",
       "      <td>-0.017484</td>\n",
       "      <td>-0.020380</td>\n",
       "      <td>-319.966577</td>\n",
       "      <td>-372.966577</td>\n",
       "    </tr>\n",
       "    <tr>\n",
       "      <th>LOC</th>\n",
       "      <td>36833</td>\n",
       "      <td>1250</td>\n",
       "      <td>1281</td>\n",
       "      <td>0.046182</td>\n",
       "      <td>0.057445</td>\n",
       "      <td>0.058869</td>\n",
       "      <td>0.243872</td>\n",
       "      <td>0.274720</td>\n",
       "      <td>245.073606</td>\n",
       "      <td>276.073606</td>\n",
       "    </tr>\n",
       "    <tr>\n",
       "      <th>PER</th>\n",
       "      <td>28768</td>\n",
       "      <td>863</td>\n",
       "      <td>915</td>\n",
       "      <td>0.036070</td>\n",
       "      <td>0.039660</td>\n",
       "      <td>0.042050</td>\n",
       "      <td>0.099522</td>\n",
       "      <td>0.165774</td>\n",
       "      <td>78.113553</td>\n",
       "      <td>130.113553</td>\n",
       "    </tr>\n",
       "    <tr>\n",
       "      <th>MISC</th>\n",
       "      <td>40793</td>\n",
       "      <td>1073</td>\n",
       "      <td>998</td>\n",
       "      <td>0.051147</td>\n",
       "      <td>0.049311</td>\n",
       "      <td>0.045864</td>\n",
       "      <td>-0.035911</td>\n",
       "      <td>-0.103299</td>\n",
       "      <td>-39.968327</td>\n",
       "      <td>-114.968327</td>\n",
       "    </tr>\n",
       "    <tr>\n",
       "      <th>ORG</th>\n",
       "      <td>20388</td>\n",
       "      <td>593</td>\n",
       "      <td>638</td>\n",
       "      <td>0.025563</td>\n",
       "      <td>0.027252</td>\n",
       "      <td>0.029320</td>\n",
       "      <td>0.066063</td>\n",
       "      <td>0.146962</td>\n",
       "      <td>36.747745</td>\n",
       "      <td>81.747745</td>\n",
       "    </tr>\n",
       "  </tbody>\n",
       "</table>\n",
       "</div>"
      ],
      "text/plain": [
       "      general total  start token total  end token total  general percentage  \\\n",
       "             670775              17981            17928            0.841037   \n",
       "LOC           36833               1250             1281            0.046182   \n",
       "PER           28768                863              915            0.036070   \n",
       "MISC          40793               1073              998            0.051147   \n",
       "ORG           20388                593              638            0.025563   \n",
       "\n",
       "      start token percentage  end token percentage  \\\n",
       "                    0.826333              0.823897   \n",
       "LOC                 0.057445              0.058869   \n",
       "PER                 0.039660              0.042050   \n",
       "MISC                0.049311              0.045864   \n",
       "ORG                 0.027252              0.029320   \n",
       "\n",
       "      start token deviation from general  end token deviation from general  \\\n",
       "                               -0.017484                         -0.020380   \n",
       "LOC                             0.243872                          0.274720   \n",
       "PER                             0.099522                          0.165774   \n",
       "MISC                           -0.035911                         -0.103299   \n",
       "ORG                             0.066063                          0.146962   \n",
       "\n",
       "      start token total deviation  end token total deviation  \n",
       "                      -319.966577                -372.966577  \n",
       "LOC                    245.073606                 276.073606  \n",
       "PER                     78.113553                 130.113553  \n",
       "MISC                   -39.968327                -114.968327  \n",
       "ORG                     36.747745                  81.747745  "
      ]
     },
     "execution_count": 5,
     "metadata": {},
     "output_type": "execute_result"
    }
   ],
   "source": [
    "frequencies_df = get_frequencies_as_data_frame_in_comparison_to_expected_frequencies('ner_tag', data_df, NER_tag_list)\n",
    "frequencies_df"
   ]
  },
  {
   "cell_type": "code",
   "execution_count": 6,
   "id": "103c4381",
   "metadata": {},
   "outputs": [
    {
     "name": "stdout",
     "output_type": "stream",
     "text": [
      "797557\n",
      "21760\n",
      "21760\n"
     ]
    }
   ],
   "source": [
    "print(frequencies_df['general total'].sum())\n",
    "print(frequencies_df['start token total'].sum())\n",
    "print(frequencies_df['end token total'].sum())"
   ]
  },
  {
   "cell_type": "markdown",
   "id": "ecbbe36a",
   "metadata": {},
   "source": [
    "### Visualization function"
   ]
  },
  {
   "cell_type": "code",
   "execution_count": 7,
   "id": "38932a12",
   "metadata": {},
   "outputs": [],
   "source": [
    "def visualize_frequencies(frequencies_df):\n",
    "    plt1 = frequencies_df['start token deviation from general'].plot(kind=\"bar\", title = 'percentage difference start token', ylim = (-1, 1))\n",
    "    plt1.axhline(y=0)\n",
    "    plt.show()\n",
    "    \n",
    "    plt2 = frequencies_df['start token total deviation'].plot(kind=\"bar\", title = 'total difference start token')\n",
    "    plt2.axhline(y=0)\n",
    "    plt.show()\n",
    "    \n",
    "    plt3 = frequencies_df['end token deviation from general'].plot(kind=\"bar\", title = 'percentage difference end token', ylim = (-1, 1))\n",
    "    plt3.axhline(y=0)\n",
    "    plt.show()\n",
    "    \n",
    "    plt4 = frequencies_df['end token total deviation'].plot(kind=\"bar\", title = 'total difference end token')\n",
    "    plt4.axhline(y=0)\n",
    "    plt.show()\n",
    "    "
   ]
  },
  {
   "cell_type": "code",
   "execution_count": 8,
   "id": "9ba7cfff",
   "metadata": {},
   "outputs": [
    {
     "data": {
      "image/png": "[encoded data removed]",
      "text/plain": [
       "<Figure size 432x288 with 1 Axes>"
      ]
     },
     "metadata": {
      "needs_background": "light"
     },
     "output_type": "display_data"
    },
    {
     "data": {
      "image/png": "[encoded data removed]",
      "text/plain": [
       "<Figure size 432x288 with 1 Axes>"
      ]
     },
     "metadata": {
      "needs_background": "light"
     },
     "output_type": "display_data"
    },
    {
     "data": {
      "image/png": "[encoded data removed]",
      "text/plain": [
       "<Figure size 432x288 with 1 Axes>"
      ]
     },
     "metadata": {
      "needs_background": "light"
     },
     "output_type": "display_data"
    },
    {
     "data": {
      "image/png": "[encoded data removed]",
      "text/plain": [
       "<Figure size 432x288 with 1 Axes>"
      ]
     },
     "metadata": {
      "needs_background": "light"
     },
     "output_type": "display_data"
    }
   ],
   "source": [
    "visualize_frequencies(frequencies_df)"
   ]
  },
  {
   "cell_type": "markdown",
   "id": "27812de9",
   "metadata": {},
   "source": [
    "## NER on question level"
   ]
  },
  {
   "cell_type": "markdown",
   "id": "5046241b",
   "metadata": {},
   "source": [
    "Because of the high amount of different question types, it will not be possible to look at all of them in the given time frame. Therefore only question type groups with more than 100 samples are looked at. This a total of 8 groups. \n",
    "\n",
    "Namely: was, wie,  wann, welche, wer, wie viel, welcher, wo"
   ]
  },
  {
   "cell_type": "code",
   "execution_count": 9,
   "id": "02e1004c",
   "metadata": {},
   "outputs": [],
   "source": [
    "# get question type labels and split data in groups\n",
    "data_grouped_by_question_type = data_df.groupby('question_type')\n",
    "list_of_question_types = list(data_grouped_by_question_type.groups.keys())"
   ]
  },
  {
   "cell_type": "code",
   "execution_count": 10,
   "id": "770cc5e3",
   "metadata": {},
   "outputs": [
    {
     "data": {
      "text/html": [
       "<div>\n",
       "<style scoped>\n",
       "    .dataframe tbody tr th:only-of-type {\n",
       "        vertical-align: middle;\n",
       "    }\n",
       "\n",
       "    .dataframe tbody tr th {\n",
       "        vertical-align: top;\n",
       "    }\n",
       "\n",
       "    .dataframe thead th {\n",
       "        text-align: right;\n",
       "    }\n",
       "</style>\n",
       "<table border=\"1\" class=\"dataframe\">\n",
       "  <thead>\n",
       "    <tr style=\"text-align: right;\">\n",
       "      <th></th>\n",
       "      <th>question type</th>\n",
       "      <th>token type</th>\n",
       "      <th>tag</th>\n",
       "      <th>percentage difference</th>\n",
       "      <th>total samples available</th>\n",
       "    </tr>\n",
       "  </thead>\n",
       "  <tbody>\n",
       "    <tr>\n",
       "      <th>0</th>\n",
       "      <td>undefined</td>\n",
       "      <td>start_token_highlight</td>\n",
       "      <td></td>\n",
       "      <td>0.002307</td>\n",
       "      <td>25</td>\n",
       "    </tr>\n",
       "    <tr>\n",
       "      <th>1</th>\n",
       "      <td>undefined</td>\n",
       "      <td>start_token_highlight</td>\n",
       "      <td>LOC</td>\n",
       "      <td>0.302111</td>\n",
       "      <td>25</td>\n",
       "    </tr>\n",
       "  </tbody>\n",
       "</table>\n",
       "</div>"
      ],
      "text/plain": [
       "  question type             token type  tag  percentage difference  \\\n",
       "0     undefined  start_token_highlight                    0.002307   \n",
       "1     undefined  start_token_highlight  LOC               0.302111   \n",
       "\n",
       "   total samples available  \n",
       "0                       25  \n",
       "1                       25  "
      ]
     },
     "execution_count": 10,
     "metadata": {},
     "output_type": "execute_result"
    }
   ],
   "source": [
    "# calculate entity tags for each question type and save in dict\n",
    "\n",
    "df_data_list = []\n",
    "\n",
    "for question_type in list_of_question_types:\n",
    "    question_type_group_df = data_grouped_by_question_type.get_group(question_type)\n",
    "    element_count = len(question_type_group_df)\n",
    "    \n",
    "    # check if group has enough elements and is not the conflict group\n",
    "    if element_count > 10 and question_type != 'conflict':\n",
    "        \n",
    "        frequencies_df = get_frequencies_as_data_frame_in_comparison_to_expected_frequencies('ner_tag', question_type_group_df, NER_tag_list)\n",
    "        \n",
    "        # get all tags and vavlues for start token highlights\n",
    "        start_token_deviation_from_general = frequencies_df['start token deviation from general']\n",
    "        \n",
    "        for tag, value in start_token_deviation_from_general.items():\n",
    "            \n",
    "            new_data_point = {\n",
    "                'question type' : question_type,\n",
    "                'token type' : 'start_token_highlight',  \n",
    "                'tag' : tag,\n",
    "                'percentage difference' : value,\n",
    "                'total samples available' : element_count\n",
    "                }\n",
    "            \n",
    "            df_data_list.append(new_data_point)\n",
    "            \n",
    "        # get all tags and vavlues for end token highlights\n",
    "        end_token_deviation_from_general = frequencies_df['end token deviation from general']\n",
    "        \n",
    "        for tag, value in end_token_deviation_from_general.items():\n",
    "            \n",
    "            new_data_point = {\n",
    "                'question type' : question_type,\n",
    "                'token type' : 'end_token_highlight',  \n",
    "                'tag' : tag,\n",
    "                'percentage difference' : value,\n",
    "                'total samples available' : element_count\n",
    "                }\n",
    "            \n",
    "            df_data_list.append(new_data_point)\n",
    "        \n",
    "overview_df = pd.DataFrame(df_data_list)\n",
    "overview_df.head(2)"
   ]
  },
  {
   "cell_type": "code",
   "execution_count": 13,
   "id": "471d8f8f",
   "metadata": {},
   "outputs": [
    {
     "data": {
      "text/plain": [
       "'LOC'"
      ]
     },
     "execution_count": 13,
     "metadata": {},
     "output_type": "execute_result"
    }
   ],
   "source": [
    "overview_df.loc[1]['tag']"
   ]
  },
  {
   "cell_type": "markdown",
   "id": "6a32484f",
   "metadata": {},
   "source": [
    "## Insights"
   ]
  },
  {
   "cell_type": "markdown",
   "id": "aed8846f",
   "metadata": {},
   "source": [
    "### Get all occurences where NER tags are >= 100% of the expected amount"
   ]
  },
  {
   "cell_type": "code",
   "execution_count": 14,
   "id": "4710b09f",
   "metadata": {},
   "outputs": [
    {
     "data": {
      "text/html": [
       "<div>\n",
       "<style scoped>\n",
       "    .dataframe tbody tr th:only-of-type {\n",
       "        vertical-align: middle;\n",
       "    }\n",
       "\n",
       "    .dataframe tbody tr th {\n",
       "        vertical-align: top;\n",
       "    }\n",
       "\n",
       "    .dataframe thead th {\n",
       "        text-align: right;\n",
       "    }\n",
       "</style>\n",
       "<table border=\"1\" class=\"dataframe\">\n",
       "  <thead>\n",
       "    <tr style=\"text-align: right;\">\n",
       "      <th></th>\n",
       "      <th>question type</th>\n",
       "      <th>token type</th>\n",
       "      <th>tag</th>\n",
       "      <th>percentage difference</th>\n",
       "      <th>total samples available</th>\n",
       "    </tr>\n",
       "  </thead>\n",
       "  <tbody>\n",
       "    <tr>\n",
       "      <th>132</th>\n",
       "      <td>wieso</td>\n",
       "      <td>start_token_highlight</td>\n",
       "      <td>PER</td>\n",
       "      <td>1.534999</td>\n",
       "      <td>31</td>\n",
       "    </tr>\n",
       "    <tr>\n",
       "      <th>137</th>\n",
       "      <td>wieso</td>\n",
       "      <td>end_token_highlight</td>\n",
       "      <td>PER</td>\n",
       "      <td>1.534999</td>\n",
       "      <td>31</td>\n",
       "    </tr>\n",
       "    <tr>\n",
       "      <th>97</th>\n",
       "      <td>wem</td>\n",
       "      <td>end_token_highlight</td>\n",
       "      <td>PER</td>\n",
       "      <td>1.456680</td>\n",
       "      <td>18</td>\n",
       "    </tr>\n",
       "    <tr>\n",
       "      <th>107</th>\n",
       "      <td>wer</td>\n",
       "      <td>end_token_highlight</td>\n",
       "      <td>PER</td>\n",
       "      <td>1.147654</td>\n",
       "      <td>188</td>\n",
       "    </tr>\n",
       "    <tr>\n",
       "      <th>92</th>\n",
       "      <td>wem</td>\n",
       "      <td>start_token_highlight</td>\n",
       "      <td>PER</td>\n",
       "      <td>1.023148</td>\n",
       "      <td>18</td>\n",
       "    </tr>\n",
       "    <tr>\n",
       "      <th>86</th>\n",
       "      <td>welches</td>\n",
       "      <td>end_token_highlight</td>\n",
       "      <td>LOC</td>\n",
       "      <td>1.015690</td>\n",
       "      <td>62</td>\n",
       "    </tr>\n",
       "  </tbody>\n",
       "</table>\n",
       "</div>"
      ],
      "text/plain": [
       "    question type             token type  tag  percentage difference  \\\n",
       "132         wieso  start_token_highlight  PER               1.534999   \n",
       "137         wieso    end_token_highlight  PER               1.534999   \n",
       "97            wem    end_token_highlight  PER               1.456680   \n",
       "107           wer    end_token_highlight  PER               1.147654   \n",
       "92            wem  start_token_highlight  PER               1.023148   \n",
       "86        welches    end_token_highlight  LOC               1.015690   \n",
       "\n",
       "     total samples available  \n",
       "132                       31  \n",
       "137                       31  \n",
       "97                        18  \n",
       "107                      188  \n",
       "92                        18  \n",
       "86                        62  "
      ]
     },
     "execution_count": 14,
     "metadata": {},
     "output_type": "execute_result"
    }
   ],
   "source": [
    "overview_df[overview_df['percentage difference'] >= 1].sort_values('percentage difference', ascending = False)"
   ]
  },
  {
   "cell_type": "markdown",
   "id": "b29f7139",
   "metadata": {},
   "source": [
    "### Get all occurences where NER tags are >= 75% of the expected amount"
   ]
  },
  {
   "cell_type": "code",
   "execution_count": 15,
   "id": "860294b6",
   "metadata": {},
   "outputs": [
    {
     "data": {
      "text/html": [
       "<div>\n",
       "<style scoped>\n",
       "    .dataframe tbody tr th:only-of-type {\n",
       "        vertical-align: middle;\n",
       "    }\n",
       "\n",
       "    .dataframe tbody tr th {\n",
       "        vertical-align: top;\n",
       "    }\n",
       "\n",
       "    .dataframe thead th {\n",
       "        text-align: right;\n",
       "    }\n",
       "</style>\n",
       "<table border=\"1\" class=\"dataframe\">\n",
       "  <thead>\n",
       "    <tr style=\"text-align: right;\">\n",
       "      <th></th>\n",
       "      <th>question type</th>\n",
       "      <th>token type</th>\n",
       "      <th>tag</th>\n",
       "      <th>percentage difference</th>\n",
       "      <th>total samples available</th>\n",
       "    </tr>\n",
       "  </thead>\n",
       "  <tbody>\n",
       "    <tr>\n",
       "      <th>132</th>\n",
       "      <td>wieso</td>\n",
       "      <td>start_token_highlight</td>\n",
       "      <td>PER</td>\n",
       "      <td>1.534999</td>\n",
       "      <td>31</td>\n",
       "    </tr>\n",
       "    <tr>\n",
       "      <th>137</th>\n",
       "      <td>wieso</td>\n",
       "      <td>end_token_highlight</td>\n",
       "      <td>PER</td>\n",
       "      <td>1.534999</td>\n",
       "      <td>31</td>\n",
       "    </tr>\n",
       "    <tr>\n",
       "      <th>97</th>\n",
       "      <td>wem</td>\n",
       "      <td>end_token_highlight</td>\n",
       "      <td>PER</td>\n",
       "      <td>1.456680</td>\n",
       "      <td>18</td>\n",
       "    </tr>\n",
       "    <tr>\n",
       "      <th>107</th>\n",
       "      <td>wer</td>\n",
       "      <td>end_token_highlight</td>\n",
       "      <td>PER</td>\n",
       "      <td>1.147654</td>\n",
       "      <td>188</td>\n",
       "    </tr>\n",
       "    <tr>\n",
       "      <th>92</th>\n",
       "      <td>wem</td>\n",
       "      <td>start_token_highlight</td>\n",
       "      <td>PER</td>\n",
       "      <td>1.023148</td>\n",
       "      <td>18</td>\n",
       "    </tr>\n",
       "    <tr>\n",
       "      <th>86</th>\n",
       "      <td>welches</td>\n",
       "      <td>end_token_highlight</td>\n",
       "      <td>LOC</td>\n",
       "      <td>1.015690</td>\n",
       "      <td>62</td>\n",
       "    </tr>\n",
       "    <tr>\n",
       "      <th>131</th>\n",
       "      <td>wieso</td>\n",
       "      <td>start_token_highlight</td>\n",
       "      <td>LOC</td>\n",
       "      <td>0.955982</td>\n",
       "      <td>31</td>\n",
       "    </tr>\n",
       "    <tr>\n",
       "      <th>81</th>\n",
       "      <td>welches</td>\n",
       "      <td>start_token_highlight</td>\n",
       "      <td>LOC</td>\n",
       "      <td>0.924068</td>\n",
       "      <td>62</td>\n",
       "    </tr>\n",
       "    <tr>\n",
       "      <th>7</th>\n",
       "      <td>undefined</td>\n",
       "      <td>end_token_highlight</td>\n",
       "      <td>PER</td>\n",
       "      <td>0.856475</td>\n",
       "      <td>25</td>\n",
       "    </tr>\n",
       "    <tr>\n",
       "      <th>102</th>\n",
       "      <td>wer</td>\n",
       "      <td>start_token_highlight</td>\n",
       "      <td>PER</td>\n",
       "      <td>0.855250</td>\n",
       "      <td>188</td>\n",
       "    </tr>\n",
       "    <tr>\n",
       "      <th>94</th>\n",
       "      <td>wem</td>\n",
       "      <td>start_token_highlight</td>\n",
       "      <td>ORG</td>\n",
       "      <td>0.839226</td>\n",
       "      <td>18</td>\n",
       "    </tr>\n",
       "    <tr>\n",
       "      <th>141</th>\n",
       "      <td>wo</td>\n",
       "      <td>start_token_highlight</td>\n",
       "      <td>LOC</td>\n",
       "      <td>0.805224</td>\n",
       "      <td>102</td>\n",
       "    </tr>\n",
       "  </tbody>\n",
       "</table>\n",
       "</div>"
      ],
      "text/plain": [
       "    question type             token type  tag  percentage difference  \\\n",
       "132         wieso  start_token_highlight  PER               1.534999   \n",
       "137         wieso    end_token_highlight  PER               1.534999   \n",
       "97            wem    end_token_highlight  PER               1.456680   \n",
       "107           wer    end_token_highlight  PER               1.147654   \n",
       "92            wem  start_token_highlight  PER               1.023148   \n",
       "86        welches    end_token_highlight  LOC               1.015690   \n",
       "131         wieso  start_token_highlight  LOC               0.955982   \n",
       "81        welches  start_token_highlight  LOC               0.924068   \n",
       "7       undefined    end_token_highlight  PER               0.856475   \n",
       "102           wer  start_token_highlight  PER               0.855250   \n",
       "94            wem  start_token_highlight  ORG               0.839226   \n",
       "141            wo  start_token_highlight  LOC               0.805224   \n",
       "\n",
       "     total samples available  \n",
       "132                       31  \n",
       "137                       31  \n",
       "97                        18  \n",
       "107                      188  \n",
       "92                        18  \n",
       "86                        62  \n",
       "131                       31  \n",
       "81                        62  \n",
       "7                         25  \n",
       "102                      188  \n",
       "94                        18  \n",
       "141                      102  "
      ]
     },
     "execution_count": 15,
     "metadata": {},
     "output_type": "execute_result"
    }
   ],
   "source": [
    "overview_df[overview_df['percentage difference'] >= 0.75].sort_values('percentage difference', ascending = False)"
   ]
  },
  {
   "cell_type": "markdown",
   "id": "b6ec4ccf",
   "metadata": {},
   "source": [
    "### Get all occurences where NER tags are >= 50% of the expected amount"
   ]
  },
  {
   "cell_type": "code",
   "execution_count": 16,
   "id": "f0fbb87f",
   "metadata": {},
   "outputs": [
    {
     "data": {
      "text/html": [
       "<div>\n",
       "<style scoped>\n",
       "    .dataframe tbody tr th:only-of-type {\n",
       "        vertical-align: middle;\n",
       "    }\n",
       "\n",
       "    .dataframe tbody tr th {\n",
       "        vertical-align: top;\n",
       "    }\n",
       "\n",
       "    .dataframe thead th {\n",
       "        text-align: right;\n",
       "    }\n",
       "</style>\n",
       "<table border=\"1\" class=\"dataframe\">\n",
       "  <thead>\n",
       "    <tr style=\"text-align: right;\">\n",
       "      <th></th>\n",
       "      <th>question type</th>\n",
       "      <th>token type</th>\n",
       "      <th>tag</th>\n",
       "      <th>percentage difference</th>\n",
       "      <th>total samples available</th>\n",
       "    </tr>\n",
       "  </thead>\n",
       "  <tbody>\n",
       "    <tr>\n",
       "      <th>137</th>\n",
       "      <td>wieso</td>\n",
       "      <td>end_token_highlight</td>\n",
       "      <td>PER</td>\n",
       "      <td>1.534999</td>\n",
       "      <td>31</td>\n",
       "    </tr>\n",
       "    <tr>\n",
       "      <th>132</th>\n",
       "      <td>wieso</td>\n",
       "      <td>start_token_highlight</td>\n",
       "      <td>PER</td>\n",
       "      <td>1.534999</td>\n",
       "      <td>31</td>\n",
       "    </tr>\n",
       "    <tr>\n",
       "      <th>97</th>\n",
       "      <td>wem</td>\n",
       "      <td>end_token_highlight</td>\n",
       "      <td>PER</td>\n",
       "      <td>1.456680</td>\n",
       "      <td>18</td>\n",
       "    </tr>\n",
       "    <tr>\n",
       "      <th>107</th>\n",
       "      <td>wer</td>\n",
       "      <td>end_token_highlight</td>\n",
       "      <td>PER</td>\n",
       "      <td>1.147654</td>\n",
       "      <td>188</td>\n",
       "    </tr>\n",
       "    <tr>\n",
       "      <th>92</th>\n",
       "      <td>wem</td>\n",
       "      <td>start_token_highlight</td>\n",
       "      <td>PER</td>\n",
       "      <td>1.023148</td>\n",
       "      <td>18</td>\n",
       "    </tr>\n",
       "    <tr>\n",
       "      <th>86</th>\n",
       "      <td>welches</td>\n",
       "      <td>end_token_highlight</td>\n",
       "      <td>LOC</td>\n",
       "      <td>1.015690</td>\n",
       "      <td>62</td>\n",
       "    </tr>\n",
       "    <tr>\n",
       "      <th>131</th>\n",
       "      <td>wieso</td>\n",
       "      <td>start_token_highlight</td>\n",
       "      <td>LOC</td>\n",
       "      <td>0.955982</td>\n",
       "      <td>31</td>\n",
       "    </tr>\n",
       "    <tr>\n",
       "      <th>81</th>\n",
       "      <td>welches</td>\n",
       "      <td>start_token_highlight</td>\n",
       "      <td>LOC</td>\n",
       "      <td>0.924068</td>\n",
       "      <td>62</td>\n",
       "    </tr>\n",
       "    <tr>\n",
       "      <th>7</th>\n",
       "      <td>undefined</td>\n",
       "      <td>end_token_highlight</td>\n",
       "      <td>PER</td>\n",
       "      <td>0.856475</td>\n",
       "      <td>25</td>\n",
       "    </tr>\n",
       "    <tr>\n",
       "      <th>102</th>\n",
       "      <td>wer</td>\n",
       "      <td>start_token_highlight</td>\n",
       "      <td>PER</td>\n",
       "      <td>0.855250</td>\n",
       "      <td>188</td>\n",
       "    </tr>\n",
       "    <tr>\n",
       "      <th>94</th>\n",
       "      <td>wem</td>\n",
       "      <td>start_token_highlight</td>\n",
       "      <td>ORG</td>\n",
       "      <td>0.839226</td>\n",
       "      <td>18</td>\n",
       "    </tr>\n",
       "    <tr>\n",
       "      <th>141</th>\n",
       "      <td>wo</td>\n",
       "      <td>start_token_highlight</td>\n",
       "      <td>LOC</td>\n",
       "      <td>0.805224</td>\n",
       "      <td>102</td>\n",
       "    </tr>\n",
       "    <tr>\n",
       "      <th>44</th>\n",
       "      <td>welche</td>\n",
       "      <td>start_token_highlight</td>\n",
       "      <td>ORG</td>\n",
       "      <td>0.726182</td>\n",
       "      <td>243</td>\n",
       "    </tr>\n",
       "    <tr>\n",
       "      <th>56</th>\n",
       "      <td>welchem</td>\n",
       "      <td>end_token_highlight</td>\n",
       "      <td>LOC</td>\n",
       "      <td>0.704237</td>\n",
       "      <td>75</td>\n",
       "    </tr>\n",
       "    <tr>\n",
       "      <th>2</th>\n",
       "      <td>undefined</td>\n",
       "      <td>start_token_highlight</td>\n",
       "      <td>PER</td>\n",
       "      <td>0.701769</td>\n",
       "      <td>25</td>\n",
       "    </tr>\n",
       "    <tr>\n",
       "      <th>146</th>\n",
       "      <td>wo</td>\n",
       "      <td>end_token_highlight</td>\n",
       "      <td>LOC</td>\n",
       "      <td>0.687811</td>\n",
       "      <td>102</td>\n",
       "    </tr>\n",
       "    <tr>\n",
       "      <th>99</th>\n",
       "      <td>wem</td>\n",
       "      <td>end_token_highlight</td>\n",
       "      <td>ORG</td>\n",
       "      <td>0.655303</td>\n",
       "      <td>18</td>\n",
       "    </tr>\n",
       "    <tr>\n",
       "      <th>139</th>\n",
       "      <td>wieso</td>\n",
       "      <td>end_token_highlight</td>\n",
       "      <td>ORG</td>\n",
       "      <td>0.628303</td>\n",
       "      <td>31</td>\n",
       "    </tr>\n",
       "    <tr>\n",
       "      <th>69</th>\n",
       "      <td>welchen</td>\n",
       "      <td>end_token_highlight</td>\n",
       "      <td>ORG</td>\n",
       "      <td>0.625028</td>\n",
       "      <td>57</td>\n",
       "    </tr>\n",
       "    <tr>\n",
       "      <th>46</th>\n",
       "      <td>welche</td>\n",
       "      <td>end_token_highlight</td>\n",
       "      <td>LOC</td>\n",
       "      <td>0.610973</td>\n",
       "      <td>243</td>\n",
       "    </tr>\n",
       "    <tr>\n",
       "      <th>149</th>\n",
       "      <td>wo</td>\n",
       "      <td>end_token_highlight</td>\n",
       "      <td>ORG</td>\n",
       "      <td>0.576653</td>\n",
       "      <td>102</td>\n",
       "    </tr>\n",
       "    <tr>\n",
       "      <th>58</th>\n",
       "      <td>welchem</td>\n",
       "      <td>end_token_highlight</td>\n",
       "      <td>MISC</td>\n",
       "      <td>0.559366</td>\n",
       "      <td>75</td>\n",
       "    </tr>\n",
       "    <tr>\n",
       "      <th>53</th>\n",
       "      <td>welchem</td>\n",
       "      <td>start_token_highlight</td>\n",
       "      <td>MISC</td>\n",
       "      <td>0.559366</td>\n",
       "      <td>75</td>\n",
       "    </tr>\n",
       "    <tr>\n",
       "      <th>49</th>\n",
       "      <td>welche</td>\n",
       "      <td>end_token_highlight</td>\n",
       "      <td>ORG</td>\n",
       "      <td>0.553564</td>\n",
       "      <td>243</td>\n",
       "    </tr>\n",
       "    <tr>\n",
       "      <th>71</th>\n",
       "      <td>welcher</td>\n",
       "      <td>start_token_highlight</td>\n",
       "      <td>LOC</td>\n",
       "      <td>0.548801</td>\n",
       "      <td>106</td>\n",
       "    </tr>\n",
       "    <tr>\n",
       "      <th>41</th>\n",
       "      <td>welche</td>\n",
       "      <td>start_token_highlight</td>\n",
       "      <td>LOC</td>\n",
       "      <td>0.520974</td>\n",
       "      <td>243</td>\n",
       "    </tr>\n",
       "  </tbody>\n",
       "</table>\n",
       "</div>"
      ],
      "text/plain": [
       "    question type             token type   tag  percentage difference  \\\n",
       "137         wieso    end_token_highlight   PER               1.534999   \n",
       "132         wieso  start_token_highlight   PER               1.534999   \n",
       "97            wem    end_token_highlight   PER               1.456680   \n",
       "107           wer    end_token_highlight   PER               1.147654   \n",
       "92            wem  start_token_highlight   PER               1.023148   \n",
       "86        welches    end_token_highlight   LOC               1.015690   \n",
       "131         wieso  start_token_highlight   LOC               0.955982   \n",
       "81        welches  start_token_highlight   LOC               0.924068   \n",
       "7       undefined    end_token_highlight   PER               0.856475   \n",
       "102           wer  start_token_highlight   PER               0.855250   \n",
       "94            wem  start_token_highlight   ORG               0.839226   \n",
       "141            wo  start_token_highlight   LOC               0.805224   \n",
       "44         welche  start_token_highlight   ORG               0.726182   \n",
       "56        welchem    end_token_highlight   LOC               0.704237   \n",
       "2       undefined  start_token_highlight   PER               0.701769   \n",
       "146            wo    end_token_highlight   LOC               0.687811   \n",
       "99            wem    end_token_highlight   ORG               0.655303   \n",
       "139         wieso    end_token_highlight   ORG               0.628303   \n",
       "69        welchen    end_token_highlight   ORG               0.625028   \n",
       "46         welche    end_token_highlight   LOC               0.610973   \n",
       "149            wo    end_token_highlight   ORG               0.576653   \n",
       "58        welchem    end_token_highlight  MISC               0.559366   \n",
       "53        welchem  start_token_highlight  MISC               0.559366   \n",
       "49         welche    end_token_highlight   ORG               0.553564   \n",
       "71        welcher  start_token_highlight   LOC               0.548801   \n",
       "41         welche  start_token_highlight   LOC               0.520974   \n",
       "\n",
       "     total samples available  \n",
       "137                       31  \n",
       "132                       31  \n",
       "97                        18  \n",
       "107                      188  \n",
       "92                        18  \n",
       "86                        62  \n",
       "131                       31  \n",
       "81                        62  \n",
       "7                         25  \n",
       "102                      188  \n",
       "94                        18  \n",
       "141                      102  \n",
       "44                       243  \n",
       "56                        75  \n",
       "2                         25  \n",
       "146                      102  \n",
       "99                        18  \n",
       "139                       31  \n",
       "69                        57  \n",
       "46                       243  \n",
       "149                      102  \n",
       "58                        75  \n",
       "53                        75  \n",
       "49                       243  \n",
       "71                       106  \n",
       "41                       243  "
      ]
     },
     "execution_count": 16,
     "metadata": {},
     "output_type": "execute_result"
    }
   ],
   "source": [
    "overview_df[overview_df['percentage difference'] >= 0.5].sort_values('percentage difference', ascending = False)"
   ]
  },
  {
   "cell_type": "markdown",
   "id": "9f75e3a9",
   "metadata": {},
   "source": [
    "## Visualisation"
   ]
  },
  {
   "cell_type": "markdown",
   "id": "76382184",
   "metadata": {},
   "source": [
    "### Strongest postivies"
   ]
  },
  {
   "cell_type": "code",
   "execution_count": 17,
   "id": "e88e63ef",
   "metadata": {},
   "outputs": [
    {
     "data": {
      "text/plain": [
       "<AxesSubplot:title={'center':'strongest derivation positives'}, xlabel='question type,tag,token type'>"
      ]
     },
     "execution_count": 17,
     "metadata": {},
     "output_type": "execute_result"
    },
    {
     "data": {
      "image/png": "[encoded data removed]",
      "text/plain": [
       "<Figure size 432x288 with 1 Axes>"
      ]
     },
     "metadata": {
      "needs_background": "light"
     },
     "output_type": "display_data"
    }
   ],
   "source": [
    "overview_df \\\n",
    "    .set_index(['question type', 'tag', 'token type']) \\\n",
    "    .sort_values('percentage difference', ascending = False) \\\n",
    "    .head(10)['percentage difference'] \\\n",
    "    .plot(kind='bar', title = 'strongest derivation positives')"
   ]
  },
  {
   "cell_type": "markdown",
   "id": "e921cba7",
   "metadata": {},
   "source": [
    "### Strongest negatives"
   ]
  },
  {
   "cell_type": "code",
   "execution_count": 18,
   "id": "13298fd7",
   "metadata": {},
   "outputs": [
    {
     "data": {
      "text/plain": [
       "<AxesSubplot:title={'center':'strongest derivation positives'}, xlabel='question type,tag,token type'>"
      ]
     },
     "execution_count": 18,
     "metadata": {},
     "output_type": "execute_result"
    },
    {
     "data": {
      "image/png": "[encoded data removed]",
      "text/plain": [
       "<Figure size 432x288 with 1 Axes>"
      ]
     },
     "metadata": {
      "needs_background": "light"
     },
     "output_type": "display_data"
    }
   ],
   "source": [
    "overview_df \\\n",
    "    .set_index(['question type', 'tag', 'token type']) \\\n",
    "    .sort_values('percentage difference', ascending = True) \\\n",
    "    .head(10)['percentage difference'] \\\n",
    "    .plot(kind='bar', title = 'strongest derivation positives')"
   ]
  },
  {
   "cell_type": "code",
   "execution_count": null,
   "id": "b313cda5",
   "metadata": {},
   "outputs": [],
   "source": []
  }
 ],
 "metadata": {
  "kernelspec": {
   "display_name": "Python 3 (ipykernel)",
   "language": "python",
   "name": "python3"
  },
  "language_info": {
   "codemirror_mode": {
    "name": "ipython",
    "version": 3
   },
   "file_extension": ".py",
   "mimetype": "text/x-python",
   "name": "python",
   "nbconvert_exporter": "python",
   "pygments_lexer": "ipython3",
   "version": "3.9.12"
  }
 },
 "nbformat": 4,
 "nbformat_minor": 5
}
