{
 "cells": [
  {
   "cell_type": "code",
   "execution_count": null,
   "id": "76b3df66",
   "metadata": {},
   "outputs": [],
   "source": [
    "%cd ..\n",
    "from src.get_data import get_data\n",
    "from src.model_wrapper import Model\n",
    "from src.explainer_lime import Lime_Explanation"
   ]
  },
  {
   "cell_type": "code",
   "execution_count": 2,
   "id": "125273b0",
   "metadata": {},
   "outputs": [],
   "source": [
    "import pandas as pd\n",
    "import multiprocessing\n",
    "import numpy as np"
   ]
  },
  {
   "cell_type": "code",
   "execution_count": 3,
   "id": "5d1fa3de",
   "metadata": {},
   "outputs": [],
   "source": [
    "# config\n",
    "model_name = 'deepset/gelectra-base-germanquad'\n",
    "\n",
    "number_of_cores = multiprocessing.cpu_count()"
   ]
  },
  {
   "cell_type": "code",
   "execution_count": 4,
   "id": "2125990a",
   "metadata": {},
   "outputs": [],
   "source": [
    "# get raw data\n",
    "GQuAD_data = get_data()\n",
    "\n",
    "# TEMPORARY to speed up the development\n",
    "GQuAD_data = GQuAD_data.head(1)\n",
    "\n",
    "# get model\n",
    "GELECTRA_MODEL = Model(model_name)\n",
    "\n",
    "# get lime explainer\n",
    "LIME_EXPLAINER = Lime_Explanation(model = GELECTRA_MODEL,\n",
    "                                  class_names = [\"Start-Token\",\"End-Token\"], \n",
    "                                  num_samples = 150, # hier noch eine begründung warum\n",
    "                                  num_features = 15, # hier noch eine begründung warum\n",
    "                                  random_state = 0)"
   ]
  },
  {
   "cell_type": "code",
   "execution_count": 5,
   "id": "efe78f99",
   "metadata": {},
   "outputs": [],
   "source": [
    "# add gelectra prediction -> works\n",
    "\n",
    "def get_prediction(row):\n",
    "    model_output = GELECTRA_MODEL.predict(row.question, row.context)\n",
    "    \n",
    "    answer = GELECTRA_MODEL.get_predicted_tokens(model_output[0],model_output[1])\n",
    "    answer_string = GELECTRA_MODEL.get_answer_string(model_output[0],model_output[1])\n",
    "    \n",
    "    return answer_string\n",
    "\n",
    "def get_lime_explanation(row):\n",
    "    \n",
    "    try:\n",
    "        explanation = LIME_EXPLAINER.explain(row.question, row.context)\n",
    "\n",
    "        explanation_start_token = explanation.as_list(label = 0)\n",
    "        explanation_end_token = explanation.as_list(label = 1)\n",
    "\n",
    "        return pd.Series([explanation_start_token, explanation_end_token])\n",
    "    except:\n",
    "        print(row.question_id)\n",
    "        return pd.Series([None, None])\n",
    "    \n",
    "def enhance_data_frame(GQuAD_data):\n",
    "    GQuAD_data['prediction'] = GQuAD_data.apply(lambda row: get_prediction(row), axis=1)\n",
    "    GQuAD_data[['start_token_exlanation_lime', 'end_token_explanation_lime']] = GQuAD_data.apply(lambda row: get_lime_explanation(row), axis=1)\n",
    "    \n",
    "    print(\"blubb\")\n",
    "    \n",
    "    return GQuAD_data"
   ]
  },
  {
   "cell_type": "code",
   "execution_count": 6,
   "id": "6ff404cb",
   "metadata": {},
   "outputs": [
    {
     "data": {
      "text/html": [
       "<div>\n",
       "<style scoped>\n",
       "    .dataframe tbody tr th:only-of-type {\n",
       "        vertical-align: middle;\n",
       "    }\n",
       "\n",
       "    .dataframe tbody tr th {\n",
       "        vertical-align: top;\n",
       "    }\n",
       "\n",
       "    .dataframe thead th {\n",
       "        text-align: right;\n",
       "    }\n",
       "</style>\n",
       "<table border=\"1\" class=\"dataframe\">\n",
       "  <thead>\n",
       "    <tr style=\"text-align: right;\">\n",
       "      <th></th>\n",
       "      <th>question_id</th>\n",
       "      <th>question</th>\n",
       "      <th>answers</th>\n",
       "      <th>context</th>\n",
       "      <th>document_id</th>\n",
       "      <th>is_impossible</th>\n",
       "      <th>usage</th>\n",
       "    </tr>\n",
       "  </thead>\n",
       "  <tbody>\n",
       "    <tr>\n",
       "      <th>0</th>\n",
       "      <td>51870</td>\n",
       "      <td>Von welchem Gesetzt stammt das Amerikanische ab?</td>\n",
       "      <td>[{'answer_id': 53778, 'document_id': 43958, 'q...</td>\n",
       "      <td>Recht_der_Vereinigten_Staaten\\n\\n=== Amerikani...</td>\n",
       "      <td>43958</td>\n",
       "      <td>False</td>\n",
       "      <td>train</td>\n",
       "    </tr>\n",
       "  </tbody>\n",
       "</table>\n",
       "</div>"
      ],
      "text/plain": [
       "   question_id                                           question  \\\n",
       "0        51870  Von welchem Gesetzt stammt das Amerikanische ab?    \n",
       "\n",
       "                                             answers  \\\n",
       "0  [{'answer_id': 53778, 'document_id': 43958, 'q...   \n",
       "\n",
       "                                             context  document_id  \\\n",
       "0  Recht_der_Vereinigten_Staaten\\n\\n=== Amerikani...        43958   \n",
       "\n",
       "   is_impossible  usage  \n",
       "0          False  train  "
      ]
     },
     "execution_count": 6,
     "metadata": {},
     "output_type": "execute_result"
    }
   ],
   "source": [
    "GQuAD_data.head(1)"
   ]
  },
  {
   "cell_type": "code",
   "execution_count": null,
   "id": "45d191cc",
   "metadata": {},
   "outputs": [],
   "source": [
    "# helper function: parallizes the process\n",
    "def parallize_dataframe(dataframe, func, n_cores):\n",
    "    df_split = np.array_split(dataframe, n_cores)\n",
    "    pool = multiprocessing.Pool(n_cores)\n",
    "    \n",
    "    dataframe = pd.concat(pool.map(func, df_split))\n",
    "    pool.close()\n",
    "    pool.join()\n",
    "    \n",
    "    return dataframe\n",
    "\n",
    "\n",
    "#df = parallize_dataframe(GQuAD_data, enhance_data_frame, number_of_cores)\n"
   ]
  },
  {
   "cell_type": "code",
   "execution_count": null,
   "id": "3e39b9f9",
   "metadata": {},
   "outputs": [],
   "source": [
    "%%time\n",
    "df = enhance_data_frame(GQuAD_data)"
   ]
  },
  {
   "cell_type": "code",
   "execution_count": null,
   "id": "78d73ec5",
   "metadata": {},
   "outputs": [],
   "source": [
    "# safe and load data\n",
    "\n",
    "# GQuAD_data.to_json('./data/Data_Preparation/v0.1_of_data_set.json')\n",
    "# pd.read_json('./data/Data_Preparation/v0.1_of_data_set.json').head(1)"
   ]
  },
  {
   "cell_type": "code",
   "execution_count": null,
   "id": "b3ed14f8",
   "metadata": {},
   "outputs": [],
   "source": [
    "from datetime import datetime\n",
    "\n",
    "now = datetime.now()\n",
    "\n",
    "current_time = now.strftime(\"%H:%M:%S\")\n",
    "print(\"Current Time =\", current_time)"
   ]
  },
  {
   "cell_type": "code",
   "execution_count": null,
   "id": "492ca6d3",
   "metadata": {},
   "outputs": [],
   "source": [
    "# um 08:54 gestartet"
   ]
  }
 ],
 "metadata": {
  "kernelspec": {
   "display_name": "Python 3",
   "language": "python",
   "name": "python3"
  },
  "language_info": {
   "codemirror_mode": {
    "name": "ipython",
    "version": 3
   },
   "file_extension": ".py",
   "mimetype": "text/x-python",
   "name": "python",
   "nbconvert_exporter": "python",
   "pygments_lexer": "ipython3",
   "version": "3.7.10"
  }
 },
 "nbformat": 4,
 "nbformat_minor": 5
}
