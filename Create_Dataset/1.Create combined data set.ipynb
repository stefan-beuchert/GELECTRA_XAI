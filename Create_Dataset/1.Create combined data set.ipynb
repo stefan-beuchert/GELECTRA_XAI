{
 "cells": [
  {
   "cell_type": "markdown",
   "id": "adecd972",
   "metadata": {},
   "source": [
    "Loading the raw train and test data and combining it in one big df that also contains a label \"train\" or \"test\" indicationg the source. Also saving them in chunks for easier parallisation later."
   ]
  },
  {
   "cell_type": "code",
   "execution_count": 2,
   "id": "594c6eac",
   "metadata": {},
   "outputs": [
    {
     "name": "stdout",
     "output_type": "stream",
     "text": [
      "C:\\Users\\Stefan.Beuchert\\Desktop\\XAI_Thesis\n"
     ]
    }
   ],
   "source": [
    "%cd ..\n",
    "from src.get_data import get_data"
   ]
  },
  {
   "cell_type": "code",
   "execution_count": 10,
   "id": "1e808010",
   "metadata": {},
   "outputs": [],
   "source": [
    "import pandas as pd\n",
    "import numpy as np"
   ]
  },
  {
   "cell_type": "code",
   "execution_count": 13,
   "id": "6162fe4b",
   "metadata": {},
   "outputs": [],
   "source": [
    "# config\n",
    "target_path_for_combined_data = './data/GermanQuAD_raw_combined/GermanQuAD_raw_combined_'"
   ]
  },
  {
   "cell_type": "code",
   "execution_count": 3,
   "id": "879f9f1e",
   "metadata": {},
   "outputs": [
    {
     "data": {
      "text/html": [
       "<div>\n",
       "<style scoped>\n",
       "    .dataframe tbody tr th:only-of-type {\n",
       "        vertical-align: middle;\n",
       "    }\n",
       "\n",
       "    .dataframe tbody tr th {\n",
       "        vertical-align: top;\n",
       "    }\n",
       "\n",
       "    .dataframe thead th {\n",
       "        text-align: right;\n",
       "    }\n",
       "</style>\n",
       "<table border=\"1\" class=\"dataframe\">\n",
       "  <thead>\n",
       "    <tr style=\"text-align: right;\">\n",
       "      <th></th>\n",
       "      <th>question_id</th>\n",
       "      <th>question</th>\n",
       "      <th>answers</th>\n",
       "      <th>context</th>\n",
       "      <th>document_id</th>\n",
       "      <th>is_impossible</th>\n",
       "      <th>usage</th>\n",
       "    </tr>\n",
       "  </thead>\n",
       "  <tbody>\n",
       "    <tr>\n",
       "      <th>0</th>\n",
       "      <td>51870</td>\n",
       "      <td>Von welchem Gesetzt stammt das Amerikanische ab?</td>\n",
       "      <td>[{'answer_id': 53778, 'document_id': 43958, 'q...</td>\n",
       "      <td>Recht_der_Vereinigten_Staaten\\n\\n=== Amerikani...</td>\n",
       "      <td>43958</td>\n",
       "      <td>False</td>\n",
       "      <td>train</td>\n",
       "    </tr>\n",
       "    <tr>\n",
       "      <th>1</th>\n",
       "      <td>51871</td>\n",
       "      <td>Warum unterscheidet sich das amerikanische Rec...</td>\n",
       "      <td>[{'answer_id': 53779, 'document_id': 43958, 'q...</td>\n",
       "      <td>Recht_der_Vereinigten_Staaten\\n\\n=== Amerikani...</td>\n",
       "      <td>43958</td>\n",
       "      <td>False</td>\n",
       "      <td>train</td>\n",
       "    </tr>\n",
       "    <tr>\n",
       "      <th>2</th>\n",
       "      <td>46411</td>\n",
       "      <td>Wie viele ethnische Gruppen und indigenen Völk...</td>\n",
       "      <td>[{'answer_id': 47425, 'document_id': 43744, 'q...</td>\n",
       "      <td>Anthropologie\\n\\n=== Theologische Anthropologi...</td>\n",
       "      <td>43744</td>\n",
       "      <td>False</td>\n",
       "      <td>train</td>\n",
       "    </tr>\n",
       "    <tr>\n",
       "      <th>3</th>\n",
       "      <td>57714</td>\n",
       "      <td>Woher kommt die Sexuelle Orientierung von Mens...</td>\n",
       "      <td>[{'answer_id': 59595, 'document_id': 44171, 'q...</td>\n",
       "      <td>Sexuelle_Orientierung\\n\\n=== Ursachen für die ...</td>\n",
       "      <td>44171</td>\n",
       "      <td>False</td>\n",
       "      <td>train</td>\n",
       "    </tr>\n",
       "    <tr>\n",
       "      <th>4</th>\n",
       "      <td>52769</td>\n",
       "      <td>Seit wann gehört Guam zu dem Gebiet der Verein...</td>\n",
       "      <td>[{'answer_id': 54741, 'document_id': 43971, 'q...</td>\n",
       "      <td>Guam\\n\\n=== Nach dem Zweiten Weltkrieg ===\\nSe...</td>\n",
       "      <td>43971</td>\n",
       "      <td>False</td>\n",
       "      <td>train</td>\n",
       "    </tr>\n",
       "  </tbody>\n",
       "</table>\n",
       "</div>"
      ],
      "text/plain": [
       "   question_id                                           question  \\\n",
       "0        51870  Von welchem Gesetzt stammt das Amerikanische ab?    \n",
       "1        51871  Warum unterscheidet sich das amerikanische Rec...   \n",
       "2        46411  Wie viele ethnische Gruppen und indigenen Völk...   \n",
       "3        57714  Woher kommt die Sexuelle Orientierung von Mens...   \n",
       "4        52769  Seit wann gehört Guam zu dem Gebiet der Verein...   \n",
       "\n",
       "                                             answers  \\\n",
       "0  [{'answer_id': 53778, 'document_id': 43958, 'q...   \n",
       "1  [{'answer_id': 53779, 'document_id': 43958, 'q...   \n",
       "2  [{'answer_id': 47425, 'document_id': 43744, 'q...   \n",
       "3  [{'answer_id': 59595, 'document_id': 44171, 'q...   \n",
       "4  [{'answer_id': 54741, 'document_id': 43971, 'q...   \n",
       "\n",
       "                                             context  document_id  \\\n",
       "0  Recht_der_Vereinigten_Staaten\\n\\n=== Amerikani...        43958   \n",
       "1  Recht_der_Vereinigten_Staaten\\n\\n=== Amerikani...        43958   \n",
       "2  Anthropologie\\n\\n=== Theologische Anthropologi...        43744   \n",
       "3  Sexuelle_Orientierung\\n\\n=== Ursachen für die ...        44171   \n",
       "4  Guam\\n\\n=== Nach dem Zweiten Weltkrieg ===\\nSe...        43971   \n",
       "\n",
       "   is_impossible  usage  \n",
       "0          False  train  \n",
       "1          False  train  \n",
       "2          False  train  \n",
       "3          False  train  \n",
       "4          False  train  "
      ]
     },
     "execution_count": 3,
     "metadata": {},
     "output_type": "execute_result"
    }
   ],
   "source": [
    "# get raw data\n",
    "GQuAD_data = get_data()\n",
    "\n",
    "GQuAD_data.head(5)"
   ]
  },
  {
   "cell_type": "code",
   "execution_count": 4,
   "id": "e9c8aa56",
   "metadata": {},
   "outputs": [
    {
     "data": {
      "text/html": [
       "<div>\n",
       "<style scoped>\n",
       "    .dataframe tbody tr th:only-of-type {\n",
       "        vertical-align: middle;\n",
       "    }\n",
       "\n",
       "    .dataframe tbody tr th {\n",
       "        vertical-align: top;\n",
       "    }\n",
       "\n",
       "    .dataframe thead th {\n",
       "        text-align: right;\n",
       "    }\n",
       "</style>\n",
       "<table border=\"1\" class=\"dataframe\">\n",
       "  <thead>\n",
       "    <tr style=\"text-align: right;\">\n",
       "      <th></th>\n",
       "      <th>question_id</th>\n",
       "      <th>question</th>\n",
       "      <th>answers</th>\n",
       "      <th>context</th>\n",
       "      <th>document_id</th>\n",
       "      <th>is_impossible</th>\n",
       "      <th>usage</th>\n",
       "    </tr>\n",
       "  </thead>\n",
       "  <tbody>\n",
       "    <tr>\n",
       "      <th>0</th>\n",
       "      <td>67118</td>\n",
       "      <td>Warum sind höhere Temperaturen für die Bildung...</td>\n",
       "      <td>[{'answer_id': 72940, 'document_id': 73863, 'q...</td>\n",
       "      <td>Gletscher\\n\\n=== Akkumulation und Metamorphose...</td>\n",
       "      <td>73863</td>\n",
       "      <td>False</td>\n",
       "      <td>train</td>\n",
       "    </tr>\n",
       "    <tr>\n",
       "      <th>1</th>\n",
       "      <td>41385</td>\n",
       "      <td>Mit welchen Päpsten hat sich Elisabeth II getr...</td>\n",
       "      <td>[{'answer_id': 43009, 'document_id': 40918, 'q...</td>\n",
       "      <td>Elisabeth_II.\\n\\n== Persönlichkeit und öffentl...</td>\n",
       "      <td>40918</td>\n",
       "      <td>False</td>\n",
       "      <td>test</td>\n",
       "    </tr>\n",
       "    <tr>\n",
       "      <th>2</th>\n",
       "      <td>40503</td>\n",
       "      <td>Wie lange dauerte der Bau des Camp de Les Corts</td>\n",
       "      <td>[{'answer_id': 40046, 'document_id': 40992, 'q...</td>\n",
       "      <td>FC_Barcelona\\n\\n=== Frühere Spielstätten ===\\n...</td>\n",
       "      <td>40992</td>\n",
       "      <td>False</td>\n",
       "      <td>test</td>\n",
       "    </tr>\n",
       "    <tr>\n",
       "      <th>3</th>\n",
       "      <td>36706</td>\n",
       "      <td>In welchem Bundesstaat liegt Melbourne?</td>\n",
       "      <td>[{'answer_id': 37054, 'document_id': 40673, 'q...</td>\n",
       "      <td>Melbourne\\n\\n=== Stadtregierung ===\\nDie Metro...</td>\n",
       "      <td>40673</td>\n",
       "      <td>False</td>\n",
       "      <td>test</td>\n",
       "    </tr>\n",
       "    <tr>\n",
       "      <th>4</th>\n",
       "      <td>67578</td>\n",
       "      <td>Wann begann Hitler Truppen Richtung Sowjetunio...</td>\n",
       "      <td>[{'answer_id': 73435, 'document_id': 57930, 'q...</td>\n",
       "      <td>Deutsch-sowjetischer_Nichtangriffspakt\\n\\n=== ...</td>\n",
       "      <td>57930</td>\n",
       "      <td>False</td>\n",
       "      <td>train</td>\n",
       "    </tr>\n",
       "  </tbody>\n",
       "</table>\n",
       "</div>"
      ],
      "text/plain": [
       "   question_id                                           question  \\\n",
       "0        67118  Warum sind höhere Temperaturen für die Bildung...   \n",
       "1        41385  Mit welchen Päpsten hat sich Elisabeth II getr...   \n",
       "2        40503    Wie lange dauerte der Bau des Camp de Les Corts   \n",
       "3        36706            In welchem Bundesstaat liegt Melbourne?   \n",
       "4        67578  Wann begann Hitler Truppen Richtung Sowjetunio...   \n",
       "\n",
       "                                             answers  \\\n",
       "0  [{'answer_id': 72940, 'document_id': 73863, 'q...   \n",
       "1  [{'answer_id': 43009, 'document_id': 40918, 'q...   \n",
       "2  [{'answer_id': 40046, 'document_id': 40992, 'q...   \n",
       "3  [{'answer_id': 37054, 'document_id': 40673, 'q...   \n",
       "4  [{'answer_id': 73435, 'document_id': 57930, 'q...   \n",
       "\n",
       "                                             context  document_id  \\\n",
       "0  Gletscher\\n\\n=== Akkumulation und Metamorphose...        73863   \n",
       "1  Elisabeth_II.\\n\\n== Persönlichkeit und öffentl...        40918   \n",
       "2  FC_Barcelona\\n\\n=== Frühere Spielstätten ===\\n...        40992   \n",
       "3  Melbourne\\n\\n=== Stadtregierung ===\\nDie Metro...        40673   \n",
       "4  Deutsch-sowjetischer_Nichtangriffspakt\\n\\n=== ...        57930   \n",
       "\n",
       "   is_impossible  usage  \n",
       "0          False  train  \n",
       "1          False   test  \n",
       "2          False   test  \n",
       "3          False   test  \n",
       "4          False  train  "
      ]
     },
     "execution_count": 4,
     "metadata": {},
     "output_type": "execute_result"
    }
   ],
   "source": [
    "# shuffle rows for equal distribution\n",
    "GQuAD_data = GQuAD_data.sample(frac=1).reset_index(drop=True)\n",
    "\n",
    "GQuAD_data.head(5)"
   ]
  },
  {
   "cell_type": "code",
   "execution_count": 17,
   "id": "c51506b0",
   "metadata": {},
   "outputs": [],
   "source": [
    "# secure data in 5 json files\n",
    "list_of_dfs = np.array_split(GQuAD_data, 5)\n",
    "\n",
    "list_of_dfs[0].to_json(target_path_for_combined_data + 'A.json')\n",
    "list_of_dfs[1].to_json(target_path_for_combined_data + 'B.json')\n",
    "list_of_dfs[2].to_json(target_path_for_combined_data + 'C.json')\n",
    "list_of_dfs[3].to_json(target_path_for_combined_data + 'D.json')\n",
    "list_of_dfs[4].to_json(target_path_for_combined_data + 'E.json')"
   ]
  },
  {
   "cell_type": "code",
   "execution_count": 21,
   "id": "8556a058",
   "metadata": {},
   "outputs": [
    {
     "name": "stdout",
     "output_type": "stream",
     "text": [
      "2745\n"
     ]
    }
   ],
   "source": [
    "# check if everything worked fine\n",
    "print(pd.read_json(target_path_for_combined_data + 'A.json').head(1))\n",
    "print(pd.read_json(target_path_for_combined_data + 'B.json').head(1))\n",
    "print(pd.read_json(target_path_for_combined_data + 'C.json').head(1))\n",
    "print(pd.read_json(target_path_for_combined_data + 'D.json').head(1))\n",
    "print(pd.read_json(target_path_for_combined_data + 'E.json').head(1))"
   ]
  },
  {
   "cell_type": "code",
   "execution_count": null,
   "id": "3c680f04",
   "metadata": {},
   "outputs": [],
   "source": []
  }
 ],
 "metadata": {
  "kernelspec": {
   "display_name": "Python 3 (ipykernel)",
   "language": "python",
   "name": "python3"
  },
  "language_info": {
   "codemirror_mode": {
    "name": "ipython",
    "version": 3
   },
   "file_extension": ".py",
   "mimetype": "text/x-python",
   "name": "python",
   "nbconvert_exporter": "python",
   "pygments_lexer": "ipython3",
   "version": "3.9.12"
  }
 },
 "nbformat": 4,
 "nbformat_minor": 5
}
