{
 "cells": [
  {
   "cell_type": "markdown",
   "id": "adecd972",
   "metadata": {},
   "source": [
    "Loading the raw train and test data and combining it in one big df that also contains a label \"train\" or \"test\" indicationg the source. Also saving them in chunks for easier parallisation later."
   ]
  },
  {
   "cell_type": "code",
   "execution_count": 1,
   "id": "594c6eac",
   "metadata": {},
   "outputs": [
    {
     "name": "stdout",
     "output_type": "stream",
     "text": [
      "C:\\Users\\Stefan.Beuchert\\Desktop\\backup_from_kubectl\n"
     ]
    }
   ],
   "source": [
    "%cd ..\n",
    "from src.get_data import get_data"
   ]
  },
  {
   "cell_type": "code",
   "execution_count": 2,
   "id": "1e808010",
   "metadata": {},
   "outputs": [],
   "source": [
    "import pandas as pd\n",
    "import numpy as np"
   ]
  },
  {
   "cell_type": "code",
   "execution_count": 3,
   "id": "6162fe4b",
   "metadata": {},
   "outputs": [
    {
     "data": {
      "text/plain": [
       "'./data/GermanQuAD_raw_test/GermanQuAD_raw_test_'"
      ]
     },
     "execution_count": 3,
     "metadata": {},
     "output_type": "execute_result"
    }
   ],
   "source": [
    "# config\n",
    "\n",
    "only_test_data = True\n",
    "\n",
    "target_path_for_combined_data = './data/GermanQuAD_raw_combined/GermanQuAD_raw_combined_'\n",
    "target_path_for_test_data = './data/GermanQuAD_raw_test/GermanQuAD_raw_test_'\n",
    "\n",
    "target_path = None\n",
    "\n",
    "if only_test_data:\n",
    "    target_path = target_path_for_test_data\n",
    "else:\n",
    "    target_path = target_path_for_combined_data\n",
    "\n",
    "target_path"
   ]
  },
  {
   "cell_type": "code",
   "execution_count": 4,
   "id": "879f9f1e",
   "metadata": {},
   "outputs": [
    {
     "data": {
      "text/plain": [
       "13722"
      ]
     },
     "execution_count": 4,
     "metadata": {},
     "output_type": "execute_result"
    }
   ],
   "source": [
    "# get raw data\n",
    "GQuAD_data = get_data()\n",
    "\n",
    "len(GQuAD_data)"
   ]
  },
  {
   "cell_type": "code",
   "execution_count": 5,
   "id": "93d557e1-7aa3-474b-bbf0-b9257f0ff16f",
   "metadata": {},
   "outputs": [
    {
     "data": {
      "text/plain": [
       "2204"
      ]
     },
     "execution_count": 5,
     "metadata": {},
     "output_type": "execute_result"
    }
   ],
   "source": [
    "# prepare data\n",
    "\n",
    "if only_test_data:\n",
    "    GQuAD_data = GQuAD_data[GQuAD_data['usage'] == 'test']\n",
    "    \n",
    "len(GQuAD_data)"
   ]
  },
  {
   "cell_type": "code",
   "execution_count": 6,
   "id": "e9c8aa56",
   "metadata": {},
   "outputs": [
    {
     "data": {
      "text/html": [
       "<div>\n",
       "<style scoped>\n",
       "    .dataframe tbody tr th:only-of-type {\n",
       "        vertical-align: middle;\n",
       "    }\n",
       "\n",
       "    .dataframe tbody tr th {\n",
       "        vertical-align: top;\n",
       "    }\n",
       "\n",
       "    .dataframe thead th {\n",
       "        text-align: right;\n",
       "    }\n",
       "</style>\n",
       "<table border=\"1\" class=\"dataframe\">\n",
       "  <thead>\n",
       "    <tr style=\"text-align: right;\">\n",
       "      <th></th>\n",
       "      <th>question_id</th>\n",
       "      <th>question</th>\n",
       "      <th>answers</th>\n",
       "      <th>context</th>\n",
       "      <th>document_id</th>\n",
       "      <th>is_impossible</th>\n",
       "      <th>usage</th>\n",
       "    </tr>\n",
       "  </thead>\n",
       "  <tbody>\n",
       "    <tr>\n",
       "      <th>0</th>\n",
       "      <td>37495</td>\n",
       "      <td>Wie viele Amerikaner fühlen sich mehr als eine...</td>\n",
       "      <td>[{'answer_id': 37854, 'document_id': 41057, 'q...</td>\n",
       "      <td>Race__United_States_Census_\\n\\n=== „Race“ ===\\...</td>\n",
       "      <td>41057</td>\n",
       "      <td>False</td>\n",
       "      <td>test</td>\n",
       "    </tr>\n",
       "    <tr>\n",
       "      <th>1</th>\n",
       "      <td>36553</td>\n",
       "      <td>Wer wanderte nach North Carolina Anfang des 20...</td>\n",
       "      <td>[{'answer_id': 36895, 'document_id': 40789, 'q...</td>\n",
       "      <td>North_Carolina\\n\\n==== Europäische Amerikaner ...</td>\n",
       "      <td>40789</td>\n",
       "      <td>False</td>\n",
       "      <td>test</td>\n",
       "    </tr>\n",
       "    <tr>\n",
       "      <th>2</th>\n",
       "      <td>36597</td>\n",
       "      <td>Was gehört zum Stadtkirchenverband Hannover?</td>\n",
       "      <td>[{'answer_id': 36938, 'document_id': 40797, 'q...</td>\n",
       "      <td>Hannover\\n\\n==== Evangelisch-lutherische Kirch...</td>\n",
       "      <td>40797</td>\n",
       "      <td>False</td>\n",
       "      <td>test</td>\n",
       "    </tr>\n",
       "    <tr>\n",
       "      <th>3</th>\n",
       "      <td>37392</td>\n",
       "      <td>Wann starb Athanasius der Große?</td>\n",
       "      <td>[{'answer_id': 37749, 'document_id': 41075, 'q...</td>\n",
       "      <td>Athanasius_der_Große\\nGriechische Ikone, Titul...</td>\n",
       "      <td>41075</td>\n",
       "      <td>False</td>\n",
       "      <td>test</td>\n",
       "    </tr>\n",
       "    <tr>\n",
       "      <th>4</th>\n",
       "      <td>37351</td>\n",
       "      <td>Welche Länder liegen östlich des Irans?</td>\n",
       "      <td>[{'answer_id': 37706, 'document_id': 41082, 'q...</td>\n",
       "      <td>Iran\\n\\n=== Antike und Mittelalter ===\\nDas he...</td>\n",
       "      <td>41082</td>\n",
       "      <td>False</td>\n",
       "      <td>test</td>\n",
       "    </tr>\n",
       "  </tbody>\n",
       "</table>\n",
       "</div>"
      ],
      "text/plain": [
       "   question_id                                           question  \\\n",
       "0        37495  Wie viele Amerikaner fühlen sich mehr als eine...   \n",
       "1        36553  Wer wanderte nach North Carolina Anfang des 20...   \n",
       "2        36597       Was gehört zum Stadtkirchenverband Hannover?   \n",
       "3        37392                   Wann starb Athanasius der Große?   \n",
       "4        37351            Welche Länder liegen östlich des Irans?   \n",
       "\n",
       "                                             answers  \\\n",
       "0  [{'answer_id': 37854, 'document_id': 41057, 'q...   \n",
       "1  [{'answer_id': 36895, 'document_id': 40789, 'q...   \n",
       "2  [{'answer_id': 36938, 'document_id': 40797, 'q...   \n",
       "3  [{'answer_id': 37749, 'document_id': 41075, 'q...   \n",
       "4  [{'answer_id': 37706, 'document_id': 41082, 'q...   \n",
       "\n",
       "                                             context  document_id  \\\n",
       "0  Race__United_States_Census_\\n\\n=== „Race“ ===\\...        41057   \n",
       "1  North_Carolina\\n\\n==== Europäische Amerikaner ...        40789   \n",
       "2  Hannover\\n\\n==== Evangelisch-lutherische Kirch...        40797   \n",
       "3  Athanasius_der_Große\\nGriechische Ikone, Titul...        41075   \n",
       "4  Iran\\n\\n=== Antike und Mittelalter ===\\nDas he...        41082   \n",
       "\n",
       "   is_impossible usage  \n",
       "0          False  test  \n",
       "1          False  test  \n",
       "2          False  test  \n",
       "3          False  test  \n",
       "4          False  test  "
      ]
     },
     "execution_count": 6,
     "metadata": {},
     "output_type": "execute_result"
    }
   ],
   "source": [
    "# shuffle rows for equal distribution\n",
    "GQuAD_data = GQuAD_data.sample(frac=1).reset_index(drop=True)\n",
    "\n",
    "GQuAD_data.head(5)"
   ]
  },
  {
   "cell_type": "code",
   "execution_count": 7,
   "id": "c51506b0",
   "metadata": {},
   "outputs": [],
   "source": [
    "# secure data in 5 json files\n",
    "list_of_dfs = np.array_split(GQuAD_data, 3)\n",
    "\n",
    "list_of_dfs[0].to_json(target_path + 'A.json')\n",
    "list_of_dfs[1].to_json(target_path + 'B.json')\n",
    "list_of_dfs[2].to_json(target_path + 'C.json')\n",
    "#list_of_dfs[3].to_json(target_path + 'D.json')\n",
    "#list_of_dfs[4].to_json(target_path + 'E.json')"
   ]
  },
  {
   "cell_type": "code",
   "execution_count": 8,
   "id": "8556a058",
   "metadata": {},
   "outputs": [
    {
     "name": "stdout",
     "output_type": "stream",
     "text": [
      "   question_id                                           question  \\\n",
      "0        37495  Wie viele Amerikaner fühlen sich mehr als eine...   \n",
      "\n",
      "                                             answers  \\\n",
      "0  [{'answer_id': 37854, 'document_id': 41057, 'q...   \n",
      "\n",
      "                                             context  document_id  \\\n",
      "0  Race__United_States_Census_\\n\\n=== „Race“ ===\\...        41057   \n",
      "\n",
      "   is_impossible usage  \n",
      "0          False  test  \n",
      "     question_id                                question  \\\n",
      "735        40238  Wann nahm Japan die Stadt Zaoyang ein?   \n",
      "\n",
      "                                               answers  \\\n",
      "735  [{'answer_id': 39391, 'document_id': 41002, 'q...   \n",
      "\n",
      "                                               context  document_id  \\\n",
      "735  Pazifikkrieg\\n\\n=== 1939 ===\\nDie Chinesen beg...        41002   \n",
      "\n",
      "     is_impossible usage  \n",
      "735          False  test  \n",
      "      question_id                                           question  \\\n",
      "1470        38638  Welcher Unterschied im Wahlrecht bestand in Äg...   \n",
      "\n",
      "                                                answers  \\\n",
      "1470  [{'answer_id': 39045, 'document_id': 40726, 'q...   \n",
      "\n",
      "                                                context  document_id  \\\n",
      "1470  Ägypten\\n\\n=== Ägypten als Republik ===\\n1948 ...        40726   \n",
      "\n",
      "      is_impossible usage  \n",
      "1470          False  test  \n"
     ]
    }
   ],
   "source": [
    "# check if everything worked fine\n",
    "print(pd.read_json(target_path + 'A.json').head(1))\n",
    "print(pd.read_json(target_path + 'B.json').head(1))\n",
    "print(pd.read_json(target_path + 'C.json').head(1))\n",
    "#print(pd.read_json(target_path + 'D.json').head(1))\n",
    "#print(pd.read_json(target_path + 'E.json').head(1))"
   ]
  }
 ],
 "metadata": {
  "kernelspec": {
   "display_name": "Python 3 (ipykernel)",
   "language": "python",
   "name": "python3"
  },
  "language_info": {
   "codemirror_mode": {
    "name": "ipython",
    "version": 3
   },
   "file_extension": ".py",
   "mimetype": "text/x-python",
   "name": "python",
   "nbconvert_exporter": "python",
   "pygments_lexer": "ipython3",
   "version": "3.9.12"
  }
 },
 "nbformat": 4,
 "nbformat_minor": 5
}
