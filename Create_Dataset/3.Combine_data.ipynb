{
 "cells": [
  {
   "cell_type": "markdown",
   "id": "b2ab9845-542a-4252-b7b0-a9077eb180b8",
   "metadata": {},
   "source": [
    "Combine calculated data chunks to one big data set"
   ]
  },
  {
   "cell_type": "code",
   "execution_count": 5,
   "id": "4681026a-5506-4d2a-b4f2-9d708ff447f7",
   "metadata": {},
   "outputs": [
    {
     "name": "stdout",
     "output_type": "stream",
     "text": [
      "C:\\Users\\Stefan.Beuchert\\Desktop\\backup_from_kubectl\n"
     ]
    }
   ],
   "source": [
    "%cd .."
   ]
  },
  {
   "cell_type": "code",
   "execution_count": 6,
   "id": "154dcc3e-2715-4eb8-bfec-a7a179d9ce7d",
   "metadata": {},
   "outputs": [],
   "source": [
    "import pandas as pd"
   ]
  },
  {
   "cell_type": "code",
   "execution_count": 7,
   "id": "96b5211a-9bd8-4a41-aea2-6e165b9c1fcc",
   "metadata": {},
   "outputs": [],
   "source": [
    "# config\n",
    "number_of_features = 10 # the default value\n",
    "number_of_samples = 5000 # the default value\n",
    "chunk_tags = ['A', 'B', 'C', 'D', 'E']\n",
    "max_number_of_sub_chunks_for_each_chunk_tag = 45 # number of .jsons created for each chunk as a saving in case something would go wrong\n",
    "\n",
    "dir_name = f'data/German_QuAD_with_lime/lime_ns_{number_of_samples}_nf_{number_of_features}'"
   ]
  },
  {
   "cell_type": "code",
   "execution_count": 8,
   "id": "5d7d9ca4-9fe8-438d-a5e9-86a1ba819c46",
   "metadata": {},
   "outputs": [
    {
     "data": {
      "text/plain": [
       "(13722, 10)"
      ]
     },
     "execution_count": 8,
     "metadata": {},
     "output_type": "execute_result"
    }
   ],
   "source": [
    "# combine the data\n",
    "\n",
    "list_of_chunks = []\n",
    "\n",
    "for i in range( max_number_of_sub_chunks_for_each_chunk_tag):\n",
    "    for chunk_tag in chunk_tags:\n",
    "        df = pd.read_json(f'{dir_name}/{chunk_tag}_{i + 1}_von_{max_number_of_sub_chunks_for_each_chunk_tag}_GermanQuAD_explained_lime.json')\n",
    "        \n",
    "        list_of_chunks.append(df)\n",
    "        \n",
    "full_df = pd.concat(list_of_chunks, axis=0)\n",
    "\n",
    "full_df.shape"
   ]
  },
  {
   "cell_type": "code",
   "execution_count": 19,
   "id": "42f9bf1a-6ab7-4215-865b-19ab796ff14a",
   "metadata": {},
   "outputs": [
    {
     "data": {
      "text/html": [
       "<div>\n",
       "<style scoped>\n",
       "    .dataframe tbody tr th:only-of-type {\n",
       "        vertical-align: middle;\n",
       "    }\n",
       "\n",
       "    .dataframe tbody tr th {\n",
       "        vertical-align: top;\n",
       "    }\n",
       "\n",
       "    .dataframe thead th {\n",
       "        text-align: right;\n",
       "    }\n",
       "</style>\n",
       "<table border=\"1\" class=\"dataframe\">\n",
       "  <thead>\n",
       "    <tr style=\"text-align: right;\">\n",
       "      <th></th>\n",
       "      <th>question_id</th>\n",
       "      <th>question</th>\n",
       "      <th>answers</th>\n",
       "      <th>context</th>\n",
       "      <th>document_id</th>\n",
       "      <th>is_impossible</th>\n",
       "      <th>usage</th>\n",
       "      <th>prediction</th>\n",
       "      <th>start_token_exlanation_lime</th>\n",
       "      <th>end_token_explanation_lime</th>\n",
       "    </tr>\n",
       "  </thead>\n",
       "  <tbody>\n",
       "    <tr>\n",
       "      <th>0</th>\n",
       "      <td>67118</td>\n",
       "      <td>Warum sind höhere Temperaturen für die Bildung...</td>\n",
       "      <td>[{'answer_id': 72940, 'document_id': 73863, 'q...</td>\n",
       "      <td>Gletscher\\n\\n=== Akkumulation und Metamorphose...</td>\n",
       "      <td>73863</td>\n",
       "      <td>False</td>\n",
       "      <td>train</td>\n",
       "      <td>Zum einen bilden sich in wärmeren ( temperiert...</td>\n",
       "      <td>[[Warum, 0.1728582717], [Temperaturen, 0.11620...</td>\n",
       "      <td>[[Warum, 0.0826549458], [kann, 0.0461802756], ...</td>\n",
       "    </tr>\n",
       "    <tr>\n",
       "      <th>1</th>\n",
       "      <td>41385</td>\n",
       "      <td>Mit welchen Päpsten hat sich Elisabeth II getr...</td>\n",
       "      <td>[{'answer_id': 43009, 'document_id': 40918, 'q...</td>\n",
       "      <td>Elisabeth_II.\\n\\n== Persönlichkeit und öffentl...</td>\n",
       "      <td>40918</td>\n",
       "      <td>False</td>\n",
       "      <td>test</td>\n",
       "      <td>Johannes XXIII., Johannes Paul II. und Benedik...</td>\n",
       "      <td>[[Päpste, 0.15638861680000002], [welchen, 0.14...</td>\n",
       "      <td>[[welchen, 0.2098591445], [Päpsten, 0.10988179...</td>\n",
       "    </tr>\n",
       "    <tr>\n",
       "      <th>2</th>\n",
       "      <td>40503</td>\n",
       "      <td>Wie lange dauerte der Bau des Camp de Les Corts</td>\n",
       "      <td>[{'answer_id': 40046, 'document_id': 40992, 'q...</td>\n",
       "      <td>FC_Barcelona\\n\\n=== Frühere Spielstätten ===\\n...</td>\n",
       "      <td>40992</td>\n",
       "      <td>False</td>\n",
       "      <td>test</td>\n",
       "      <td></td>\n",
       "      <td>None</td>\n",
       "      <td>None</td>\n",
       "    </tr>\n",
       "    <tr>\n",
       "      <th>3</th>\n",
       "      <td>36706</td>\n",
       "      <td>In welchem Bundesstaat liegt Melbourne?</td>\n",
       "      <td>[{'answer_id': 37054, 'document_id': 40673, 'q...</td>\n",
       "      <td>Melbourne\\n\\n=== Stadtregierung ===\\nDie Metro...</td>\n",
       "      <td>40673</td>\n",
       "      <td>False</td>\n",
       "      <td>test</td>\n",
       "      <td>Victoria</td>\n",
       "      <td>[[Bundesstaat, 0.1435744051], [Victoria, 0.085...</td>\n",
       "      <td>[[Bundesstaates, 0.24585934180000002], [Victor...</td>\n",
       "    </tr>\n",
       "    <tr>\n",
       "      <th>4</th>\n",
       "      <td>67578</td>\n",
       "      <td>Wann begann Hitler Truppen Richtung Sowjetunio...</td>\n",
       "      <td>[{'answer_id': 73435, 'document_id': 57930, 'q...</td>\n",
       "      <td>Deutsch-sowjetischer_Nichtangriffspakt\\n\\n=== ...</td>\n",
       "      <td>57930</td>\n",
       "      <td>False</td>\n",
       "      <td>train</td>\n",
       "      <td>Bereits im Sommer 1940</td>\n",
       "      <td>[[Wann, 0.1540203392], [Truppen, 0.0609920923]...</td>\n",
       "      <td>[[Wann, 0.2670012466], [begann, 0.1017562125],...</td>\n",
       "    </tr>\n",
       "  </tbody>\n",
       "</table>\n",
       "</div>"
      ],
      "text/plain": [
       "   question_id                                           question  \\\n",
       "0        67118  Warum sind höhere Temperaturen für die Bildung...   \n",
       "1        41385  Mit welchen Päpsten hat sich Elisabeth II getr...   \n",
       "2        40503    Wie lange dauerte der Bau des Camp de Les Corts   \n",
       "3        36706            In welchem Bundesstaat liegt Melbourne?   \n",
       "4        67578  Wann begann Hitler Truppen Richtung Sowjetunio...   \n",
       "\n",
       "                                             answers  \\\n",
       "0  [{'answer_id': 72940, 'document_id': 73863, 'q...   \n",
       "1  [{'answer_id': 43009, 'document_id': 40918, 'q...   \n",
       "2  [{'answer_id': 40046, 'document_id': 40992, 'q...   \n",
       "3  [{'answer_id': 37054, 'document_id': 40673, 'q...   \n",
       "4  [{'answer_id': 73435, 'document_id': 57930, 'q...   \n",
       "\n",
       "                                             context  document_id  \\\n",
       "0  Gletscher\\n\\n=== Akkumulation und Metamorphose...        73863   \n",
       "1  Elisabeth_II.\\n\\n== Persönlichkeit und öffentl...        40918   \n",
       "2  FC_Barcelona\\n\\n=== Frühere Spielstätten ===\\n...        40992   \n",
       "3  Melbourne\\n\\n=== Stadtregierung ===\\nDie Metro...        40673   \n",
       "4  Deutsch-sowjetischer_Nichtangriffspakt\\n\\n=== ...        57930   \n",
       "\n",
       "   is_impossible  usage                                         prediction  \\\n",
       "0          False  train  Zum einen bilden sich in wärmeren ( temperiert...   \n",
       "1          False   test  Johannes XXIII., Johannes Paul II. und Benedik...   \n",
       "2          False   test                                                      \n",
       "3          False   test                                           Victoria   \n",
       "4          False  train                             Bereits im Sommer 1940   \n",
       "\n",
       "                         start_token_exlanation_lime  \\\n",
       "0  [[Warum, 0.1728582717], [Temperaturen, 0.11620...   \n",
       "1  [[Päpste, 0.15638861680000002], [welchen, 0.14...   \n",
       "2                                               None   \n",
       "3  [[Bundesstaat, 0.1435744051], [Victoria, 0.085...   \n",
       "4  [[Wann, 0.1540203392], [Truppen, 0.0609920923]...   \n",
       "\n",
       "                          end_token_explanation_lime  \n",
       "0  [[Warum, 0.0826549458], [kann, 0.0461802756], ...  \n",
       "1  [[welchen, 0.2098591445], [Päpsten, 0.10988179...  \n",
       "2                                               None  \n",
       "3  [[Bundesstaates, 0.24585934180000002], [Victor...  \n",
       "4  [[Wann, 0.2670012466], [begann, 0.1017562125],...  "
      ]
     },
     "execution_count": 19,
     "metadata": {},
     "output_type": "execute_result"
    }
   ],
   "source": [
    "full_df.head(5)"
   ]
  },
  {
   "cell_type": "code",
   "execution_count": 21,
   "id": "4609e0bb-2efa-4ce6-a90c-694310f2c0b2",
   "metadata": {},
   "outputs": [
    {
     "data": {
      "text/plain": [
       "False"
      ]
     },
     "execution_count": 21,
     "metadata": {},
     "output_type": "execute_result"
    }
   ],
   "source": [
    "# check for doulbes\n",
    "full_df['question_id'].duplicated().any()"
   ]
  },
  {
   "cell_type": "code",
   "execution_count": 22,
   "id": "19801426-ba47-4dd4-8d93-1a4cfea19ced",
   "metadata": {},
   "outputs": [],
   "source": [
    "# save\n",
    "\n",
    "df.to_json(f'{dir_name}/Combined_Data_GermanQuAD_explained_lime.json')"
   ]
  }
 ],
 "metadata": {
  "kernelspec": {
   "display_name": "Python 3 (ipykernel)",
   "language": "python",
   "name": "python3"
  },
  "language_info": {
   "codemirror_mode": {
    "name": "ipython",
    "version": 3
   },
   "file_extension": ".py",
   "mimetype": "text/x-python",
   "name": "python",
   "nbconvert_exporter": "python",
   "pygments_lexer": "ipython3",
   "version": "3.9.12"
  }
 },
 "nbformat": 4,
 "nbformat_minor": 5
}
