{
 "cells": [
  {
   "cell_type": "code",
   "execution_count": 1,
   "id": "76b3df66",
   "metadata": {},
   "outputs": [
    {
     "name": "stdout",
     "output_type": "stream",
     "text": [
      "\u001b[31mERROR: pip's dependency resolver does not currently take into account all the packages that are installed. This behaviour is the source of the following dependency conflicts.\n",
      "autogluon-contrib-nlp 0.0.1b20210201 requires tokenizers==0.9.4, but you have tokenizers 0.13.2 which is incompatible.\u001b[0m\n",
      "\u001b[33mWARNING: Running pip as the 'root' user can result in broken permissions and conflicting behaviour with the system package manager. It is recommended to use a virtual environment instead: https://pip.pypa.io/warnings/venv\u001b[0m\n",
      "\u001b[33mWARNING: You are using pip version 21.2.4; however, version 22.3.1 is available.\n",
      "You should consider upgrading via the '/opt/conda/envs/rapids/bin/python3.7 -m pip install --upgrade pip' command.\u001b[0m\n",
      "\u001b[31mERROR: pip's dependency resolver does not currently take into account all the packages that are installed. This behaviour is the source of the following dependency conflicts.\n",
      "autogluon-vision 0.3.1 requires Pillow<8.4.0,>=8.3.0, but you have pillow 9.3.0 which is incompatible.\n",
      "autogluon-mxnet 0.3.1 requires Pillow<8.4.0,>=8.3.0, but you have pillow 9.3.0 which is incompatible.\u001b[0m\n",
      "\u001b[33mWARNING: Running pip as the 'root' user can result in broken permissions and conflicting behaviour with the system package manager. It is recommended to use a virtual environment instead: https://pip.pypa.io/warnings/venv\u001b[0m\n",
      "\u001b[33mWARNING: You are using pip version 21.2.4; however, version 22.3.1 is available.\n",
      "You should consider upgrading via the '/opt/conda/envs/rapids/bin/python3.7 -m pip install --upgrade pip' command.\u001b[0m\n"
     ]
    }
   ],
   "source": [
    "!pip install transformers -q\n",
    "!pip install lime -q"
   ]
  },
  {
   "cell_type": "code",
   "execution_count": 2,
   "id": "fc72cde8",
   "metadata": {},
   "outputs": [
    {
     "name": "stdout",
     "output_type": "stream",
     "text": [
      "/usr/src/app/data/XAI_Thesis\n"
     ]
    }
   ],
   "source": [
    "%cd ..\n",
    "from src.model_wrapper import Model\n",
    "from src.explainer_lime import Lime_Explanation"
   ]
  },
  {
   "cell_type": "code",
   "execution_count": 3,
   "id": "125273b0",
   "metadata": {},
   "outputs": [],
   "source": [
    "import pandas as pd\n",
    "pd.options.mode.chained_assignment = None\n",
    "import numpy as np\n",
    "import os\n",
    "import logging"
   ]
  },
  {
   "cell_type": "code",
   "execution_count": 4,
   "id": "5d1fa3de",
   "metadata": {},
   "outputs": [],
   "source": [
    "# config\n",
    "chunk_tag = 'D' # the possible chunks are A, B, C, D, E with 2700 rows each\n",
    "target_path_for_combined_data = f'./data/GermanQuAD_raw_combined/GermanQuAD_raw_combined_{chunk_tag}.json'\n",
    "model_name = 'deepset/gelectra-base-germanquad'\n",
    "\n",
    "number_of_features = 10 # the default value\n",
    "number_of_samples = 5000 # the default value"
   ]
  },
  {
   "cell_type": "code",
   "execution_count": 5,
   "id": "2125990a",
   "metadata": {},
   "outputs": [
    {
     "data": {
      "text/html": [
       "<div>\n",
       "<style scoped>\n",
       "    .dataframe tbody tr th:only-of-type {\n",
       "        vertical-align: middle;\n",
       "    }\n",
       "\n",
       "    .dataframe tbody tr th {\n",
       "        vertical-align: top;\n",
       "    }\n",
       "\n",
       "    .dataframe thead th {\n",
       "        text-align: right;\n",
       "    }\n",
       "</style>\n",
       "<table border=\"1\" class=\"dataframe\">\n",
       "  <thead>\n",
       "    <tr style=\"text-align: right;\">\n",
       "      <th></th>\n",
       "      <th>question_id</th>\n",
       "      <th>question</th>\n",
       "      <th>answers</th>\n",
       "      <th>context</th>\n",
       "      <th>document_id</th>\n",
       "      <th>is_impossible</th>\n",
       "      <th>usage</th>\n",
       "    </tr>\n",
       "  </thead>\n",
       "  <tbody>\n",
       "    <tr>\n",
       "      <th>8234</th>\n",
       "      <td>51321</td>\n",
       "      <td>In welchem Teil von Mali siedeln die Volta-Vol...</td>\n",
       "      <td>[{'answer_id': 53103, 'document_id': 44875, 'q...</td>\n",
       "      <td>Mali\\n\\n=== Ethnien ===\\nDie Grenzen Malis ver...</td>\n",
       "      <td>44875</td>\n",
       "      <td>False</td>\n",
       "      <td>train</td>\n",
       "    </tr>\n",
       "    <tr>\n",
       "      <th>8235</th>\n",
       "      <td>66209</td>\n",
       "      <td>Wo kann man Aktien von FC Arsenal kaufen?</td>\n",
       "      <td>[{'answer_id': 71153, 'document_id': 56811, 'q...</td>\n",
       "      <td>FC_Arsenal\\n\\n== Finanzsituation/Eigentümersch...</td>\n",
       "      <td>56811</td>\n",
       "      <td>False</td>\n",
       "      <td>train</td>\n",
       "    </tr>\n",
       "    <tr>\n",
       "      <th>8236</th>\n",
       "      <td>70209</td>\n",
       "      <td>Welche Aufgabe hat die Federation Cynologique ...</td>\n",
       "      <td>[{'answer_id': 78827, 'document_id': 56926, 'q...</td>\n",
       "      <td>Haushund\\n\\n== Zucht ==\\nIm Verlauf der Mensch...</td>\n",
       "      <td>56926</td>\n",
       "      <td>False</td>\n",
       "      <td>train</td>\n",
       "    </tr>\n",
       "    <tr>\n",
       "      <th>8237</th>\n",
       "      <td>47099</td>\n",
       "      <td>Wann war der Große Nordische Krieg?</td>\n",
       "      <td>[{'answer_id': 48670, 'document_id': 43785, 'q...</td>\n",
       "      <td>Estland\\n\\n=== Deutscher Einfluss ===\\nDie mit...</td>\n",
       "      <td>43785</td>\n",
       "      <td>False</td>\n",
       "      <td>train</td>\n",
       "    </tr>\n",
       "    <tr>\n",
       "      <th>8238</th>\n",
       "      <td>64614</td>\n",
       "      <td>Warum hatte die Group Destiny's Child eine 3-J...</td>\n",
       "      <td>[{'answer_id': 67261, 'document_id': 57648, 'q...</td>\n",
       "      <td>Beyoncé\\n\\n=== 2004–2005: Destiny’s Child Come...</td>\n",
       "      <td>57648</td>\n",
       "      <td>False</td>\n",
       "      <td>train</td>\n",
       "    </tr>\n",
       "  </tbody>\n",
       "</table>\n",
       "</div>"
      ],
      "text/plain": [
       "      question_id                                           question  \\\n",
       "8234        51321  In welchem Teil von Mali siedeln die Volta-Vol...   \n",
       "8235        66209          Wo kann man Aktien von FC Arsenal kaufen?   \n",
       "8236        70209  Welche Aufgabe hat die Federation Cynologique ...   \n",
       "8237        47099                Wann war der Große Nordische Krieg?   \n",
       "8238        64614  Warum hatte die Group Destiny's Child eine 3-J...   \n",
       "\n",
       "                                                answers  \\\n",
       "8234  [{'answer_id': 53103, 'document_id': 44875, 'q...   \n",
       "8235  [{'answer_id': 71153, 'document_id': 56811, 'q...   \n",
       "8236  [{'answer_id': 78827, 'document_id': 56926, 'q...   \n",
       "8237  [{'answer_id': 48670, 'document_id': 43785, 'q...   \n",
       "8238  [{'answer_id': 67261, 'document_id': 57648, 'q...   \n",
       "\n",
       "                                                context  document_id  \\\n",
       "8234  Mali\\n\\n=== Ethnien ===\\nDie Grenzen Malis ver...        44875   \n",
       "8235  FC_Arsenal\\n\\n== Finanzsituation/Eigentümersch...        56811   \n",
       "8236  Haushund\\n\\n== Zucht ==\\nIm Verlauf der Mensch...        56926   \n",
       "8237  Estland\\n\\n=== Deutscher Einfluss ===\\nDie mit...        43785   \n",
       "8238  Beyoncé\\n\\n=== 2004–2005: Destiny’s Child Come...        57648   \n",
       "\n",
       "      is_impossible  usage  \n",
       "8234          False  train  \n",
       "8235          False  train  \n",
       "8236          False  train  \n",
       "8237          False  train  \n",
       "8238          False  train  "
      ]
     },
     "execution_count": 5,
     "metadata": {},
     "output_type": "execute_result"
    }
   ],
   "source": [
    "# get raw data combined in one dataframe (test + train)\n",
    "GQuAD_chunk_data = pd.read_json(target_path_for_combined_data)\n",
    "GQuAD_chunk_data.head(5)"
   ]
  },
  {
   "cell_type": "code",
   "execution_count": 6,
   "id": "df2b33d8",
   "metadata": {},
   "outputs": [
    {
     "data": {
      "application/vnd.jupyter.widget-view+json": {
       "model_id": "c23e2069426d42f78b63105893b10fcc",
       "version_major": 2,
       "version_minor": 0
      },
      "text/plain": [
       "Downloading:   0%|          | 0.00/740 [00:00<?, ?B/s]"
      ]
     },
     "metadata": {},
     "output_type": "display_data"
    },
    {
     "data": {
      "application/vnd.jupyter.widget-view+json": {
       "model_id": "4440c179549046b4857852da40a07352",
       "version_major": 2,
       "version_minor": 0
      },
      "text/plain": [
       "Downloading:   0%|          | 0.00/437M [00:00<?, ?B/s]"
      ]
     },
     "metadata": {},
     "output_type": "display_data"
    },
    {
     "data": {
      "application/vnd.jupyter.widget-view+json": {
       "model_id": "615e3f7e93274069b3a101544be5f937",
       "version_major": 2,
       "version_minor": 0
      },
      "text/plain": [
       "Downloading:   0%|          | 0.00/358 [00:00<?, ?B/s]"
      ]
     },
     "metadata": {},
     "output_type": "display_data"
    },
    {
     "data": {
      "application/vnd.jupyter.widget-view+json": {
       "model_id": "3f5d6fa942994fa9b4511e52d285694f",
       "version_major": 2,
       "version_minor": 0
      },
      "text/plain": [
       "Downloading:   0%|          | 0.00/240k [00:00<?, ?B/s]"
      ]
     },
     "metadata": {},
     "output_type": "display_data"
    },
    {
     "data": {
      "application/vnd.jupyter.widget-view+json": {
       "model_id": "a25da4d52e93401fa3468ce039c65a59",
       "version_major": 2,
       "version_minor": 0
      },
      "text/plain": [
       "Downloading:   0%|          | 0.00/112 [00:00<?, ?B/s]"
      ]
     },
     "metadata": {},
     "output_type": "display_data"
    }
   ],
   "source": [
    "# get important instances\n",
    "GELECTRA_MODEL = Model(model_name)\n",
    "\n",
    "# get lime explainer\n",
    "LIME_EXPLAINER = Lime_Explanation(model = GELECTRA_MODEL,\n",
    "                                  class_names = [\"Start-Token\",\"End-Token\"], \n",
    "                                  num_samples = number_of_samples, # hier noch eine begründung warum\n",
    "                                  num_features = number_of_features, # default value\n",
    "                                  random_state = 0)"
   ]
  },
  {
   "cell_type": "code",
   "execution_count": 7,
   "id": "efe78f99",
   "metadata": {},
   "outputs": [],
   "source": [
    "# helper functions to enhance_data_frame\n",
    "\n",
    "def get_prediction(row):\n",
    "    model_output = GELECTRA_MODEL.predict(row.question, row.context)\n",
    "    \n",
    "    answer = GELECTRA_MODEL.get_predicted_tokens(model_output[0],model_output[1])\n",
    "    answer_string = GELECTRA_MODEL.get_answer_string(model_output[0],model_output[1])\n",
    "    \n",
    "    return answer_string\n",
    "\n",
    "def get_lime_explanation(row):\n",
    "    \n",
    "    try:\n",
    "        explanation = LIME_EXPLAINER.explain(row.question, row.context)\n",
    "\n",
    "        explanation_start_token = explanation.as_list(label = 0)\n",
    "        explanation_end_token = explanation.as_list(label = 1)\n",
    "\n",
    "        return pd.Series([explanation_start_token, explanation_end_token])\n",
    "    except:\n",
    "        print(row.question_id)\n",
    "        return pd.Series([None, None])\n",
    "    \n",
    "def enhance_data_frame(GQuAD_data):\n",
    "    GQuAD_data['prediction'] = GQuAD_data.apply(lambda row: get_prediction(row), axis=1)\n",
    "    GQuAD_data[['start_token_exlanation_lime', 'end_token_explanation_lime']] = GQuAD_data.apply(lambda row: get_lime_explanation(row), axis=1)\n",
    "    \n",
    "    return GQuAD_data"
   ]
  },
  {
   "cell_type": "code",
   "execution_count": 8,
   "id": "45d191cc",
   "metadata": {},
   "outputs": [],
   "source": [
    "# helper function: parallizes the process (DOES NOT BRING A BENEFIT)\n",
    "# def parallize_dataframe(dataframe, func, n_cores):\n",
    "#     df_split = np.array_split(dataframe, n_cores)\n",
    "#     pool = multiprocessing.Pool(n_cores)\n",
    "    \n",
    "#     dataframe = pd.concat(pool.map(func, df_split))\n",
    "#     pool.close()\n",
    "#     pool.join()\n",
    "    \n",
    "#     return dataframe"
   ]
  },
  {
   "cell_type": "code",
   "execution_count": 9,
   "id": "7bcd8599",
   "metadata": {},
   "outputs": [],
   "source": [
    "# creat new directory with specifications\n",
    "dir_name = f'data/German_QuAD_with_lime/lime_ns_{number_of_samples}_nf_{number_of_features}'\n",
    "if not os.path.isdir(dir_name):\n",
    "    os.mkdir(dir_name)"
   ]
  },
  {
   "cell_type": "code",
   "execution_count": 10,
   "id": "116fe9d8",
   "metadata": {},
   "outputs": [],
   "source": [
    "# create a  logger\n",
    "logging.basicConfig(filename=f'{dir_name}/{chunk_tag}_0_log.log', # file name\n",
    "                    filemode='a', # file mode a == append instead of overwrite\n",
    "                    level=logging.DEBUG,\n",
    "                    datefmt='%Y-%m-%d %H:%M:%S'\n",
    "                   )"
   ]
  },
  {
   "cell_type": "code",
   "execution_count": 11,
   "id": "117b5fff",
   "metadata": {},
   "outputs": [
    {
     "data": {
      "text/plain": [
       "45"
      ]
     },
     "execution_count": 11,
     "metadata": {},
     "output_type": "execute_result"
    }
   ],
   "source": [
    "# split df in chunks for better handeling (and backing up after each chunk)\n",
    "list_of_dfs = np.array_split(GQuAD_chunk_data, 45)\n",
    "len(list_of_dfs)\n",
    "\n",
    "# TODO -> wenn ich weiß wie lange eine row auf dem cluster braucht, kann ich abschätzen wie groß die sub_chunks sein sollen"
   ]
  },
  {
   "cell_type": "code",
   "execution_count": 12,
   "id": "9f78d2a2",
   "metadata": {},
   "outputs": [
    {
     "name": "stdout",
     "output_type": "stream",
     "text": [
      "58974\n",
      "36419\n",
      "46575\n",
      "36815\n",
      "37365\n",
      "40495\n",
      "59478\n",
      "59083\n",
      "36668\n",
      "53587\n"
     ]
    }
   ],
   "source": [
    "# iterate throug the dfs\n",
    "for i in range(len(list_of_dfs)):\n",
    "    try:\n",
    "        current_df_chunck = list_of_dfs[i]\n",
    "\n",
    "        first_index = current_df_chunck.index[0]\n",
    "        last_index = current_df_chunck.index[-1]\n",
    "\n",
    "        logging.info(f'Starting on new sub_chunk. The first index is: {first_index}')\n",
    "        \n",
    "        # enhance df sub-chunk\n",
    "        df_sub_chuck_explained = enhance_data_frame(list_of_dfs[i])\n",
    "\n",
    "        # safe them to a file with the correct name (as a counter)\n",
    "        df_sub_chuck_explained.to_json(f'{dir_name}/{chunk_tag}_{i + 1}_von_{len(list_of_dfs)}_GermanQuAD_explained_lime.json')\n",
    "\n",
    "        # log the index of the last row of the df\n",
    "        logging.info(f'One sub_chunk has been finished and safed. The last index is: {last_index}')\n",
    "                     \n",
    "    except Exception as e:\n",
    "        logging.critical(e, exc_info=True)\n",
    "        "
   ]
  },
  {
   "cell_type": "code",
   "execution_count": null,
   "id": "a3f925b2",
   "metadata": {},
   "outputs": [],
   "source": []
  }
 ],
 "metadata": {
  "kernelspec": {
   "display_name": "Python 3 (ipykernel)",
   "language": "python",
   "name": "python3"
  },
  "language_info": {
   "codemirror_mode": {
    "name": "ipython",
    "version": 3
   },
   "file_extension": ".py",
   "mimetype": "text/x-python",
   "name": "python",
   "nbconvert_exporter": "python",
   "pygments_lexer": "ipython3",
   "version": "3.9.12"
  }
 },
 "nbformat": 4,
 "nbformat_minor": 5
}
