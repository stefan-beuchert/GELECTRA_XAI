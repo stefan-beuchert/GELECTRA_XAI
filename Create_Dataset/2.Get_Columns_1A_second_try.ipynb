{
 "cells": [
  {
   "cell_type": "code",
   "execution_count": 1,
   "id": "fc72cde8",
   "metadata": {},
   "outputs": [
    {
     "name": "stdout",
     "output_type": "stream",
     "text": [
      "C:\\Users\\Stefan.Beuchert\\Desktop\\backup_from_kubectl\n"
     ]
    }
   ],
   "source": [
    "%cd ..\n",
    "import config\n",
    "from src.model_wrapper import Model\n",
    "from src.explainer_lime import Lime_Explanation\n",
    "from src.explainer_full import get_full_explanation_for_data_point"
   ]
  },
  {
   "cell_type": "code",
   "execution_count": 2,
   "id": "125273b0",
   "metadata": {},
   "outputs": [],
   "source": [
    "import pandas as pd\n",
    "#pd.options.mode.chained_assignment = None\n",
    "import numpy as np\n",
    "import os\n",
    "import logging\n",
    "import spacy"
   ]
  },
  {
   "cell_type": "code",
   "execution_count": 3,
   "id": "5d1fa3de",
   "metadata": {},
   "outputs": [],
   "source": [
    "# config\n",
    "chunk_tag = 'A' # the possible chunks are A, B, C, D, E with 2700 rows each\n",
    "source_path = f'./data/GermanQuAD_raw_test/GermanQuAD_raw_test_{chunk_tag}.json'\n",
    "\n",
    "number_of_features = 10 # the default value\n",
    "number_of_samples = 3 # the default value \n",
    "bow = False # not default "
   ]
  },
  {
   "cell_type": "code",
   "execution_count": 4,
   "id": "2125990a",
   "metadata": {},
   "outputs": [
    {
     "data": {
      "text/plain": [
       "735"
      ]
     },
     "execution_count": 4,
     "metadata": {},
     "output_type": "execute_result"
    }
   ],
   "source": [
    "# get raw data in one dataframe\n",
    "GQuAD_chunk_data = pd.read_json(source_path)\n",
    "# GQuAD_chunk_data = GQuAD_chunk_data.head(10)\n",
    "GQuAD_chunk_data.head(3)\n",
    "len(GQuAD_chunk_data)"
   ]
  },
  {
   "cell_type": "code",
   "execution_count": 5,
   "id": "df2b33d8",
   "metadata": {},
   "outputs": [],
   "source": [
    "# get important instances\n",
    "NLP = spacy.load(\"de_core_news_sm\")\n",
    "\n",
    "GELECTRA_MODEL = Model(config.GELECTRA_MODEL_NAME)\n",
    "\n",
    "# get lime explainer\n",
    "LIME_EXPLAINER = Lime_Explanation(model = GELECTRA_MODEL,\n",
    "                                  class_names = [\"Start-Token\",\"End-Token\"], \n",
    "                                  num_samples = number_of_samples, # hier noch eine begründung warum\n",
    "                                  num_features = number_of_features, # default value\n",
    "                                  bow = bow,\n",
    "                                  random_state = 0)"
   ]
  },
  {
   "cell_type": "code",
   "execution_count": 7,
   "id": "5c24280b-42dc-42cd-9b9d-260d91ef6656",
   "metadata": {},
   "outputs": [],
   "source": [
    "# helper functions to enhance_data_frame\n",
    "\n",
    "def get_prediction(row):\n",
    "    model_output = GELECTRA_MODEL.predict(row.question, row.context)\n",
    "    \n",
    "    answer = GELECTRA_MODEL.get_predicted_tokens(model_output[0],model_output[1])\n",
    "    answer_string = GELECTRA_MODEL.get_answer_string(model_output[0],model_output[1])\n",
    "    \n",
    "    return answer_string\n",
    "\n",
    "def get_lime_explanation(row):\n",
    "    \n",
    "    try:\n",
    "        res = get_full_explanation_for_data_point(LIME_EXPLAINER, NLP, row.question, row.context)\n",
    "\n",
    "        return res\n",
    "    except:\n",
    "        print(f'results for {row.question_id} could not be calculated')\n",
    "        return {}\n",
    "    \n",
    "def enhance_data_frame(GQuAD_data):\n",
    "    GQuAD_data['prediction'] = GQuAD_data.apply(lambda row: get_prediction(row), axis=1)\n",
    "    GQuAD_data['explanation'] = GQuAD_data.apply(lambda row: get_lime_explanation(row), axis=1)\n",
    "    \n",
    "    return GQuAD_data"
   ]
  },
  {
   "cell_type": "code",
   "execution_count": 8,
   "id": "81d4cf4a-fb1d-4d91-95e3-df3c88b744b4",
   "metadata": {},
   "outputs": [],
   "source": [
    "# creat new target directory with specifications\n",
    "dir_name = f'data/German_QuAD_test_with_lime/lime_ns_{number_of_samples}_nf_{number_of_features}'\n",
    "if not os.path.isdir(dir_name):\n",
    "    os.mkdir(dir_name)"
   ]
  },
  {
   "cell_type": "code",
   "execution_count": 9,
   "id": "1e5e25d5-a617-4972-8a18-67546703113e",
   "metadata": {},
   "outputs": [],
   "source": [
    "# create a  logger\n",
    "logging.basicConfig(filename=f'{dir_name}/{chunk_tag}_0_log.log', # file name\n",
    "                    filemode='a', # file mode a == append instead of overwrite\n",
    "                    level=logging.DEBUG,\n",
    "                    datefmt='%Y-%m-%d %H:%M:%S'\n",
    "                   )"
   ]
  },
  {
   "cell_type": "code",
   "execution_count": 10,
   "id": "1983179e-195c-43d6-8766-d5a8fc33da61",
   "metadata": {},
   "outputs": [
    {
     "data": {
      "text/plain": [
       "40"
      ]
     },
     "execution_count": 10,
     "metadata": {},
     "output_type": "execute_result"
    }
   ],
   "source": [
    "# split df in chunks for better handeling (and backing up after each chunk)\n",
    "list_of_dfs = np.array_split(GQuAD_chunk_data, 40) \n",
    "len(list_of_dfs)"
   ]
  },
  {
   "cell_type": "code",
   "execution_count": null,
   "id": "4873f4d2-c54e-4cae-993d-d6acbf52389e",
   "metadata": {},
   "outputs": [
    {
     "name": "stdout",
     "output_type": "stream",
     "text": [
      "results for 36651 could not be calculated\n"
     ]
    }
   ],
   "source": [
    "# iterate throug the dfs, calculate results, safe to file and log\n",
    "for i in range(len(list_of_dfs)):\n",
    "    try:\n",
    "        current_df_chunck = list_of_dfs[i]\n",
    "\n",
    "        first_index = current_df_chunck.index[0]\n",
    "        last_index = current_df_chunck.index[-1]\n",
    "\n",
    "        logging.info(f'Starting on new sub_chunk. The first index is: {first_index}')\n",
    "\n",
    "        # enhance df sub-chunk\n",
    "        df_sub_chunck_explained = enhance_data_frame(list_of_dfs[i])\n",
    "\n",
    "        # safe them to a file with the correct name (as a counter)\n",
    "        df_sub_chunck_explained.to_json(f'{dir_name}/{chunk_tag}_{i + 1}_von_{len(list_of_dfs)}_GermanQuAD_explained_lime.json')\n",
    "\n",
    "        # log the index of the last row of the df\n",
    "        logging.info(f'One sub_chunk has been finished and safed. The last index is: {last_index}')\n",
    "                     \n",
    "    except Exception as e:\n",
    "        logging.critical(e, exc_info=True)"
   ]
  },
  {
   "cell_type": "code",
   "execution_count": null,
   "id": "0a2e405d-0869-490a-b485-daa977c76a74",
   "metadata": {},
   "outputs": [],
   "source": []
  },
  {
   "cell_type": "code",
   "execution_count": null,
   "id": "b783a9d7-f7e7-4cc8-951c-6bf1660adb3c",
   "metadata": {},
   "outputs": [],
   "source": [
    "list_of_dfs[0]"
   ]
  }
 ],
 "metadata": {
  "kernelspec": {
   "display_name": "Python 3 (ipykernel)",
   "language": "python",
   "name": "python3"
  },
  "language_info": {
   "codemirror_mode": {
    "name": "ipython",
    "version": 3
   },
   "file_extension": ".py",
   "mimetype": "text/x-python",
   "name": "python",
   "nbconvert_exporter": "python",
   "pygments_lexer": "ipython3",
   "version": "3.9.12"
  }
 },
 "nbformat": 4,
 "nbformat_minor": 5
}
