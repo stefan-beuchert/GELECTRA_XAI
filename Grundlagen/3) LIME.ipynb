{
 "cells": [
  {
   "cell_type": "markdown",
   "id": "9cb385e3",
   "metadata": {},
   "source": [
    "# Simple LIME Test"
   ]
  },
  {
   "cell_type": "markdown",
   "id": "0e9aa0c4",
   "metadata": {},
   "source": [
    "This is a showcase to see if I can apply LIME to GELECTRA."
   ]
  },
  {
   "cell_type": "code",
   "execution_count": 1,
   "id": "d7ea5986-b54a-4f3a-ba39-dc7e5c6dc6b3",
   "metadata": {},
   "outputs": [
    {
     "name": "stdout",
     "output_type": "stream",
     "text": [
      "C:\\Users\\Stefan.Beuchert\\Desktop\\backup_from_kubectl\n"
     ]
    }
   ],
   "source": [
    "%cd .."
   ]
  },
  {
   "cell_type": "markdown",
   "id": "49d53e92",
   "metadata": {},
   "source": [
    "## Preparing the model"
   ]
  },
  {
   "cell_type": "code",
   "execution_count": 15,
   "id": "00288af2",
   "metadata": {},
   "outputs": [],
   "source": [
    "from src.model_wrapper import Model\n",
    "from src import explainer_lime\n",
    "import config\n",
    "\n",
    "import re"
   ]
  },
  {
   "cell_type": "code",
   "execution_count": 16,
   "id": "6c4985d7",
   "metadata": {},
   "outputs": [],
   "source": [
    "gelectra_model = Model(config.MODEL_NAME)"
   ]
  },
  {
   "cell_type": "markdown",
   "id": "361bf6ca",
   "metadata": {},
   "source": [
    "## Using LIME"
   ]
  },
  {
   "cell_type": "code",
   "execution_count": 5,
   "id": "e03e2fc3",
   "metadata": {},
   "outputs": [
    {
     "name": "stdout",
     "output_type": "stream",
     "text": [
      "Requirement already satisfied: lime in c:\\users\\stefan.beuchert\\anaconda3\\lib\\site-packages (0.2.0.1)\n",
      "Requirement already satisfied: scipy in c:\\users\\stefan.beuchert\\anaconda3\\lib\\site-packages (from lime) (1.7.3)\n",
      "Requirement already satisfied: tqdm in c:\\users\\stefan.beuchert\\anaconda3\\lib\\site-packages (from lime) (4.64.0)\n",
      "Requirement already satisfied: scikit-image>=0.12 in c:\\users\\stefan.beuchert\\anaconda3\\lib\\site-packages (from lime) (0.19.2)\n",
      "Requirement already satisfied: scikit-learn>=0.18 in c:\\users\\stefan.beuchert\\anaconda3\\lib\\site-packages (from lime) (1.0.2)\n",
      "Requirement already satisfied: numpy in c:\\users\\stefan.beuchert\\anaconda3\\lib\\site-packages (from lime) (1.21.5)\n",
      "Requirement already satisfied: matplotlib in c:\\users\\stefan.beuchert\\anaconda3\\lib\\site-packages (from lime) (3.5.1)\n",
      "Requirement already satisfied: networkx>=2.2 in c:\\users\\stefan.beuchert\\anaconda3\\lib\\site-packages (from scikit-image>=0.12->lime) (2.7.1)\n",
      "Requirement already satisfied: pillow!=7.1.0,!=7.1.1,!=8.3.0,>=6.1.0 in c:\\users\\stefan.beuchert\\anaconda3\\lib\\site-packages (from scikit-image>=0.12->lime) (9.0.1)\n",
      "Requirement already satisfied: tifffile>=2019.7.26 in c:\\users\\stefan.beuchert\\anaconda3\\lib\\site-packages (from scikit-image>=0.12->lime) (2021.7.2)\n",
      "Requirement already satisfied: imageio>=2.4.1 in c:\\users\\stefan.beuchert\\anaconda3\\lib\\site-packages (from scikit-image>=0.12->lime) (2.9.0)\n",
      "Requirement already satisfied: packaging>=20.0 in c:\\users\\stefan.beuchert\\anaconda3\\lib\\site-packages (from scikit-image>=0.12->lime) (21.3)\n",
      "Requirement already satisfied: PyWavelets>=1.1.1 in c:\\users\\stefan.beuchert\\anaconda3\\lib\\site-packages (from scikit-image>=0.12->lime) (1.3.0)\n",
      "Requirement already satisfied: pyparsing!=3.0.5,>=2.0.2 in c:\\users\\stefan.beuchert\\anaconda3\\lib\\site-packages (from packaging>=20.0->scikit-image>=0.12->lime) (3.0.4)\n",
      "Requirement already satisfied: threadpoolctl>=2.0.0 in c:\\users\\stefan.beuchert\\anaconda3\\lib\\site-packages (from scikit-learn>=0.18->lime) (2.2.0)\n",
      "Requirement already satisfied: joblib>=0.11 in c:\\users\\stefan.beuchert\\anaconda3\\lib\\site-packages (from scikit-learn>=0.18->lime) (1.1.0)\n",
      "Requirement already satisfied: python-dateutil>=2.7 in c:\\users\\stefan.beuchert\\anaconda3\\lib\\site-packages (from matplotlib->lime) (2.8.2)\n",
      "Requirement already satisfied: fonttools>=4.22.0 in c:\\users\\stefan.beuchert\\anaconda3\\lib\\site-packages (from matplotlib->lime) (4.25.0)\n",
      "Requirement already satisfied: cycler>=0.10 in c:\\users\\stefan.beuchert\\anaconda3\\lib\\site-packages (from matplotlib->lime) (0.11.0)\n",
      "Requirement already satisfied: kiwisolver>=1.0.1 in c:\\users\\stefan.beuchert\\anaconda3\\lib\\site-packages (from matplotlib->lime) (1.3.2)\n",
      "Requirement already satisfied: six>=1.5 in c:\\users\\stefan.beuchert\\anaconda3\\lib\\site-packages (from python-dateutil>=2.7->matplotlib->lime) (1.16.0)\n",
      "Requirement already satisfied: colorama in c:\\users\\stefan.beuchert\\anaconda3\\lib\\site-packages (from tqdm->lime) (0.4.4)\n"
     ]
    }
   ],
   "source": [
    "!pip install lime"
   ]
  },
  {
   "cell_type": "code",
   "execution_count": 7,
   "id": "442b4568",
   "metadata": {},
   "outputs": [],
   "source": [
    "# config\n",
    "test_context = \"Aufzugsanlage\\n\\n=== Seilloser Aufzug ===\\nAn der RWTH Aachen im Institut für Elektrische Maschinen wurde ein seilloser Aufzug entwickelt und ein Prototyp aufgebaut. Die Kabine wird hierbei durch zwei elektromagnetische Synchron-Linearmotoren angetrieben und somit nur durch ein vertikal bewegliches Magnetfeld gehalten bzw. bewegt. Diese Arbeit soll der Entwicklung von Aufzugsanlagen für sehr hohe Gebäude dienen. Ein Ziel ist der Einsatz mehrerer Kabinen pro Schacht, die sich unabhängig voneinander steuern lassen. Bei Auswahl des Fahrtziels vor Fahrtantritt (d. h. noch außerhalb des Aufzug) wird ein bestimmter Fahrkorb in einem der Aufzugsschächte für die Fahrt ausgewählt, mit der sich der geplante Transport am schnellsten durchführen lässt. Der Platzbedarf für die gesamte Aufzugsanlage könnte somit um ein oder mehrere Schächte reduziert werden. Da die Kabinen seillos betrieben werden, ist ein Schachtwechsel ebenfalls denkbar. Hiermit können weitere Betriebsstrategien für die seillose Aufzugsanlage entwickelt werden, zum Beispiel ein moderner Paternosteraufzug mit unabhängig voneinander beweglichen Kabinen.\\nIm Rahmen der Forschungen an dem seillosen Aufzug wird ebenfalls an der Entwicklung elektromagnetischer Linearführungen gearbeitet, um den Verschleiß der seillosen Aufzugsanlage bei hohem Fahrkomfort zu minimieren. Weltweit wird an verschiedenen Forschungseinrichtungen an seillosen Antriebslösungen für Aufzüge gearbeitet. Otis betreibt zu diesem Zweck seit 2007 den ''Shibayama Test Tower''. ThyssenKrupp Elevator weihte 2017 im süddeutschen Rottweil einen Testturm ein, in welchem die Technik des seillosen Aufzugs mit Synchron-Linearmotoren im Originalmaßstab getestet wird. Der erste Aufzug dieses Typs soll 2020 in Berlin in Betrieb gehen.\"\n",
    "test_question = \"Was kann den Verschleiß des seillosen Aufzuges minimieren?\"\n",
    "\n",
    "gelectra_model = gelectra_model\n",
    "explanation_req_class_names = [\"Start-Token\",\"End-Token\"]\n",
    "explanation_req_num_samples = 5\n",
    "explanation_req_num_features = 15\n",
    "question = test_question\n",
    "context = test_context"
   ]
  },
  {
   "cell_type": "code",
   "execution_count": 8,
   "id": "5f13918a",
   "metadata": {},
   "outputs": [],
   "source": [
    "lime_explainer = explainer_lime.Lime_Explanation(model=gelectra_model, \n",
    "                                                 class_names=explanation_req_class_names, \n",
    "                                                 num_samples=explanation_req_num_samples, \n",
    "                                                 num_features=explanation_req_num_features,  \n",
    "                                                 bow = False,\n",
    "                                                 random_state=0)"
   ]
  },
  {
   "cell_type": "code",
   "execution_count": null,
   "id": "13eead1e-9347-4439-8ba7-e68329fd023c",
   "metadata": {},
   "outputs": [],
   "source": []
  },
  {
   "cell_type": "code",
   "execution_count": null,
   "id": "d020ecb0-7c5d-436a-aec3-5864342df22c",
   "metadata": {},
   "outputs": [],
   "source": [
    "lime_input = question + \" \" +  context\n",
    "lime_explanation = lime_explainer.explain(lime_input)"
   ]
  },
  {
   "cell_type": "code",
   "execution_count": 14,
   "id": "524e131e-612a-4e0b-9124-154e9537d2d2",
   "metadata": {},
   "outputs": [
    {
     "data": {
      "text/plain": [
       "[(11, 0.036896672906057505),\n",
       " (19, 0.036896672906057505),\n",
       " (37, 0.036896672906057505),\n",
       " (75, 0.036896672906057505),\n",
       " (95, 0.036896672906057505),\n",
       " (121, 0.036896672906057505),\n",
       " (130, 0.036896672906057505),\n",
       " (139, 0.036896672906057505),\n",
       " (143, 0.036896672906057505),\n",
       " (187, 0.036896672906057505),\n",
       " (188, 0.036896672906057505),\n",
       " (50, 0.0359796743868835),\n",
       " (194, 0.0359796743868835),\n",
       " (127, 0.035332371541150175),\n",
       " (238, 0.035332371541150175)]"
      ]
     },
     "execution_count": 14,
     "metadata": {},
     "output_type": "execute_result"
    }
   ],
   "source": [
    "# tokens\n",
    "lime_tokens = re.split(lime_regex_for_token_creation, lime_input)\n",
    "\n",
    "# positions\n",
    "postion_ids = list(range(len(lime_tokens)))\n",
    "\n",
    "# start token weights\n",
    "lime_explanation.as_map()[0]\n",
    "\n",
    "# end token weights\n",
    "lime_explanation.as_map()[1]\n",
    "\n",
    "# POS tags\n",
    "\n",
    "# NER tags"
   ]
  },
  {
   "cell_type": "code",
   "execution_count": null,
   "id": "950aad1e-1905-4c5c-8d3e-e6b5ee502a8a",
   "metadata": {},
   "outputs": [],
   "source": []
  },
  {
   "cell_type": "code",
   "execution_count": 13,
   "id": "b79acc29-0d84-4157-971c-b3863a6578b1",
   "metadata": {},
   "outputs": [
    {
     "data": {
      "text/plain": [
       "[(11, 0.007027022012501566),\n",
       " (19, 0.007027022012501566),\n",
       " (37, 0.007027022012501566),\n",
       " (75, 0.007027022012501566),\n",
       " (95, 0.007027022012501566),\n",
       " (121, 0.007027022012501566),\n",
       " (130, 0.007027022012501566),\n",
       " (139, 0.007027022012501566),\n",
       " (143, 0.007027022012501566),\n",
       " (187, 0.007027022012501566),\n",
       " (188, 0.007027022012501566),\n",
       " (50, 0.006569602161698861),\n",
       " (194, 0.006569602161698861),\n",
       " (127, 0.0064770531463386695),\n",
       " (238, 0.0064770531463386695)]"
      ]
     },
     "execution_count": 13,
     "metadata": {},
     "output_type": "execute_result"
    }
   ],
   "source": [
    "list_pos_for_list_of_words = nltk.tag.pos_tag(data_df['word'].tolist())\n"
   ]
  },
  {
   "cell_type": "code",
   "execution_count": null,
   "id": "d824f379-eb4d-484f-8acd-08eae5ca218c",
   "metadata": {},
   "outputs": [],
   "source": [
    "tokens_with_position_ids = list(zip(postion_ids, lime_tokens))\n",
    "tokens_with_position_ids"
   ]
  },
  {
   "cell_type": "code",
   "execution_count": null,
   "id": "732f9261-7140-4cb8-8a5d-8c6d3c260f33",
   "metadata": {},
   "outputs": [],
   "source": [
    "a.available_labels()\n",
    "a.as_list()\n",
    " # test\n",
    "#a.as_pyplot_figure()"
   ]
  },
  {
   "cell_type": "code",
   "execution_count": null,
   "id": "35d951a0-0602-465f-b640-880a11fab8d5",
   "metadata": {},
   "outputs": [],
   "source": []
  },
  {
   "cell_type": "code",
   "execution_count": null,
   "id": "9be92117-422a-4e32-9435-bf5568d46c30",
   "metadata": {},
   "outputs": [],
   "source": []
  },
  {
   "cell_type": "code",
   "execution_count": null,
   "id": "a3337803-bc8f-4ad2-80f9-e4c70332f0aa",
   "metadata": {},
   "outputs": [],
   "source": []
  },
  {
   "cell_type": "code",
   "execution_count": null,
   "id": "414fdc22-ac0d-4d8f-9062-4cca99de94b4",
   "metadata": {},
   "outputs": [],
   "source": [
    "a.as_list()"
   ]
  },
  {
   "cell_type": "code",
   "execution_count": null,
   "id": "a6f2b69e-c0c4-4071-8471-95ba006b6e73",
   "metadata": {},
   "outputs": [],
   "source": [
    "a.local_pred"
   ]
  },
  {
   "cell_type": "code",
   "execution_count": null,
   "id": "b14d6206-083b-4460-9927-fda061314a98",
   "metadata": {},
   "outputs": [],
   "source": [
    "a.predict_proba"
   ]
  },
  {
   "cell_type": "code",
   "execution_count": null,
   "id": "e98b50b5-51d8-430d-a98e-a58cc6ed8d64",
   "metadata": {},
   "outputs": [],
   "source": [
    "a.available_labels()"
   ]
  },
  {
   "cell_type": "code",
   "execution_count": null,
   "id": "8821ccd6-f39f-4e9a-b25e-d896d48f30b0",
   "metadata": {},
   "outputs": [],
   "source": [
    "a.show_in_notebook()"
   ]
  },
  {
   "cell_type": "code",
   "execution_count": null,
   "id": "fc952cac-c50f-40de-baa9-c1275427bf24",
   "metadata": {},
   "outputs": [],
   "source": []
  },
  {
   "cell_type": "code",
   "execution_count": null,
   "id": "a4a3bf9e-6fb9-4fa8-8ae7-aa0de1c1068d",
   "metadata": {},
   "outputs": [],
   "source": []
  }
 ],
 "metadata": {
  "kernelspec": {
   "display_name": "Python 3 (ipykernel)",
   "language": "python",
   "name": "python3"
  },
  "language_info": {
   "codemirror_mode": {
    "name": "ipython",
    "version": 3
   },
   "file_extension": ".py",
   "mimetype": "text/x-python",
   "name": "python",
   "nbconvert_exporter": "python",
   "pygments_lexer": "ipython3",
   "version": "3.9.12"
  }
 },
 "nbformat": 4,
 "nbformat_minor": 5
}
