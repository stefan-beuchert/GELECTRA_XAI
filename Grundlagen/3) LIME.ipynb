{
 "cells": [
  {
   "cell_type": "markdown",
   "id": "9cb385e3",
   "metadata": {},
   "source": [
    "# Simple LIME Test"
   ]
  },
  {
   "cell_type": "markdown",
   "id": "0e9aa0c4",
   "metadata": {},
   "source": [
    "This is a showcase to see if I can apply LIME to GELECTRA."
   ]
  },
  {
   "cell_type": "code",
   "execution_count": 2,
   "id": "d7ea5986-b54a-4f3a-ba39-dc7e5c6dc6b3",
   "metadata": {},
   "outputs": [
    {
     "name": "stdout",
     "output_type": "stream",
     "text": [
      "/home/jupyter-stefan.beuchert/2022-11-26_version\n"
     ]
    }
   ],
   "source": [
    "%cd .."
   ]
  },
  {
   "cell_type": "markdown",
   "id": "49d53e92",
   "metadata": {},
   "source": [
    "## Preparing the model"
   ]
  },
  {
   "cell_type": "code",
   "execution_count": 3,
   "id": "00288af2",
   "metadata": {},
   "outputs": [],
   "source": [
    "from src.model_wrapper import Model\n",
    "from src import explainer_lime\n",
    "import config\n",
    "\n",
    "import re"
   ]
  },
  {
   "cell_type": "code",
   "execution_count": 4,
   "id": "6c4985d7",
   "metadata": {},
   "outputs": [],
   "source": [
    "gelectra_model = Model(config.GELECTRA_MODEL_NAME)"
   ]
  },
  {
   "cell_type": "markdown",
   "id": "361bf6ca",
   "metadata": {},
   "source": [
    "## Using LIME"
   ]
  },
  {
   "cell_type": "code",
   "execution_count": 5,
   "id": "e03e2fc3",
   "metadata": {},
   "outputs": [
    {
     "name": "stdout",
     "output_type": "stream",
     "text": [
      "Defaulting to user installation because normal site-packages is not writeable\n",
      "Requirement already satisfied: lime in /home/jupyter-stefan.beuchert/.local/lib/python3.9/site-packages (0.2.0.1)\n",
      "Requirement already satisfied: tqdm in /opt/tljh/user/lib/python3.9/site-packages (from lime) (4.62.3)\n",
      "Requirement already satisfied: matplotlib in /home/jupyter-stefan.beuchert/.local/lib/python3.9/site-packages (from lime) (3.6.2)\n",
      "Requirement already satisfied: scipy in /home/jupyter-stefan.beuchert/.local/lib/python3.9/site-packages (from lime) (1.9.3)\n",
      "Requirement already satisfied: scikit-image>=0.12 in /home/jupyter-stefan.beuchert/.local/lib/python3.9/site-packages (from lime) (0.19.3)\n",
      "Requirement already satisfied: scikit-learn>=0.18 in /home/jupyter-stefan.beuchert/.local/lib/python3.9/site-packages (from lime) (1.1.3)\n",
      "Requirement already satisfied: numpy in /opt/tljh/user/lib/python3.9/site-packages (from lime) (1.21.4)\n",
      "Requirement already satisfied: PyWavelets>=1.1.1 in /home/jupyter-stefan.beuchert/.local/lib/python3.9/site-packages (from scikit-image>=0.12->lime) (1.4.1)\n",
      "Requirement already satisfied: packaging>=20.0 in /opt/tljh/user/lib/python3.9/site-packages (from scikit-image>=0.12->lime) (21.3)\n",
      "Requirement already satisfied: networkx>=2.2 in /home/jupyter-stefan.beuchert/.local/lib/python3.9/site-packages (from scikit-image>=0.12->lime) (2.8.8)\n",
      "Requirement already satisfied: imageio>=2.4.1 in /home/jupyter-stefan.beuchert/.local/lib/python3.9/site-packages (from scikit-image>=0.12->lime) (2.22.3)\n",
      "Requirement already satisfied: tifffile>=2019.7.26 in /home/jupyter-stefan.beuchert/.local/lib/python3.9/site-packages (from scikit-image>=0.12->lime) (2022.10.10)\n",
      "Requirement already satisfied: pillow!=7.1.0,!=7.1.1,!=8.3.0,>=6.1.0 in /home/jupyter-stefan.beuchert/.local/lib/python3.9/site-packages (from scikit-image>=0.12->lime) (9.3.0)\n",
      "Requirement already satisfied: joblib>=1.0.0 in /home/jupyter-stefan.beuchert/.local/lib/python3.9/site-packages (from scikit-learn>=0.18->lime) (1.2.0)\n",
      "Requirement already satisfied: threadpoolctl>=2.0.0 in /home/jupyter-stefan.beuchert/.local/lib/python3.9/site-packages (from scikit-learn>=0.18->lime) (3.1.0)\n",
      "Requirement already satisfied: cycler>=0.10 in /home/jupyter-stefan.beuchert/.local/lib/python3.9/site-packages (from matplotlib->lime) (0.11.0)\n",
      "Requirement already satisfied: pyparsing>=2.2.1 in /opt/tljh/user/lib/python3.9/site-packages (from matplotlib->lime) (3.0.6)\n",
      "Requirement already satisfied: kiwisolver>=1.0.1 in /home/jupyter-stefan.beuchert/.local/lib/python3.9/site-packages (from matplotlib->lime) (1.4.4)\n",
      "Requirement already satisfied: contourpy>=1.0.1 in /home/jupyter-stefan.beuchert/.local/lib/python3.9/site-packages (from matplotlib->lime) (1.0.6)\n",
      "Requirement already satisfied: fonttools>=4.22.0 in /home/jupyter-stefan.beuchert/.local/lib/python3.9/site-packages (from matplotlib->lime) (4.38.0)\n",
      "Requirement already satisfied: python-dateutil>=2.7 in /opt/tljh/user/lib/python3.9/site-packages (from matplotlib->lime) (2.8.2)\n",
      "Requirement already satisfied: six>=1.5 in /opt/tljh/user/lib/python3.9/site-packages (from python-dateutil>=2.7->matplotlib->lime) (1.16.0)\n"
     ]
    }
   ],
   "source": [
    "!pip install lime"
   ]
  },
  {
   "cell_type": "code",
   "execution_count": 6,
   "id": "442b4568",
   "metadata": {},
   "outputs": [],
   "source": [
    "# config\n",
    "test_context = \"Aufzugsanlage\\n\\n=== Seilloser Aufzug ===\\nAn der RWTH Aachen im Institut für Elektrische Maschinen wurde ein seilloser Aufzug entwickelt und ein Prototyp aufgebaut. Die Kabine wird hierbei durch zwei elektromagnetische Synchron-Linearmotoren angetrieben und somit nur durch ein vertikal bewegliches Magnetfeld gehalten bzw. bewegt. Diese Arbeit soll der Entwicklung von Aufzugsanlagen für sehr hohe Gebäude dienen. Ein Ziel ist der Einsatz mehrerer Kabinen pro Schacht, die sich unabhängig voneinander steuern lassen. Bei Auswahl des Fahrtziels vor Fahrtantritt (d. h. noch außerhalb des Aufzug) wird ein bestimmter Fahrkorb in einem der Aufzugsschächte für die Fahrt ausgewählt, mit der sich der geplante Transport am schnellsten durchführen lässt. Der Platzbedarf für die gesamte Aufzugsanlage könnte somit um ein oder mehrere Schächte reduziert werden. Da die Kabinen seillos betrieben werden, ist ein Schachtwechsel ebenfalls denkbar. Hiermit können weitere Betriebsstrategien für die seillose Aufzugsanlage entwickelt werden, zum Beispiel ein moderner Paternosteraufzug mit unabhängig voneinander beweglichen Kabinen.\\nIm Rahmen der Forschungen an dem seillosen Aufzug wird ebenfalls an der Entwicklung elektromagnetischer Linearführungen gearbeitet, um den Verschleiß der seillosen Aufzugsanlage bei hohem Fahrkomfort zu minimieren. Weltweit wird an verschiedenen Forschungseinrichtungen an seillosen Antriebslösungen für Aufzüge gearbeitet. Otis betreibt zu diesem Zweck seit 2007 den ''Shibayama Test Tower''. ThyssenKrupp Elevator weihte 2017 im süddeutschen Rottweil einen Testturm ein, in welchem die Technik des seillosen Aufzugs mit Synchron-Linearmotoren im Originalmaßstab getestet wird. Der erste Aufzug dieses Typs soll 2020 in Berlin in Betrieb gehen.\"\n",
    "test_question = \"Was kann den Verschleiß des seillosen Aufzuges minimieren?\"\n",
    "\n",
    "gelectra_model = gelectra_model\n",
    "explanation_req_class_names = [\"Start-Token\",\"End-Token\"]\n",
    "explanation_req_num_samples = 5000\n",
    "explanation_req_num_features = 10\n",
    "question = test_question\n",
    "context = test_context"
   ]
  },
  {
   "cell_type": "code",
   "execution_count": 7,
   "id": "5f13918a",
   "metadata": {},
   "outputs": [],
   "source": [
    "lime_explainer = explainer_lime.Lime_Explanation(model=gelectra_model, \n",
    "                                                 class_names=explanation_req_class_names, \n",
    "                                                 num_samples=explanation_req_num_samples, \n",
    "                                                 num_features=explanation_req_num_features,  \n",
    "                                                 bow = False,\n",
    "                                                 random_state=0)"
   ]
  },
  {
   "cell_type": "code",
   "execution_count": 8,
   "id": "d020ecb0-7c5d-436a-aec3-5864342df22c",
   "metadata": {},
   "outputs": [],
   "source": [
    "lime_input = question + \" \" +  context\n",
    "lime_explanation = lime_explainer.explain(lime_input)"
   ]
  },
  {
   "cell_type": "markdown",
   "id": "601c3ceb",
   "metadata": {},
   "source": [
    "# Für die Präsi am 07.12.2022"
   ]
  },
  {
   "cell_type": "code",
   "execution_count": 9,
   "id": "e53c04c9",
   "metadata": {},
   "outputs": [
    {
     "name": "stdout",
     "output_type": "stream",
     "text": [
      "Was kann den Verschleiß des seillosen Aufzuges minimieren?\n"
     ]
    }
   ],
   "source": [
    "# question\n",
    "print(question)"
   ]
  },
  {
   "cell_type": "code",
   "execution_count": 10,
   "id": "c0b352cd",
   "metadata": {},
   "outputs": [
    {
     "name": "stdout",
     "output_type": "stream",
     "text": [
      "Aufzugsanlage\n",
      "\n",
      "=== Seilloser Aufzug ===\n",
      "An der RWTH Aachen im Institut für Elektrische Maschinen wurde ein seilloser Aufzug entwickelt und ein Prototyp aufgebaut. Die Kabine wird hierbei durch zwei elektromagnetische Synchron-Linearmotoren angetrieben und somit nur durch ein vertikal bewegliches Magnetfeld gehalten bzw. bewegt. Diese Arbeit soll der Entwicklung von Aufzugsanlagen für sehr hohe Gebäude dienen. Ein Ziel ist der Einsatz mehrerer Kabinen pro Schacht, die sich unabhängig voneinander steuern lassen. Bei Auswahl des Fahrtziels vor Fahrtantritt (d. h. noch außerhalb des Aufzug) wird ein bestimmter Fahrkorb in einem der Aufzugsschächte für die Fahrt ausgewählt, mit der sich der geplante Transport am schnellsten durchführen lässt. Der Platzbedarf für die gesamte Aufzugsanlage könnte somit um ein oder mehrere Schächte reduziert werden. Da die Kabinen seillos betrieben werden, ist ein Schachtwechsel ebenfalls denkbar. Hiermit können weitere Betriebsstrategien für die seillose Aufzugsanlage entwickelt werden, zum Beispiel ein moderner Paternosteraufzug mit unabhängig voneinander beweglichen Kabinen.\n",
      "Im Rahmen der Forschungen an dem seillosen Aufzug wird ebenfalls an der Entwicklung elektromagnetischer Linearführungen gearbeitet, um den Verschleiß der seillosen Aufzugsanlage bei hohem Fahrkomfort zu minimieren. Weltweit wird an verschiedenen Forschungseinrichtungen an seillosen Antriebslösungen für Aufzüge gearbeitet. Otis betreibt zu diesem Zweck seit 2007 den ''Shibayama Test Tower''. ThyssenKrupp Elevator weihte 2017 im süddeutschen Rottweil einen Testturm ein, in welchem die Technik des seillosen Aufzugs mit Synchron-Linearmotoren im Originalmaßstab getestet wird. Der erste Aufzug dieses Typs soll 2020 in Berlin in Betrieb gehen.\n"
     ]
    }
   ],
   "source": [
    "# context\n",
    "print(context)"
   ]
  },
  {
   "cell_type": "code",
   "execution_count": 11,
   "id": "f5919a32",
   "metadata": {},
   "outputs": [
    {
     "name": "stdout",
     "output_type": "stream",
     "text": [
      "Entwicklung elektromagnetischer Linearführungen\n"
     ]
    }
   ],
   "source": [
    "# model prediction\n",
    "model_output = gelectra_model.predict(question,context)\n",
    "answer = gelectra_model.get_predicted_tokens(model_output[0],model_output[1])\n",
    "answer_string = gelectra_model.get_answer_string(model_output[0],model_output[1])\n",
    "\n",
    "print(answer_string)"
   ]
  },
  {
   "cell_type": "code",
   "execution_count": 12,
   "id": "06dbe55d",
   "metadata": {},
   "outputs": [],
   "source": [
    "%%capture cap\n",
    "lime_explanation.show_in_notebook()"
   ]
  },
  {
   "cell_type": "code",
   "execution_count": 13,
   "id": "1ef2aecf",
   "metadata": {},
   "outputs": [],
   "source": [
    "with open('output.png', 'w') as f:\n",
    "    f.write(cap.stdout)"
   ]
  },
  {
   "cell_type": "code",
   "execution_count": 14,
   "id": "fef53ddc",
   "metadata": {},
   "outputs": [
    {
     "ename": "NameError",
     "evalue": "name 'b' is not defined",
     "output_type": "error",
     "traceback": [
      "\u001b[0;31m---------------------------------------------------------------------------\u001b[0m",
      "\u001b[0;31mNameError\u001b[0m                                 Traceback (most recent call last)",
      "\u001b[0;32m/tmp/ipykernel_206915/3924377779.py\u001b[0m in \u001b[0;36m<module>\u001b[0;34m\u001b[0m\n\u001b[1;32m      1\u001b[0m \u001b[0;31m# lime explanation\u001b[0m\u001b[0;34m\u001b[0m\u001b[0;34m\u001b[0m\u001b[0m\n\u001b[0;32m----> 2\u001b[0;31m \u001b[0mtype\u001b[0m\u001b[0;34m(\u001b[0m\u001b[0mb\u001b[0m\u001b[0;34m)\u001b[0m\u001b[0;34m\u001b[0m\u001b[0;34m\u001b[0m\u001b[0m\n\u001b[0m",
      "\u001b[0;31mNameError\u001b[0m: name 'b' is not defined"
     ]
    }
   ],
   "source": [
    "# lime explanation\n",
    "type(b)"
   ]
  },
  {
   "cell_type": "code",
   "execution_count": null,
   "id": "7757d48f",
   "metadata": {},
   "outputs": [],
   "source": [
    "lime_explanation.as_pyplot_figure()"
   ]
  },
  {
   "cell_type": "code",
   "execution_count": null,
   "id": "287bcd92",
   "metadata": {},
   "outputs": [],
   "source": [
    "lime_explanation.as_html()"
   ]
  },
  {
   "cell_type": "code",
   "execution_count": 28,
   "id": "56940b6b",
   "metadata": {},
   "outputs": [],
   "source": [
    "lime_explanation.save_to_file('lime.html')"
   ]
  },
  {
   "cell_type": "code",
   "execution_count": null,
   "id": "920be280",
   "metadata": {},
   "outputs": [],
   "source": []
  }
 ],
 "metadata": {
  "kernelspec": {
   "display_name": "Python 3 (ipykernel)",
   "language": "python",
   "name": "python3"
  },
  "language_info": {
   "codemirror_mode": {
    "name": "ipython",
    "version": 3
   },
   "file_extension": ".py",
   "mimetype": "text/x-python",
   "name": "python",
   "nbconvert_exporter": "python",
   "pygments_lexer": "ipython3",
   "version": "3.9.7"
  }
 },
 "nbformat": 4,
 "nbformat_minor": 5
}
