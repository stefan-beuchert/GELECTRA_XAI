{
 "cells": [
  {
   "cell_type": "code",
   "execution_count": 1,
   "id": "8fd17e25-df69-4f00-b8c1-bccd20a04225",
   "metadata": {},
   "outputs": [],
   "source": [
    "# get data\n",
    "\n",
    "# get pos and ner\n",
    "\n",
    "# make pred with lime\n",
    "\n",
    "# reduce pos and ner to lime features"
   ]
  },
  {
   "cell_type": "code",
   "execution_count": 2,
   "id": "edd54e49-f083-48ed-857f-6143f931499d",
   "metadata": {},
   "outputs": [
    {
     "name": "stdout",
     "output_type": "stream",
     "text": [
      "C:\\Users\\Stefan.Beuchert\\Desktop\\backup_from_kubectl\n"
     ]
    }
   ],
   "source": [
    "%cd ..\n",
    "from src.model_wrapper import Model\n",
    "from src.explainer_lime import Lime_Explanation"
   ]
  },
  {
   "cell_type": "code",
   "execution_count": 3,
   "id": "470e37de-87ef-47e0-bdc1-b356a4220734",
   "metadata": {},
   "outputs": [],
   "source": [
    "import pandas as pd\n",
    "#pd.options.mode.chained_assignment = None\n",
    "#import numpy as np\n",
    "#import os\n",
    "#import logging"
   ]
  },
  {
   "cell_type": "code",
   "execution_count": 40,
   "id": "4285deed-6735-48dd-80d9-714c299a354b",
   "metadata": {},
   "outputs": [],
   "source": [
    "# config\n",
    "chunk_tag = 'A' # the possible chunks are A, B, C, D, E with 2700 rows each\n",
    "target_path_for_combined_data = f'./data/GermanQuAD_raw_combined/GermanQuAD_raw_combined_{chunk_tag}.json'\n",
    "model_name = 'deepset/gelectra-base-germanquad'\n",
    "\n",
    "number_of_features = 10 # the default value\n",
    "number_of_samples = 5000 # the default value"
   ]
  },
  {
   "cell_type": "code",
   "execution_count": 41,
   "id": "efab3e17-cb3c-45d9-a4d5-cd68f67be98d",
   "metadata": {},
   "outputs": [
    {
     "data": {
      "text/html": [
       "<div>\n",
       "<style scoped>\n",
       "    .dataframe tbody tr th:only-of-type {\n",
       "        vertical-align: middle;\n",
       "    }\n",
       "\n",
       "    .dataframe tbody tr th {\n",
       "        vertical-align: top;\n",
       "    }\n",
       "\n",
       "    .dataframe thead th {\n",
       "        text-align: right;\n",
       "    }\n",
       "</style>\n",
       "<table border=\"1\" class=\"dataframe\">\n",
       "  <thead>\n",
       "    <tr style=\"text-align: right;\">\n",
       "      <th></th>\n",
       "      <th>question_id</th>\n",
       "      <th>question</th>\n",
       "      <th>answers</th>\n",
       "      <th>context</th>\n",
       "      <th>document_id</th>\n",
       "      <th>is_impossible</th>\n",
       "      <th>usage</th>\n",
       "    </tr>\n",
       "  </thead>\n",
       "  <tbody>\n",
       "    <tr>\n",
       "      <th>0</th>\n",
       "      <td>67118</td>\n",
       "      <td>Warum sind höhere Temperaturen für die Bildung...</td>\n",
       "      <td>[{'answer_id': 72940, 'document_id': 73863, 'q...</td>\n",
       "      <td>Gletscher\\n\\n=== Akkumulation und Metamorphose...</td>\n",
       "      <td>73863</td>\n",
       "      <td>False</td>\n",
       "      <td>train</td>\n",
       "    </tr>\n",
       "  </tbody>\n",
       "</table>\n",
       "</div>"
      ],
      "text/plain": [
       "   question_id                                           question  \\\n",
       "0        67118  Warum sind höhere Temperaturen für die Bildung...   \n",
       "\n",
       "                                             answers  \\\n",
       "0  [{'answer_id': 72940, 'document_id': 73863, 'q...   \n",
       "\n",
       "                                             context  document_id  \\\n",
       "0  Gletscher\\n\\n=== Akkumulation und Metamorphose...        73863   \n",
       "\n",
       "   is_impossible  usage  \n",
       "0          False  train  "
      ]
     },
     "execution_count": 41,
     "metadata": {},
     "output_type": "execute_result"
    }
   ],
   "source": [
    "# get raw data combined in one dataframe (test + train)\n",
    "GQuAD_chunk_data = pd.read_json(target_path_for_combined_data)\n",
    "GQuAD_chunk_data = GQuAD_chunk_data.head(1)\n",
    "GQuAD_chunk_data"
   ]
  },
  {
   "cell_type": "code",
   "execution_count": 42,
   "id": "5027195a-7304-4702-8a91-ceb278535d3f",
   "metadata": {},
   "outputs": [],
   "source": [
    "# get important instances\n",
    "GELECTRA_MODEL = Model(model_name)"
   ]
  },
  {
   "cell_type": "code",
   "execution_count": 43,
   "id": "97633cbd-f93b-4240-95ed-cb319de88b83",
   "metadata": {},
   "outputs": [],
   "source": [
    "q = GQuAD_chunk_data.at[0, 'question']\n",
    "c = GQuAD_chunk_data.at[0, 'context']\n",
    "\n",
    "output, all_tokens, encoding = GELECTRA_MODEL.predict(q, c)"
   ]
  },
  {
   "cell_type": "code",
   "execution_count": 44,
   "id": "6d661cc2-03ea-4341-a17b-bebc4f3f4f5d",
   "metadata": {},
   "outputs": [
    {
     "data": {
      "text/plain": [
       "[('Zum', 0.808849573135376),\n",
       " ('.', 0.462344229221344),\n",
       " (\"['Zum', 'einen', 'bilden', 'sich', 'in', 'wär', '##mere', '##n', '(', 'tem', '##per', '##ierten', ')', 'Gletscher', '##n', 'in', 'der', 'Regel', 'kleinere', 'Eis', '##kr', '##ista', '##lle', ',', 'wodurch', 'hier', 'und', 'auch', 'in', 'den', 'Vor', '##stufen', 'des', 'Eis', '##es', 'wie', 'Fir', '##n', 'und', 'gra', '##nu', '##lar', '##em', 'Eis', '(', 'in', 'mancher', 'Literatur', 'auch', 'Fir', '##nei', '##s', 'genannt', ')', 'eine', 'Bewegung', 'möglich', 'ist', ',', 'bei', 'der', 'leichter', 'Luft', 'frei', '##gesetzt', 'werden', 'kann', '.', 'Darüber', 'hinaus', 'kann', 'auch', 'ober', '##fläch', '##liches', 'Material', 'aufs', '##ch', '##melzen', 'und', 'erneut', 'gefr', '##ieren', ',', 'ohne', 'den', 'Gletscher', 'zu', 'verlassen', '.', 'So', 'kann', 'zumindest', 'in', 'kleineren', 'Mengen', 'sogar', 'im', 'Tages', '##zyklus', 'eine', 'Verwand', '##lung', 'von', 'Schnee', 'in', 'Eis', 'stattfinden', ',', 'ohne', 'dass', 'die', 'bei', 'der', 'Druck', '##met', '##amo', '##rp', '##hose', 'üblichen', 'Zwischen', '##stufen', 'durch', '##laufen', 'werden', '.']\",\n",
       "  0.3739669324472885)]"
      ]
     },
     "execution_count": 44,
     "metadata": {},
     "output_type": "execute_result"
    }
   ],
   "source": [
    "answer = GELECTRA_MODEL.get_predicted_tokens(output, all_tokens)\n",
    "answer"
   ]
  },
  {
   "cell_type": "code",
   "execution_count": 45,
   "id": "c8ffed0d-ad20-4eac-939c-4c55d5feef8d",
   "metadata": {},
   "outputs": [
    {
     "data": {
      "text/plain": [
       "'Zum einen bilden sich in wärmeren ( temperierten ) Gletschern in der Regel kleinere Eiskristalle, wodurch hier und auch in den Vorstufen des Eises wie Firn und granularem Eis ( in mancher Literatur auch Firneis genannt ) eine Bewegung möglich ist, bei der leichter Luft freigesetzt werden kann. Darüber hinaus kann auch oberflächliches Material aufschmelzen und erneut gefrieren, ohne den Gletscher zu verlassen. So kann zumindest in kleineren Mengen sogar im Tageszyklus eine Verwandlung von Schnee in Eis stattfinden, ohne dass die bei der Druckmetamorphose üblichen Zwischenstufen durchlaufen werden.'"
      ]
     },
     "execution_count": 45,
     "metadata": {},
     "output_type": "execute_result"
    }
   ],
   "source": [
    "answer_string = GELECTRA_MODEL.get_answer_string(output, all_tokens)\n",
    "answer_string"
   ]
  },
  {
   "cell_type": "code",
   "execution_count": 46,
   "id": "068602e5-de3c-4388-bade-7f4c09abefca",
   "metadata": {},
   "outputs": [
    {
     "data": {
      "text/plain": [
       "tensor([[-0.4111, -5.7883, -6.0279, -5.9497, -6.5005, -6.1438, -6.2551, -6.1799,\n",
       "         -6.4551, -6.5137, -6.2048, -6.6743, -6.4466, -0.4111, -6.2217, -6.2402,\n",
       "         -6.4177, -6.5605, -5.9955, -6.2413, -6.5037, -6.3010, -5.9604, -6.2322,\n",
       "         -6.3260, -6.5193, -6.0466, -6.3931, -6.2979, -4.8877, -6.0402, -6.2898,\n",
       "         -5.8971, -6.3335, -6.3958, -6.3488, -6.7794, -6.1110, -5.5385, -6.2029,\n",
       "         -6.5835, -6.6768, -6.3447, -5.8310, -6.3918, -5.7715, -6.0136, -6.3034,\n",
       "         -6.3847, -6.3348, -6.3613, -6.4674, -6.7661, -6.3734, -5.7974, -6.2122,\n",
       "         -6.3809, -6.4090, -6.4917, -6.7563, -6.3032, -5.9464, -6.4755, -6.4755,\n",
       "         -6.6538, -5.5082, -0.1149, -4.6661, -5.3820, -5.9086, -6.1481, -6.2814,\n",
       "         -5.6483, -5.0435, -5.1040, -5.9499, -5.5832, -6.2759, -6.0619, -6.2011,\n",
       "         -5.8007, -5.8081, -6.3415, -6.4413, -6.0964, -6.2828, -6.4647, -6.4872,\n",
       "         -6.2516, -5.4938, -5.8271, -5.6480, -6.0487, -6.0882, -6.3945, -6.3310,\n",
       "         -6.3711, -6.7242, -5.9318, -6.3875, -5.9559, -6.4468, -4.9704, -2.1797,\n",
       "         -4.9322, -4.5431, -5.5453, -4.5550, -5.7381, -6.0114, -5.2630, -5.8370,\n",
       "         -5.9375, -6.2540, -6.2742, -5.3206, -5.5424, -5.6089, -6.2013, -6.4258,\n",
       "         -5.8677, -5.7907, -6.1902, -6.2225, -6.2398, -6.3392, -6.3281, -6.4077,\n",
       "         -6.0220, -5.5026, -5.8146, -6.3532, -5.9887, -6.1965, -6.1953, -5.7605,\n",
       "         -5.9660, -6.3354, -6.5064, -3.9969, -2.1044, -4.4168, -5.5453, -4.2472,\n",
       "         -4.5052, -4.7352, -5.1697, -5.9055, -4.8892, -5.4696, -5.4158, -5.6620,\n",
       "         -6.3029, -5.0933, -3.7122, -1.1798, -4.7571, -5.3322, -5.2701, -5.1682,\n",
       "         -5.4969, -6.2083, -4.5329, -4.5246, -5.1031, -5.8148, -6.1755, -6.5384,\n",
       "         -5.8501, -5.8372, -6.0459, -5.8203, -6.1652, -6.4512, -5.5589, -1.8891,\n",
       "          2.1162, -3.9079, -2.9016, -0.2880, -2.6905, -3.9962, -5.4615, -5.6620,\n",
       "         -5.0690, -0.3763, -0.1485, -2.0062, -4.6219, -2.9962,  0.2849,  5.2590,\n",
       "         -0.8722,  2.9884, -2.5132, -1.5159, -2.5294, -4.9833, -6.0807, -4.9614,\n",
       "         -3.5746, -5.6538, -5.8081, -3.7466, -3.8437, -3.8820, -0.3544, -3.9044,\n",
       "         -4.0435, -3.2706, -4.8561, -5.1001, -5.2953, -4.1425, -3.7865,  1.4949,\n",
       "         -2.6839, -5.1025, -4.6425, -4.2736, -5.8355, -5.2097, -5.7885, -5.3969,\n",
       "         -5.7382, -6.2908, -5.6520, -5.4286, -6.3424, -5.8472, -5.5831, -5.9605,\n",
       "         -6.2051, -5.8948, -4.3303, -4.8129, -1.6766, -5.6841, -5.6461, -5.4406,\n",
       "         -5.1374, -6.1106, -5.8268, -6.5388, -4.5577, -1.9932, -3.6119, -4.1041,\n",
       "         -4.5537, -4.6561, -1.9818, -4.1538, -3.0855, -4.8724, -5.0682, -5.7015,\n",
       "         -5.7245, -4.1313, -3.1566, -1.3631, -4.9619, -3.2211, -4.6637, -4.9863,\n",
       "         -6.0154, -5.8791, -6.0559, -5.5089, -5.8017, -6.0982, -5.9037, -5.8295,\n",
       "         -5.9688, -6.1581, -5.8952, -5.0859, -5.9542, -6.1444, -5.9367, -5.0520,\n",
       "         -1.6367, -0.4347, -3.4397, -4.1745, -5.1876, -5.8585, -6.4248, -5.8934,\n",
       "         -5.4547, -5.7129, -6.2510, -5.3009, -5.6394, -5.9673, -5.8683, -5.9880,\n",
       "         -5.8556, -6.2916, -5.1931, -5.8852, -4.7049, -5.7193, -5.7973, -5.6058,\n",
       "         -6.1782, -5.8252, -6.1411, -6.1464, -6.1559, -6.3839, -6.1874, -5.8290,\n",
       "         -6.4424, -6.0653, -6.3084, -5.8294, -1.3490, -1.1849, -4.9947, -4.7146,\n",
       "         -6.2092, -5.9628, -6.3400, -6.5061, -5.5049, -5.9952, -6.1815, -6.0175,\n",
       "         -5.5765, -6.0450, -5.9882, -6.2575, -6.1849, -6.4885, -6.6764, -6.1018,\n",
       "         -5.3711, -4.5015, -6.1188, -6.2472, -6.1775, -5.6516, -6.2621, -5.6045,\n",
       "         -5.8462, -6.1058, -5.8924, -5.8009, -6.0006, -5.9893, -6.3721, -6.2075,\n",
       "         -6.5395, -6.6604, -6.1894, -5.9560, -4.9606, -4.8258, -5.6684, -5.8868,\n",
       "         -5.6309, -5.8124, -6.2942, -6.1230, -5.2678, -5.6880, -4.1871, -0.4111]],\n",
       "       grad_fn=<CloneBackward0>)"
      ]
     },
     "execution_count": 46,
     "metadata": {},
     "output_type": "execute_result"
    }
   ],
   "source": [
    "output.start_logits"
   ]
  },
  {
   "cell_type": "code",
   "execution_count": 47,
   "id": "fb70c6df-e626-4767-9eb8-9dbb15f9bfbe",
   "metadata": {},
   "outputs": [
    {
     "name": "stdout",
     "output_type": "stream",
     "text": [
      "368\n",
      "368\n",
      "368\n",
      "368\n",
      "368\n",
      "368\n",
      "['[CLS]', 'Warum', 'sind', 'höhere', 'Temperaturen', 'für', 'die', 'Bildung', 'der', 'Gletscher', 'vorteil', '##haft', '?', '[SEP]', 'Gletscher', '=', '=', '=', 'Ak', '##kum', '##ulation', 'und', 'Met', '##amo', '##rp', '##hose', '=', '=', '=', 'Der', 'Prozess', 'der', 'Ans', '##ammlung', 'von', 'Schnee', '##massen', 'wird', 'Ak', '##kum', '##ulation', 'genannt', 'und', 'infolge', '##dessen', 'der', 'Entstehung', '##sb', '##erei', '##ch', 'eines', 'Gletscher', '##s', 'mit', 'Ak', '##kum', '##ulation', '##sg', '##eb', '##iet', '(', 'Nähr', '##gebiet', ')', 'bezeichnet', '.', 'Reicht', 'die', 'Schnee', '##mächtig', '##keit', 'aus', ',', 'dass', 'durch', 'die', 'Auf', '##last', 'der', 'oberen', 'die', 'tiefer', '##en', 'Schichten', 'zusammenge', '##press', '##t', 'werden', ',', 'beginnt', 'die', 'Met', '##amo', '##rp', '##hose', 'des', 'Schnee', '##s', 'hin', 'zu', 'Gletscher', '##eis', '.', 'Dabei', 'wird', 'durch', 'den', 'in', 'der', 'Tiefe', 'immer', 'höher', 'werden', '##den', 'Druck', 'die', 'im', 'Neu', '##schne', '##e', 'noch', '90', '%', 'des', 'Volumen', '##s', 'ausmachen', '##de', ',', 'in', 'Hohl', '##räumen', 'eingeschlossen', '##e', 'Luft', 'heraus', '##ge', '##press', '##t', '.', 'In', 'Gletscher', '##eis', 'kann', 'somit', 'der', 'Luft', '##anteil', 'bis', 'auf', 'etwa', '2', '%', 'sinken', '.', 'Eis', 'mit', 'einem', 'so', 'geringen', 'Luft', '##anteil', 'besitzt', 'meist', 'eine', 'bl', '##äu', '##liche', ',', 'seltener', 'auch', 'leicht', 'grün', '##liche', 'Farbe', '.', 'Höhe', '##re', 'Temperaturen', 'beeinflussen', 'die', 'Met', '##amo', '##rp', '##hose', 'positiv', 'auf', 'zweier', '##lei', 'Wegen', '.', 'Zum', 'einen', 'bilden', 'sich', 'in', 'wär', '##mere', '##n', '(', 'tem', '##per', '##ierten', ')', 'Gletscher', '##n', 'in', 'der', 'Regel', 'kleinere', 'Eis', '##kr', '##ista', '##lle', ',', 'wodurch', 'hier', 'und', 'auch', 'in', 'den', 'Vor', '##stufen', 'des', 'Eis', '##es', 'wie', 'Fir', '##n', 'und', 'gra', '##nu', '##lar', '##em', 'Eis', '(', 'in', 'mancher', 'Literatur', 'auch', 'Fir', '##nei', '##s', 'genannt', ')', 'eine', 'Bewegung', 'möglich', 'ist', ',', 'bei', 'der', 'leichter', 'Luft', 'frei', '##gesetzt', 'werden', 'kann', '.', 'Darüber', 'hinaus', 'kann', 'auch', 'ober', '##fläch', '##liches', 'Material', 'aufs', '##ch', '##melzen', 'und', 'erneut', 'gefr', '##ieren', ',', 'ohne', 'den', 'Gletscher', 'zu', 'verlassen', '.', 'So', 'kann', 'zumindest', 'in', 'kleineren', 'Mengen', 'sogar', 'im', 'Tages', '##zyklus', 'eine', 'Verwand', '##lung', 'von', 'Schnee', 'in', 'Eis', 'stattfinden', ',', 'ohne', 'dass', 'die', 'bei', 'der', 'Druck', '##met', '##amo', '##rp', '##hose', 'üblichen', 'Zwischen', '##stufen', 'durch', '##laufen', 'werden', '.', 'Es', 'bedarf', '10', 'm', 'Neu', '##schne', '##e', 'bei', 'einer', 'Dichte', 'von', '0', ',', '1', 'g', '/', 'cm', '##3', ',', 'um', '1', ',', '10', 'm', 'Gletscher', '##eis', 'mit', 'einer', 'Dichte', 'von', '0', ',', '9', 'g', '/', 'cm', '##3', 'zu', 'produzieren', '.', 'Dies', 'entspricht', 'wiederum', 'einer', 'Wassers', '##äule', 'von', '1', 'm', '.', '[SEP]']\n"
     ]
    }
   ],
   "source": [
    "print(output[0][0].shape[0]) # start_token logits\n",
    "print(output[1][0].shape[0]) # end_token logits\n",
    "print(len(all_tokens))\n",
    "print(len(encoding.input_ids))\n",
    "print(len(encoding.token_type_ids))\n",
    "print(len(encoding.attention_mask))\n",
    "print(all_tokens)"
   ]
  },
  {
   "cell_type": "code",
   "execution_count": null,
   "id": "1272b8fa-bd79-45be-994a-6833012c408e",
   "metadata": {},
   "outputs": [],
   "source": []
  },
  {
   "cell_type": "code",
   "execution_count": null,
   "id": "40af3907-0c29-48dc-80e1-78e90f0b389d",
   "metadata": {},
   "outputs": [],
   "source": []
  },
  {
   "cell_type": "code",
   "execution_count": null,
   "id": "4cfc9c30-4bf4-4a95-b189-a0b331f52aca",
   "metadata": {},
   "outputs": [],
   "source": []
  },
  {
   "cell_type": "code",
   "execution_count": null,
   "id": "19187820-8c36-4767-acf2-ec32a44d54cc",
   "metadata": {},
   "outputs": [],
   "source": []
  }
 ],
 "metadata": {
  "kernelspec": {
   "display_name": "Python 3 (ipykernel)",
   "language": "python",
   "name": "python3"
  },
  "language_info": {
   "codemirror_mode": {
    "name": "ipython",
    "version": 3
   },
   "file_extension": ".py",
   "mimetype": "text/x-python",
   "name": "python",
   "nbconvert_exporter": "python",
   "pygments_lexer": "ipython3",
   "version": "3.9.12"
  }
 },
 "nbformat": 4,
 "nbformat_minor": 5
}
