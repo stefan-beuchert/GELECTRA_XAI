{
 "cells": [
  {
   "cell_type": "markdown",
   "id": "08d79acd",
   "metadata": {},
   "source": [
    "# Parallization of Data Frame creation"
   ]
  },
  {
   "cell_type": "markdown",
   "id": "ef69e6aa",
   "metadata": {},
   "source": [
    "A simple example on how to distribute the creation of new columns for a pandas data frame on multiple kernels"
   ]
  },
  {
   "cell_type": "code",
   "execution_count": 36,
   "id": "e03cd499",
   "metadata": {},
   "outputs": [],
   "source": [
    "# imports\n",
    "import pandas as pd\n",
    "import multiprocessing\n",
    "import numpy as np"
   ]
  },
  {
   "cell_type": "code",
   "execution_count": 40,
   "id": "7a478c10",
   "metadata": {},
   "outputs": [],
   "source": [
    "# config\n",
    "number_of_cores = multiprocessing.cpu_count()\n",
    " \n",
    "# Create DataFrame\n",
    "test_dataframe = pd.DataFrame(\n",
    "    {'old_col_01': ['Jim', 'Pam', 'Micheal', 'Dwight'],\n",
    "     'old_col_02': ['Halpert', 'Bisley', 'Scott', 'Shrute']\n",
    "    })"
   ]
  },
  {
   "cell_type": "code",
   "execution_count": 41,
   "id": "07cff2e9",
   "metadata": {},
   "outputs": [],
   "source": [
    "# functions\n",
    "\n",
    "# core functon: creates content for new columns\n",
    "def create_new_content(row):\n",
    "    new_content_col_1 = row.old_col_01.lower()\n",
    "    new_content_col_2 = row.old_col_02.upper()\n",
    "    \n",
    "    return pd.Series([new_content_col_1, new_content_col_2])\n",
    "\n",
    "# main function: adds multiple new columns to the dataframe, based on existing columns\n",
    "def add_columns(dataframe):\n",
    "    dataframe[['new_col_01', 'new_col_02']] = dataframe.apply(lambda row: create_new_content(row), axis=1)\n",
    "    \n",
    "    return dataframe\n",
    "    \n",
    "# helper function: parallizes the process\n",
    "def parallize_dataframe(dataframe, func, n_cores):\n",
    "    df_split = np.array_split(dataframe, n_cores)\n",
    "    pool = multiprocessing.Pool(n_cores)\n",
    "    \n",
    "    dataframe = pd.concat(pool.map(func, df_split))\n",
    "    pool.close()\n",
    "    pool.join()\n",
    "    \n",
    "    return dataframe"
   ]
  },
  {
   "cell_type": "code",
   "execution_count": 42,
   "id": "9262b277",
   "metadata": {},
   "outputs": [
    {
     "data": {
      "text/html": [
       "<div>\n",
       "<style scoped>\n",
       "    .dataframe tbody tr th:only-of-type {\n",
       "        vertical-align: middle;\n",
       "    }\n",
       "\n",
       "    .dataframe tbody tr th {\n",
       "        vertical-align: top;\n",
       "    }\n",
       "\n",
       "    .dataframe thead th {\n",
       "        text-align: right;\n",
       "    }\n",
       "</style>\n",
       "<table border=\"1\" class=\"dataframe\">\n",
       "  <thead>\n",
       "    <tr style=\"text-align: right;\">\n",
       "      <th></th>\n",
       "      <th>old_col_01</th>\n",
       "      <th>old_col_02</th>\n",
       "      <th>new_col_01</th>\n",
       "      <th>new_col_02</th>\n",
       "    </tr>\n",
       "  </thead>\n",
       "  <tbody>\n",
       "    <tr>\n",
       "      <th>0</th>\n",
       "      <td>Jim</td>\n",
       "      <td>Halpert</td>\n",
       "      <td>jim</td>\n",
       "      <td>HALPERT</td>\n",
       "    </tr>\n",
       "    <tr>\n",
       "      <th>1</th>\n",
       "      <td>Pam</td>\n",
       "      <td>Bisley</td>\n",
       "      <td>pam</td>\n",
       "      <td>BISLEY</td>\n",
       "    </tr>\n",
       "    <tr>\n",
       "      <th>2</th>\n",
       "      <td>Micheal</td>\n",
       "      <td>Scott</td>\n",
       "      <td>micheal</td>\n",
       "      <td>SCOTT</td>\n",
       "    </tr>\n",
       "    <tr>\n",
       "      <th>3</th>\n",
       "      <td>Dwight</td>\n",
       "      <td>Shrute</td>\n",
       "      <td>dwight</td>\n",
       "      <td>SHRUTE</td>\n",
       "    </tr>\n",
       "  </tbody>\n",
       "</table>\n",
       "</div>"
      ],
      "text/plain": [
       "  old_col_01 old_col_02 new_col_01 new_col_02\n",
       "0        Jim    Halpert        jim    HALPERT\n",
       "1        Pam     Bisley        pam     BISLEY\n",
       "2    Micheal      Scott    micheal      SCOTT\n",
       "3     Dwight     Shrute     dwight     SHRUTE"
      ]
     },
     "execution_count": 42,
     "metadata": {},
     "output_type": "execute_result"
    }
   ],
   "source": [
    "df = parallize_dataframe(test_dataframe, add_columns, number_of_cores)\n",
    "\n",
    "df"
   ]
  },
  {
   "cell_type": "code",
   "execution_count": null,
   "id": "9db28a2b",
   "metadata": {},
   "outputs": [],
   "source": []
  },
  {
   "cell_type": "code",
   "execution_count": null,
   "id": "6d80b42e",
   "metadata": {},
   "outputs": [],
   "source": []
  },
  {
   "cell_type": "code",
   "execution_count": null,
   "id": "bf65878a",
   "metadata": {},
   "outputs": [],
   "source": []
  }
 ],
 "metadata": {
  "kernelspec": {
   "display_name": "Python 3 (ipykernel)",
   "language": "python",
   "name": "python3"
  },
  "language_info": {
   "codemirror_mode": {
    "name": "ipython",
    "version": 3
   },
   "file_extension": ".py",
   "mimetype": "text/x-python",
   "name": "python",
   "nbconvert_exporter": "python",
   "pygments_lexer": "ipython3",
   "version": "3.9.12"
  }
 },
 "nbformat": 4,
 "nbformat_minor": 5
}
