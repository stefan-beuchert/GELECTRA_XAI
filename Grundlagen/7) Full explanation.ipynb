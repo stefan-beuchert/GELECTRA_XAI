{
 "cells": [
  {
   "cell_type": "markdown",
   "id": "9ef6fb88-75ae-4319-a181-fcdc044f04cd",
   "metadata": {},
   "source": [
    "Get the full explanation for one data point"
   ]
  },
  {
   "cell_type": "code",
   "execution_count": 1,
   "id": "13445466-af4c-47d7-bef4-a1d36a4fe5f4",
   "metadata": {},
   "outputs": [
    {
     "name": "stdout",
     "output_type": "stream",
     "text": [
      "C:\\Users\\Stefan.Beuchert\\Desktop\\backup_from_kubectl\n"
     ]
    }
   ],
   "source": [
    "%cd ..\n",
    "import config\n",
    "from src.explainer_full import get_full_explanation_for_data_point\n",
    "from src.model_wrapper import Model\n",
    "from src import explainer_lime"
   ]
  },
  {
   "cell_type": "code",
   "execution_count": 2,
   "id": "232a8728-7545-4743-a12d-c7fb7c913264",
   "metadata": {},
   "outputs": [],
   "source": [
    "import re\n",
    "import pandas as pd\n",
    "import spacy"
   ]
  },
  {
   "cell_type": "code",
   "execution_count": 3,
   "id": "43bc5f45-ae1c-4717-a957-ec73b77c6c72",
   "metadata": {},
   "outputs": [],
   "source": [
    "# config\n",
    "chunk_tag = 'A' # the possible chunks are A, B, C, D, E with 2700 rows each\n",
    "source_path = f'./data/GermanQuAD_raw_test/GermanQuAD_raw_test_{chunk_tag}.json'"
   ]
  },
  {
   "cell_type": "code",
   "execution_count": 4,
   "id": "c87f08a1-1e15-445d-96db-20334e4e6734",
   "metadata": {},
   "outputs": [],
   "source": [
    "# prepare models\n",
    "nlp = spacy.load(\"de_core_news_sm\")\n",
    "\n",
    "gelectra_model = Model(config.GELECTRA_MODEL_NAME)\n",
    "\n",
    "lime_explainer = explainer_lime.Lime_Explanation(model=gelectra_model, \n",
    "                                                 class_names=config.LIME_CLASS_NAMES, \n",
    "                                                 num_samples=3, \n",
    "                                                 num_features=10,  \n",
    "                                                 bow = False,\n",
    "                                                 random_state=0)"
   ]
  },
  {
   "cell_type": "code",
   "execution_count": 5,
   "id": "28c7001d-df27-4337-8dbe-881d6d87d6a3",
   "metadata": {},
   "outputs": [
    {
     "data": {
      "text/html": [
       "<div>\n",
       "<style scoped>\n",
       "    .dataframe tbody tr th:only-of-type {\n",
       "        vertical-align: middle;\n",
       "    }\n",
       "\n",
       "    .dataframe tbody tr th {\n",
       "        vertical-align: top;\n",
       "    }\n",
       "\n",
       "    .dataframe thead th {\n",
       "        text-align: right;\n",
       "    }\n",
       "</style>\n",
       "<table border=\"1\" class=\"dataframe\">\n",
       "  <thead>\n",
       "    <tr style=\"text-align: right;\">\n",
       "      <th></th>\n",
       "      <th>question_id</th>\n",
       "      <th>question</th>\n",
       "      <th>answers</th>\n",
       "      <th>context</th>\n",
       "      <th>document_id</th>\n",
       "      <th>is_impossible</th>\n",
       "      <th>usage</th>\n",
       "    </tr>\n",
       "  </thead>\n",
       "  <tbody>\n",
       "    <tr>\n",
       "      <th>0</th>\n",
       "      <td>37495</td>\n",
       "      <td>Wie viele Amerikaner fühlen sich mehr als eine...</td>\n",
       "      <td>[{'answer_id': 37854, 'document_id': 41057, 'q...</td>\n",
       "      <td>Race__United_States_Census_\\n\\n=== „Race“ ===\\...</td>\n",
       "      <td>41057</td>\n",
       "      <td>False</td>\n",
       "      <td>test</td>\n",
       "    </tr>\n",
       "    <tr>\n",
       "      <th>1</th>\n",
       "      <td>36553</td>\n",
       "      <td>Wer wanderte nach North Carolina Anfang des 20...</td>\n",
       "      <td>[{'answer_id': 36895, 'document_id': 40789, 'q...</td>\n",
       "      <td>North_Carolina\\n\\n==== Europäische Amerikaner ...</td>\n",
       "      <td>40789</td>\n",
       "      <td>False</td>\n",
       "      <td>test</td>\n",
       "    </tr>\n",
       "  </tbody>\n",
       "</table>\n",
       "</div>"
      ],
      "text/plain": [
       "   question_id                                           question  \\\n",
       "0        37495  Wie viele Amerikaner fühlen sich mehr als eine...   \n",
       "1        36553  Wer wanderte nach North Carolina Anfang des 20...   \n",
       "\n",
       "                                             answers  \\\n",
       "0  [{'answer_id': 37854, 'document_id': 41057, 'q...   \n",
       "1  [{'answer_id': 36895, 'document_id': 40789, 'q...   \n",
       "\n",
       "                                             context  document_id  \\\n",
       "0  Race__United_States_Census_\\n\\n=== „Race“ ===\\...        41057   \n",
       "1  North_Carolina\\n\\n==== Europäische Amerikaner ...        40789   \n",
       "\n",
       "   is_impossible usage  \n",
       "0          False  test  \n",
       "1          False  test  "
      ]
     },
     "execution_count": 5,
     "metadata": {},
     "output_type": "execute_result"
    }
   ],
   "source": [
    "# get data to work with\n",
    "GQuAD_chunk_data = pd.read_json(source_path)\n",
    "GQuAD_chunk_data.head(2)"
   ]
  },
  {
   "cell_type": "code",
   "execution_count": 6,
   "id": "dbb2d4f9-a203-4efd-ae26-73945d3b8ee7",
   "metadata": {},
   "outputs": [
    {
     "data": {
      "text/plain": [
       "'Wie viele Amerikaner fühlen sich mehr als einer \"Rasse\" angehörig?'"
      ]
     },
     "execution_count": 6,
     "metadata": {},
     "output_type": "execute_result"
    }
   ],
   "source": [
    "# get question and context values\n",
    "GQuAD_chunk_data.iloc[0]['context']\n",
    "GQuAD_chunk_data.iloc[0]['question']"
   ]
  },
  {
   "cell_type": "code",
   "execution_count": 7,
   "id": "3fad6d7d-13ab-4c44-8b14-013bc798bce4",
   "metadata": {},
   "outputs": [
    {
     "ename": "IndexError",
     "evalue": "list index out of range",
     "output_type": "error",
     "traceback": [
      "\u001b[1;31m---------------------------------------------------------------------------\u001b[0m",
      "\u001b[1;31mIndexError\u001b[0m                                Traceback (most recent call last)",
      "Input \u001b[1;32mIn [7]\u001b[0m, in \u001b[0;36m<cell line: 1>\u001b[1;34m()\u001b[0m\n\u001b[0;32m      1\u001b[0m \u001b[38;5;28;01mfor\u001b[39;00m i \u001b[38;5;129;01min\u001b[39;00m \u001b[38;5;28mrange\u001b[39m(\u001b[38;5;28mlen\u001b[39m(GQuAD_chunk_data)):\n\u001b[1;32m----> 2\u001b[0m     res \u001b[38;5;241m=\u001b[39m \u001b[43mget_full_explanation_for_data_point\u001b[49m\u001b[43m(\u001b[49m\u001b[43mlime_explainer\u001b[49m\u001b[43m,\u001b[49m\u001b[43m \u001b[49m\n\u001b[0;32m      3\u001b[0m \u001b[43m                                              \u001b[49m\u001b[43mnlp\u001b[49m\u001b[43m,\u001b[49m\u001b[43m \u001b[49m\n\u001b[0;32m      4\u001b[0m \u001b[43m                                              \u001b[49m\u001b[43mGQuAD_chunk_data\u001b[49m\u001b[38;5;241;43m.\u001b[39;49m\u001b[43miloc\u001b[49m\u001b[43m[\u001b[49m\u001b[43mi\u001b[49m\u001b[43m]\u001b[49m\u001b[43m[\u001b[49m\u001b[38;5;124;43m'\u001b[39;49m\u001b[38;5;124;43mquestion\u001b[39;49m\u001b[38;5;124;43m'\u001b[39;49m\u001b[43m]\u001b[49m\u001b[43m,\u001b[49m\u001b[43m \u001b[49m\n\u001b[0;32m      5\u001b[0m \u001b[43m                                              \u001b[49m\u001b[43mGQuAD_chunk_data\u001b[49m\u001b[38;5;241;43m.\u001b[39;49m\u001b[43miloc\u001b[49m\u001b[43m[\u001b[49m\u001b[43mi\u001b[49m\u001b[43m]\u001b[49m\u001b[43m[\u001b[49m\u001b[38;5;124;43m'\u001b[39;49m\u001b[38;5;124;43mcontext\u001b[39;49m\u001b[38;5;124;43m'\u001b[39;49m\u001b[43m]\u001b[49m\u001b[43m)\u001b[49m\n",
      "File \u001b[1;32m~\\Desktop\\backup_from_kubectl\\src\\explainer_full.py:9\u001b[0m, in \u001b[0;36mget_full_explanation_for_data_point\u001b[1;34m(lime_explainer, nlp, question, context)\u001b[0m\n\u001b[0;32m      6\u001b[0m \u001b[38;5;28;01mdef\u001b[39;00m \u001b[38;5;21mget_full_explanation_for_data_point\u001b[39m(lime_explainer, nlp, question, context):\n\u001b[0;32m      7\u001b[0m     \u001b[38;5;66;03m# get lime explanation\u001b[39;00m\n\u001b[0;32m      8\u001b[0m     lime_input \u001b[38;5;241m=\u001b[39m question \u001b[38;5;241m+\u001b[39m \u001b[38;5;124m\"\u001b[39m\u001b[38;5;124m \u001b[39m\u001b[38;5;124m\"\u001b[39m \u001b[38;5;241m+\u001b[39m context\n\u001b[1;32m----> 9\u001b[0m     lime_explanation \u001b[38;5;241m=\u001b[39m \u001b[43mlime_explainer\u001b[49m\u001b[38;5;241;43m.\u001b[39;49m\u001b[43mexplain\u001b[49m\u001b[43m(\u001b[49m\u001b[43mlime_input\u001b[49m\u001b[43m)\u001b[49m\n\u001b[0;32m     11\u001b[0m     \u001b[38;5;66;03m# tokens\u001b[39;00m\n\u001b[0;32m     12\u001b[0m     lime_tokens \u001b[38;5;241m=\u001b[39m re\u001b[38;5;241m.\u001b[39msplit(config\u001b[38;5;241m.\u001b[39mLIME_REGEX_FOR_TOKENIZATION, lime_input)\n",
      "File \u001b[1;32m~\\Desktop\\backup_from_kubectl\\src\\explainer_lime.py:23\u001b[0m, in \u001b[0;36mLime_Explanation.explain\u001b[1;34m(self, lime_input)\u001b[0m\n\u001b[0;32m     18\u001b[0m \u001b[38;5;28;01mdef\u001b[39;00m \u001b[38;5;21mexplain\u001b[39m(\u001b[38;5;28mself\u001b[39m, lime_input):\n\u001b[0;32m     19\u001b[0m \n\u001b[0;32m     20\u001b[0m     \u001b[38;5;66;03m# TODO. parameter richtig setzen \u001b[39;00m\n\u001b[0;32m     21\u001b[0m     explainer \u001b[38;5;241m=\u001b[39m lime_text\u001b[38;5;241m.\u001b[39mLimeTextExplainer(class_names\u001b[38;5;241m=\u001b[39m\u001b[38;5;28mself\u001b[39m\u001b[38;5;241m.\u001b[39mclass_names, random_state\u001b[38;5;241m=\u001b[39m\u001b[38;5;28mself\u001b[39m\u001b[38;5;241m.\u001b[39mrandom_state, bow \u001b[38;5;241m=\u001b[39m \u001b[38;5;28mself\u001b[39m\u001b[38;5;241m.\u001b[39mbow)\n\u001b[1;32m---> 23\u001b[0m     \u001b[38;5;28;01mreturn\u001b[39;00m \u001b[43mexplainer\u001b[49m\u001b[38;5;241;43m.\u001b[39;49m\u001b[43mexplain_instance\u001b[49m\u001b[43m(\u001b[49m\u001b[43mlime_input\u001b[49m\u001b[43m,\u001b[49m\n\u001b[0;32m     24\u001b[0m \u001b[43m                                      \u001b[49m\u001b[38;5;28;43mself\u001b[39;49m\u001b[38;5;241;43m.\u001b[39;49m\u001b[43mprediction_function_qa\u001b[49m\u001b[43m,\u001b[49m\n\u001b[0;32m     25\u001b[0m \u001b[43m                                      \u001b[49m\u001b[43mnum_samples\u001b[49m\u001b[38;5;241;43m=\u001b[39;49m\u001b[38;5;28;43mself\u001b[39;49m\u001b[38;5;241;43m.\u001b[39;49m\u001b[43mnum_samples\u001b[49m\u001b[43m,\u001b[49m\n\u001b[0;32m     26\u001b[0m \u001b[43m                                      \u001b[49m\u001b[43mnum_features\u001b[49m\u001b[38;5;241;43m=\u001b[39;49m\u001b[38;5;28;43mself\u001b[39;49m\u001b[38;5;241;43m.\u001b[39;49m\u001b[43mnum_features\u001b[49m\u001b[43m,\u001b[49m\n\u001b[0;32m     27\u001b[0m \u001b[43m                                      \u001b[49m\u001b[43mtop_labels\u001b[49m\u001b[38;5;241;43m=\u001b[39;49m\u001b[38;5;241;43m2\u001b[39;49m\u001b[43m)\u001b[49m\n",
      "File \u001b[1;32m~\\Anaconda3\\lib\\site-packages\\lime\\lime_text.py:413\u001b[0m, in \u001b[0;36mLimeTextExplainer.explain_instance\u001b[1;34m(self, text_instance, classifier_fn, labels, top_labels, num_features, num_samples, distance_metric, model_regressor)\u001b[0m\n\u001b[0;32m    406\u001b[0m indexed_string \u001b[38;5;241m=\u001b[39m (IndexedCharacters(\n\u001b[0;32m    407\u001b[0m     text_instance, bow\u001b[38;5;241m=\u001b[39m\u001b[38;5;28mself\u001b[39m\u001b[38;5;241m.\u001b[39mbow, mask_string\u001b[38;5;241m=\u001b[39m\u001b[38;5;28mself\u001b[39m\u001b[38;5;241m.\u001b[39mmask_string)\n\u001b[0;32m    408\u001b[0m                   \u001b[38;5;28;01mif\u001b[39;00m \u001b[38;5;28mself\u001b[39m\u001b[38;5;241m.\u001b[39mchar_level \u001b[38;5;28;01melse\u001b[39;00m\n\u001b[0;32m    409\u001b[0m                   IndexedString(text_instance, bow\u001b[38;5;241m=\u001b[39m\u001b[38;5;28mself\u001b[39m\u001b[38;5;241m.\u001b[39mbow,\n\u001b[0;32m    410\u001b[0m                                 split_expression\u001b[38;5;241m=\u001b[39m\u001b[38;5;28mself\u001b[39m\u001b[38;5;241m.\u001b[39msplit_expression,\n\u001b[0;32m    411\u001b[0m                                 mask_string\u001b[38;5;241m=\u001b[39m\u001b[38;5;28mself\u001b[39m\u001b[38;5;241m.\u001b[39mmask_string))\n\u001b[0;32m    412\u001b[0m domain_mapper \u001b[38;5;241m=\u001b[39m TextDomainMapper(indexed_string)\n\u001b[1;32m--> 413\u001b[0m data, yss, distances \u001b[38;5;241m=\u001b[39m \u001b[38;5;28;43mself\u001b[39;49m\u001b[38;5;241;43m.\u001b[39;49m\u001b[43m__data_labels_distances\u001b[49m\u001b[43m(\u001b[49m\n\u001b[0;32m    414\u001b[0m \u001b[43m    \u001b[49m\u001b[43mindexed_string\u001b[49m\u001b[43m,\u001b[49m\u001b[43m \u001b[49m\u001b[43mclassifier_fn\u001b[49m\u001b[43m,\u001b[49m\u001b[43m \u001b[49m\u001b[43mnum_samples\u001b[49m\u001b[43m,\u001b[49m\n\u001b[0;32m    415\u001b[0m \u001b[43m    \u001b[49m\u001b[43mdistance_metric\u001b[49m\u001b[38;5;241;43m=\u001b[39;49m\u001b[43mdistance_metric\u001b[49m\u001b[43m)\u001b[49m\n\u001b[0;32m    416\u001b[0m \u001b[38;5;28;01mif\u001b[39;00m \u001b[38;5;28mself\u001b[39m\u001b[38;5;241m.\u001b[39mclass_names \u001b[38;5;129;01mis\u001b[39;00m \u001b[38;5;28;01mNone\u001b[39;00m:\n\u001b[0;32m    417\u001b[0m     \u001b[38;5;28mself\u001b[39m\u001b[38;5;241m.\u001b[39mclass_names \u001b[38;5;241m=\u001b[39m [\u001b[38;5;28mstr\u001b[39m(x) \u001b[38;5;28;01mfor\u001b[39;00m x \u001b[38;5;129;01min\u001b[39;00m \u001b[38;5;28mrange\u001b[39m(yss[\u001b[38;5;241m0\u001b[39m]\u001b[38;5;241m.\u001b[39mshape[\u001b[38;5;241m0\u001b[39m])]\n",
      "File \u001b[1;32m~\\Anaconda3\\lib\\site-packages\\lime\\lime_text.py:482\u001b[0m, in \u001b[0;36mLimeTextExplainer.__data_labels_distances\u001b[1;34m(self, indexed_string, classifier_fn, num_samples, distance_metric)\u001b[0m\n\u001b[0;32m    480\u001b[0m     data[i, inactive] \u001b[38;5;241m=\u001b[39m \u001b[38;5;241m0\u001b[39m\n\u001b[0;32m    481\u001b[0m     inverse_data\u001b[38;5;241m.\u001b[39mappend(indexed_string\u001b[38;5;241m.\u001b[39minverse_removing(inactive))\n\u001b[1;32m--> 482\u001b[0m labels \u001b[38;5;241m=\u001b[39m \u001b[43mclassifier_fn\u001b[49m\u001b[43m(\u001b[49m\u001b[43minverse_data\u001b[49m\u001b[43m)\u001b[49m\n\u001b[0;32m    483\u001b[0m distances \u001b[38;5;241m=\u001b[39m distance_fn(sp\u001b[38;5;241m.\u001b[39msparse\u001b[38;5;241m.\u001b[39mcsr_matrix(data))\n\u001b[0;32m    484\u001b[0m \u001b[38;5;28;01mreturn\u001b[39;00m data, labels, distances\n",
      "File \u001b[1;32m~\\Desktop\\backup_from_kubectl\\src\\explainer_lime.py:37\u001b[0m, in \u001b[0;36mLime_Explanation.prediction_function_qa\u001b[1;34m(self, question_and_context_list)\u001b[0m\n\u001b[0;32m     35\u001b[0m split \u001b[38;5;241m=\u001b[39m element\u001b[38;5;241m.\u001b[39msplit(\u001b[38;5;124m\"\u001b[39m\u001b[38;5;124m?\u001b[39m\u001b[38;5;124m\"\u001b[39m)\n\u001b[0;32m     36\u001b[0m question \u001b[38;5;241m=\u001b[39m split[\u001b[38;5;241m0\u001b[39m]\n\u001b[1;32m---> 37\u001b[0m context \u001b[38;5;241m=\u001b[39m \u001b[43msplit\u001b[49m\u001b[43m[\u001b[49m\u001b[38;5;241;43m1\u001b[39;49m\u001b[43m]\u001b[49m\n\u001b[0;32m     38\u001b[0m question \u001b[38;5;241m=\u001b[39m question \u001b[38;5;241m+\u001b[39m \u001b[38;5;124m\"\u001b[39m\u001b[38;5;124m?\u001b[39m\u001b[38;5;124m\"\u001b[39m\n\u001b[0;32m     40\u001b[0m all_tokens \u001b[38;5;241m=\u001b[39m []\n",
      "\u001b[1;31mIndexError\u001b[0m: list index out of range"
     ]
    }
   ],
   "source": [
    "for i in range(len(GQuAD_chunk_data)):\n",
    "    res = get_full_explanation_for_data_point(lime_explainer, \n",
    "                                              nlp, \n",
    "                                              GQuAD_chunk_data.iloc[i]['question'], \n",
    "                                              GQuAD_chunk_data.iloc[i]['context'])"
   ]
  },
  {
   "cell_type": "code",
   "execution_count": null,
   "id": "fa928a00-5fab-46c4-91a4-5c1ed8604c6e",
   "metadata": {},
   "outputs": [],
   "source": []
  },
  {
   "cell_type": "code",
   "execution_count": null,
   "id": "af89c0a0-920c-45c6-9982-1b608c97be72",
   "metadata": {},
   "outputs": [],
   "source": []
  },
  {
   "cell_type": "code",
   "execution_count": null,
   "id": "935a25e2-1735-4e46-b04b-94fecd345727",
   "metadata": {},
   "outputs": [],
   "source": []
  }
 ],
 "metadata": {
  "kernelspec": {
   "display_name": "Python 3 (ipykernel)",
   "language": "python",
   "name": "python3"
  },
  "language_info": {
   "codemirror_mode": {
    "name": "ipython",
    "version": 3
   },
   "file_extension": ".py",
   "mimetype": "text/x-python",
   "name": "python",
   "nbconvert_exporter": "python",
   "pygments_lexer": "ipython3",
   "version": "3.9.12"
  }
 },
 "nbformat": 4,
 "nbformat_minor": 5
}
