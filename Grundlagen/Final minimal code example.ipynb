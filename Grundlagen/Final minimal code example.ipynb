{
 "cells": [
  {
   "cell_type": "markdown",
   "id": "d42096f9",
   "metadata": {},
   "source": [
    "# How to use this project"
   ]
  },
  {
   "cell_type": "markdown",
   "id": "812b41dd",
   "metadata": {},
   "source": [
    "A minimal code examle illustrating the use of this project."
   ]
  },
  {
   "cell_type": "code",
   "execution_count": 1,
   "id": "dd5c1881",
   "metadata": {},
   "outputs": [
    {
     "name": "stdout",
     "output_type": "stream",
     "text": [
      "C:\\Users\\Stefan.Beuchert\\Desktop\\backup_from_kubectl\n"
     ]
    }
   ],
   "source": [
    "%cd .."
   ]
  },
  {
   "cell_type": "code",
   "execution_count": 2,
   "id": "17d894dc",
   "metadata": {},
   "outputs": [
    {
     "name": "stderr",
     "output_type": "stream",
     "text": [
      "[nltk_data] Downloading package averaged_perceptron_tagger to\n",
      "[nltk_data]     C:\\Users\\Stefan.Beuchert\\AppData\\Roaming\\nltk_data...\n",
      "[nltk_data]   Package averaged_perceptron_tagger is already up-to-\n",
      "[nltk_data]       date!\n",
      "[nltk_data] Downloading package stopwords to\n",
      "[nltk_data]     C:\\Users\\Stefan.Beuchert\\AppData\\Roaming\\nltk_data...\n",
      "[nltk_data]   Package stopwords is already up-to-date!\n"
     ]
    }
   ],
   "source": [
    "from src.analyzer import sort_tokens_in_categories, get_frequencie, display_frequencies\n",
    "from src.ExplanationObjectForQuestionType import ExplanationObjectForQuestionType\n",
    "from src.get_data import enhance_data_with_question_type\n",
    "\n",
    "import pandas as pd\n",
    "import matplotlib.pyplot as plt"
   ]
  },
  {
   "cell_type": "markdown",
   "id": "0cc2511b",
   "metadata": {},
   "source": [
    "## Get your data"
   ]
  },
  {
   "cell_type": "markdown",
   "id": "9c62ac43",
   "metadata": {},
   "source": [
    "## Get explanation"
   ]
  },
  {
   "cell_type": "code",
   "execution_count": null,
   "id": "af5a7e86",
   "metadata": {},
   "outputs": [],
   "source": []
  },
  {
   "cell_type": "code",
   "execution_count": 3,
   "id": "ac5829d1",
   "metadata": {},
   "outputs": [],
   "source": [
    "# config\n",
    "number_of_features = 10 # the default value\n",
    "number_of_samples = 5000 # the default value\n",
    "\n",
    "source_path_for_data = f'data/Data_Preparation/lime_ns_{number_of_samples}_nf_{number_of_features}_after_frequency_analysis.json'"
   ]
  },
  {
   "cell_type": "code",
   "execution_count": 4,
   "id": "5446a40d",
   "metadata": {},
   "outputs": [
    {
     "data": {
      "text/html": [
       "<div>\n",
       "<style scoped>\n",
       "    .dataframe tbody tr th:only-of-type {\n",
       "        vertical-align: middle;\n",
       "    }\n",
       "\n",
       "    .dataframe tbody tr th {\n",
       "        vertical-align: top;\n",
       "    }\n",
       "\n",
       "    .dataframe thead th {\n",
       "        text-align: right;\n",
       "    }\n",
       "</style>\n",
       "<table border=\"1\" class=\"dataframe\">\n",
       "  <thead>\n",
       "    <tr style=\"text-align: right;\">\n",
       "      <th></th>\n",
       "      <th>question</th>\n",
       "      <th>answers</th>\n",
       "      <th>context</th>\n",
       "      <th>document_id</th>\n",
       "      <th>is_impossible</th>\n",
       "      <th>usage</th>\n",
       "      <th>prediction</th>\n",
       "      <th>explanation</th>\n",
       "    </tr>\n",
       "  </thead>\n",
       "  <tbody>\n",
       "    <tr>\n",
       "      <th>37495</th>\n",
       "      <td>Wie viele Amerikaner fühlen sich mehr als eine...</td>\n",
       "      <td>[{'answer_id': 37854, 'document_id': 41057, 'q...</td>\n",
       "      <td>Race__United_States_Census_\\n\\n=== „Race“ ===\\...</td>\n",
       "      <td>41057</td>\n",
       "      <td>False</td>\n",
       "      <td>test</td>\n",
       "      <td>fast sieben Millionen</td>\n",
       "      <td>position_id   lime_token question_or_cont...</td>\n",
       "    </tr>\n",
       "  </tbody>\n",
       "</table>\n",
       "</div>"
      ],
      "text/plain": [
       "                                                question  \\\n",
       "37495  Wie viele Amerikaner fühlen sich mehr als eine...   \n",
       "\n",
       "                                                 answers  \\\n",
       "37495  [{'answer_id': 37854, 'document_id': 41057, 'q...   \n",
       "\n",
       "                                                 context  document_id  \\\n",
       "37495  Race__United_States_Census_\\n\\n=== „Race“ ===\\...        41057   \n",
       "\n",
       "       is_impossible usage             prediction  \\\n",
       "37495          False  test  fast sieben Millionen   \n",
       "\n",
       "                                             explanation  \n",
       "37495       position_id   lime_token question_or_cont...  "
      ]
     },
     "execution_count": 4,
     "metadata": {},
     "output_type": "execute_result"
    }
   ],
   "source": [
    "# load data\n",
    "data_df = pd.read_json(source_path_for_data)\n",
    "data_df['explanation'] = [pd.DataFrame(exp) for exp in data_df['explanation'].tolist()]\n",
    "data_df.head(1)"
   ]
  },
  {
   "cell_type": "markdown",
   "id": "84e857ed",
   "metadata": {},
   "source": [
    "## Get insights"
   ]
  },
  {
   "cell_type": "code",
   "execution_count": 17,
   "id": "bfbfd2af",
   "metadata": {},
   "outputs": [],
   "source": [
    "question_type = 'wer'"
   ]
  },
  {
   "cell_type": "code",
   "execution_count": 18,
   "id": "b5fc1f59",
   "metadata": {},
   "outputs": [],
   "source": [
    "data_df = enhance_data_with_question_type(data_df)\n",
    "data_df_specific_question_type = data_df[data_df['question_type'] == question_type]"
   ]
  },
  {
   "cell_type": "code",
   "execution_count": 19,
   "id": "f80ade16",
   "metadata": {},
   "outputs": [
    {
     "name": "stderr",
     "output_type": "stream",
     "text": [
      "C:\\Users\\Stefan.Beuchert\\Desktop\\backup_from_kubectl\\src\\ExplanationObjectForQuestionType.py:66: SettingWithCopyWarning: \n",
      "A value is trying to be set on a copy of a slice from a DataFrame.\n",
      "Try using .loc[row_indexer,col_indexer] = value instead\n",
      "\n",
      "See the caveats in the documentation: https://pandas.pydata.org/pandas-docs/stable/user_guide/indexing.html#returning-a-view-versus-a-copy\n",
      "  data['prediction_length'] = answer_context_df.apply(\n",
      "C:\\Users\\Stefan.Beuchert\\Desktop\\backup_from_kubectl\\src\\ExplanationObjectForQuestionType.py:69: SettingWithCopyWarning: \n",
      "A value is trying to be set on a copy of a slice from a DataFrame.\n",
      "Try using .loc[row_indexer,col_indexer] = value instead\n",
      "\n",
      "See the caveats in the documentation: https://pandas.pydata.org/pandas-docs/stable/user_guide/indexing.html#returning-a-view-versus-a-copy\n",
      "  answer_context_df['context_length'] = answer_context_df.apply(lambda row: len(row['context'].split()), axis = 1)\n"
     ]
    },
    {
     "name": "stdout",
     "output_type": "stream",
     "text": [
      "out of 188 data points, 8 have been deleted, because GELECTRA could not find a sufficient answer. 180 data point remaining\n"
     ]
    }
   ],
   "source": [
    "explanation = ExplanationObjectForQuestionType(question_type, data_df_specific_question_type)"
   ]
  },
  {
   "cell_type": "code",
   "execution_count": 20,
   "id": "77d3bd08",
   "metadata": {},
   "outputs": [
    {
     "name": "stdout",
     "output_type": "stream",
     "text": [
      "\n",
      "        === WER ===\n",
      "        Die Antwortlänge beträgt in 75% der Fälle zwischen 3.0 und 12.0 Worten.\n",
      "        PER kommt bei diesem Fragetyp 125.54179145112985 % häufiger vor.\n",
      "        SPACE kommt bei diesem Fragetyp 338.31481481481484 % häufiger vor.\n",
      "        \n"
     ]
    }
   ],
   "source": [
    "print(explanation)"
   ]
  },
  {
   "cell_type": "markdown",
   "id": "d50fe889",
   "metadata": {},
   "source": [
    "## Make conclusions"
   ]
  },
  {
   "cell_type": "code",
   "execution_count": null,
   "id": "d94fa295",
   "metadata": {},
   "outputs": [],
   "source": []
  },
  {
   "cell_type": "code",
   "execution_count": null,
   "id": "005174f8",
   "metadata": {},
   "outputs": [],
   "source": []
  },
  {
   "cell_type": "code",
   "execution_count": null,
   "id": "40401823",
   "metadata": {},
   "outputs": [],
   "source": []
  }
 ],
 "metadata": {
  "kernelspec": {
   "display_name": "Python 3 (ipykernel)",
   "language": "python",
   "name": "python3"
  },
  "language_info": {
   "codemirror_mode": {
    "name": "ipython",
    "version": 3
   },
   "file_extension": ".py",
   "mimetype": "text/x-python",
   "name": "python",
   "nbconvert_exporter": "python",
   "pygments_lexer": "ipython3",
   "version": "3.9.12"
  }
 },
 "nbformat": 4,
 "nbformat_minor": 5
}
