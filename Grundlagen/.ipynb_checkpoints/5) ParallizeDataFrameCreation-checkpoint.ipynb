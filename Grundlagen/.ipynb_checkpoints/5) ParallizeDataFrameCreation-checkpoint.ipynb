{
 "cells": [
  {
   "cell_type": "markdown",
   "id": "08d79acd",
   "metadata": {},
   "source": [
    "# Parallization of Data Frame creation"
   ]
  },
  {
   "cell_type": "markdown",
   "id": "ef69e6aa",
   "metadata": {},
   "source": [
    "A simple example on how to distribute the creation of new columns for a pandas data frame on multiple kernels"
   ]
  },
  {
   "cell_type": "code",
   "execution_count": null,
   "id": "e03cd499",
   "metadata": {},
   "outputs": [],
   "source": [
    "# imports\n",
    "import pandas as pd\n",
    "import multiprocessing\n",
    "import numpy as np"
   ]
  },
  {
   "cell_type": "code",
   "execution_count": null,
   "id": "7a478c10",
   "metadata": {},
   "outputs": [],
   "source": [
    "# config\n",
    "number_of_cores = multiprocessing.cpu_count()\n",
    " \n",
    "# Create DataFrame\n",
    "test_dataframe = pd.DataFrame(\n",
    "    {'old_col_01': ['Jim', 'Pam', 'Micheal', 'Dwight'],\n",
    "     'old_col_02': ['Halpert', 'Bisley', 'Scott', 'Shrute']})"
   ]
  },
  {
   "cell_type": "code",
   "execution_count": null,
   "id": "07cff2e9",
   "metadata": {},
   "outputs": [],
   "source": [
    "# functions\n",
    "\n",
    "# core functon: creates content for new columns\n",
    "def create_new_content(row):\n",
    "    print(row)\n",
    "    new_content_col_1 = row.old_col_01.lower()\n",
    "    new_content_col_2 = row.old_col_02.upper()\n",
    "    \n",
    "    return pd.Series([new_content_col_1, new_content_col_2])\n",
    "\n",
    "# main function: adds multiple new columns to the dataframe, based on existing columns\n",
    "def add_columns(dataframe):\n",
    "    dataframe[['new_col_1', 'new_col_2']] = dataframe.apply(lambda row: create_new_content(row))\n",
    "    \n",
    "    return dataframe\n",
    "    \n",
    "# helper function: parallizes the process\n",
    "def parallize_dataframe(dataframe, func, n_cores):\n",
    "    df_split = np.array_split(dataframe, n_cores)\n",
    "    pool = multiprocessing.Pool(n_cores)\n",
    "    dataframe = pd.concat(pool.map(func, df_split))\n",
    "    pool.close()\n",
    "    pool.join()\n",
    "    \n",
    "    return df"
   ]
  },
  {
   "cell_type": "code",
   "execution_count": null,
   "id": "9262b277",
   "metadata": {},
   "outputs": [],
   "source": [
    "parallize_dataframe(test_dataframe, add_columns, number_of_cores)"
   ]
  },
  {
   "cell_type": "code",
   "execution_count": null,
   "id": "9db28a2b",
   "metadata": {},
   "outputs": [],
   "source": []
  },
  {
   "cell_type": "code",
   "execution_count": null,
   "id": "6d80b42e",
   "metadata": {},
   "outputs": [],
   "source": []
  },
  {
   "cell_type": "code",
   "execution_count": null,
   "id": "bf65878a",
   "metadata": {},
   "outputs": [],
   "source": []
  }
 ],
 "metadata": {
  "kernelspec": {
   "display_name": "Python 3",
   "language": "python",
   "name": "python3"
  },
  "language_info": {
   "codemirror_mode": {
    "name": "ipython",
    "version": 3
   },
   "file_extension": ".py",
   "mimetype": "text/x-python",
   "name": "python",
   "nbconvert_exporter": "python",
   "pygments_lexer": "ipython3",
   "version": "3.7.10"
  }
 },
 "nbformat": 4,
 "nbformat_minor": 5
}
