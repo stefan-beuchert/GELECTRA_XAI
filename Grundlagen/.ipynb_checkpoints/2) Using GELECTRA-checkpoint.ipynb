{
 "cells": [
  {
   "cell_type": "markdown",
   "id": "831b7b10",
   "metadata": {},
   "source": [
    "# Testing the use of GELECTRA model"
   ]
  },
  {
   "cell_type": "markdown",
   "id": "1aad8ecf",
   "metadata": {},
   "source": [
    "This file is all about testing how to load and interact with the pre-trained GelectraQuA-model"
   ]
  },
  {
   "cell_type": "code",
   "execution_count": 1,
   "id": "1e503668",
   "metadata": {},
   "outputs": [],
   "source": [
    "from src.model_wrapper import Model"
   ]
  },
  {
   "cell_type": "code",
   "execution_count": 2,
   "id": "31c5e483",
   "metadata": {},
   "outputs": [],
   "source": [
    "# config\n",
    "model_name = 'deepset/gelectra-base-germanquad'\n",
    "\n",
    "test_context = \"Aufzugsanlage\\n\\n=== Seilloser Aufzug ===\\nAn der RWTH Aachen im Institut für Elektrische Maschinen wurde ein seilloser Aufzug entwickelt und ein Prototyp aufgebaut. Die Kabine wird hierbei durch zwei elektromagnetische Synchron-Linearmotoren angetrieben und somit nur durch ein vertikal bewegliches Magnetfeld gehalten bzw. bewegt. Diese Arbeit soll der Entwicklung von Aufzugsanlagen für sehr hohe Gebäude dienen. Ein Ziel ist der Einsatz mehrerer Kabinen pro Schacht, die sich unabhängig voneinander steuern lassen. Bei Auswahl des Fahrtziels vor Fahrtantritt (d. h. noch außerhalb des Aufzug) wird ein bestimmter Fahrkorb in einem der Aufzugsschächte für die Fahrt ausgewählt, mit der sich der geplante Transport am schnellsten durchführen lässt. Der Platzbedarf für die gesamte Aufzugsanlage könnte somit um ein oder mehrere Schächte reduziert werden. Da die Kabinen seillos betrieben werden, ist ein Schachtwechsel ebenfalls denkbar. Hiermit können weitere Betriebsstrategien für die seillose Aufzugsanlage entwickelt werden, zum Beispiel ein moderner Paternosteraufzug mit unabhängig voneinander beweglichen Kabinen.\\nIm Rahmen der Forschungen an dem seillosen Aufzug wird ebenfalls an der Entwicklung elektromagnetischer Linearführungen gearbeitet, um den Verschleiß der seillosen Aufzugsanlage bei hohem Fahrkomfort zu minimieren. Weltweit wird an verschiedenen Forschungseinrichtungen an seillosen Antriebslösungen für Aufzüge gearbeitet. Otis betreibt zu diesem Zweck seit 2007 den ''Shibayama Test Tower''. ThyssenKrupp Elevator weihte 2017 im süddeutschen Rottweil einen Testturm ein, in welchem die Technik des seillosen Aufzugs mit Synchron-Linearmotoren im Originalmaßstab getestet wird. Der erste Aufzug dieses Typs soll 2020 in Berlin in Betrieb gehen.\"\n",
    "test_question = \"Was kann den Verschleiß des seillosen Aufzuges minimieren?\""
   ]
  },
  {
   "cell_type": "code",
   "execution_count": 3,
   "id": "6cc8cc76",
   "metadata": {},
   "outputs": [],
   "source": [
    "gelectra_model = Model(model_name)"
   ]
  },
  {
   "cell_type": "code",
   "execution_count": 7,
   "id": "cf21204c",
   "metadata": {},
   "outputs": [],
   "source": [
    "model_output = gelectra_model.predict(test_question,test_context)\n",
    "answer = gelectra_model.get_predicted_tokens(model_output[0],model_output[1])\n",
    "answer_string = gelectra_model.get_answer_string(model_output[0],model_output[1])"
   ]
  },
  {
   "cell_type": "code",
   "execution_count": 8,
   "id": "b6459070",
   "metadata": {},
   "outputs": [
    {
     "name": "stdout",
     "output_type": "stream",
     "text": [
      "Question: Was kann den Verschleiß des seillosen Aufzuges minimieren?\n",
      "Context:\n",
      "Aufzugsanlage\n",
      "\n",
      "=== Seilloser Aufzug ===\n",
      "An der RWTH Aachen im Institut für Elektrische Maschinen wurde ein seilloser Aufzug entwickelt und ein Prototyp aufgebaut. Die Kabine wird hierbei durch zwei elektromagnetische Synchron-Linearmotoren angetrieben und somit nur durch ein vertikal bewegliches Magnetfeld gehalten bzw. bewegt. Diese Arbeit soll der Entwicklung von Aufzugsanlagen für sehr hohe Gebäude dienen. Ein Ziel ist der Einsatz mehrerer Kabinen pro Schacht, die sich unabhängig voneinander steuern lassen. Bei Auswahl des Fahrtziels vor Fahrtantritt (d. h. noch außerhalb des Aufzug) wird ein bestimmter Fahrkorb in einem der Aufzugsschächte für die Fahrt ausgewählt, mit der sich der geplante Transport am schnellsten durchführen lässt. Der Platzbedarf für die gesamte Aufzugsanlage könnte somit um ein oder mehrere Schächte reduziert werden. Da die Kabinen seillos betrieben werden, ist ein Schachtwechsel ebenfalls denkbar. Hiermit können weitere Betriebsstrategien für die seillose Aufzugsanlage entwickelt werden, zum Beispiel ein moderner Paternosteraufzug mit unabhängig voneinander beweglichen Kabinen.\n",
      "Im Rahmen der Forschungen an dem seillosen Aufzug wird ebenfalls an der Entwicklung elektromagnetischer Linearführungen gearbeitet, um den Verschleiß der seillosen Aufzugsanlage bei hohem Fahrkomfort zu minimieren. Weltweit wird an verschiedenen Forschungseinrichtungen an seillosen Antriebslösungen für Aufzüge gearbeitet. Otis betreibt zu diesem Zweck seit 2007 den ''Shibayama Test Tower''. ThyssenKrupp Elevator weihte 2017 im süddeutschen Rottweil einen Testturm ein, in welchem die Technik des seillosen Aufzugs mit Synchron-Linearmotoren im Originalmaßstab getestet wird. Der erste Aufzug dieses Typs soll 2020 in Berlin in Betrieb gehen.\n",
      "Answer: Entwicklung elektromagnetischer Linearführungen\n"
     ]
    }
   ],
   "source": [
    "print('Question: ' + test_question)\n",
    "print('Context:')\n",
    "print(test_context)\n",
    "print('Answer: ' + answer_string)"
   ]
  }
 ],
 "metadata": {
  "kernelspec": {
   "display_name": "Python 3",
   "language": "python",
   "name": "python3"
  },
  "language_info": {
   "codemirror_mode": {
    "name": "ipython",
    "version": 3
   },
   "file_extension": ".py",
   "mimetype": "text/x-python",
   "name": "python",
   "nbconvert_exporter": "python",
   "pygments_lexer": "ipython3",
   "version": "3.7.10"
  }
 },
 "nbformat": 4,
 "nbformat_minor": 5
}
