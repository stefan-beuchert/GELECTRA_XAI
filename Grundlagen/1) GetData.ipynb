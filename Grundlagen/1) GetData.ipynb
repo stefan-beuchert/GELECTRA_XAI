{
 "cells": [
  {
   "cell_type": "markdown",
   "id": "0843e951",
   "metadata": {},
   "source": [
    "# Get Data "
   ]
  },
  {
   "cell_type": "markdown",
   "id": "162dd913",
   "metadata": {},
   "source": [
    "This is just a quick test on how to get data on the cluster from local path :)"
   ]
  },
  {
   "cell_type": "code",
   "execution_count": 9,
   "id": "d1b85ee0",
   "metadata": {},
   "outputs": [],
   "source": [
    "import json\n",
    "import pandas as pd"
   ]
  },
  {
   "cell_type": "code",
   "execution_count": 10,
   "id": "91bf03a7",
   "metadata": {},
   "outputs": [],
   "source": [
    "local_path_folder = '../data/GermanQuAD_raw/'\n",
    "path_train_data = local_path_folder + 'GermanQuAD_train.json'\n",
    "path_test_data = local_path_folder + 'GermanQuAD_test.json'"
   ]
  },
  {
   "cell_type": "code",
   "execution_count": 11,
   "id": "6486ef86",
   "metadata": {},
   "outputs": [],
   "source": [
    "GermanQuAD_train = pd.read_json(path_train_data)\n",
    "GermanQuAD_test = pd.read_json(path_test_data)"
   ]
  },
  {
   "cell_type": "code",
   "execution_count": 12,
   "id": "a2e7ddb8",
   "metadata": {},
   "outputs": [
    {
     "data": {
      "text/html": [
       "<div>\n",
       "<style scoped>\n",
       "    .dataframe tbody tr th:only-of-type {\n",
       "        vertical-align: middle;\n",
       "    }\n",
       "\n",
       "    .dataframe tbody tr th {\n",
       "        vertical-align: top;\n",
       "    }\n",
       "\n",
       "    .dataframe thead th {\n",
       "        text-align: right;\n",
       "    }\n",
       "</style>\n",
       "<table border=\"1\" class=\"dataframe\">\n",
       "  <thead>\n",
       "    <tr style=\"text-align: right;\">\n",
       "      <th></th>\n",
       "      <th>data</th>\n",
       "    </tr>\n",
       "  </thead>\n",
       "  <tbody>\n",
       "    <tr>\n",
       "      <th>0</th>\n",
       "      <td>{'paragraphs': [{'qas': [{'question': 'Von wel...</td>\n",
       "    </tr>\n",
       "    <tr>\n",
       "      <th>1</th>\n",
       "      <td>{'paragraphs': [{'qas': [{'question': 'Wie vie...</td>\n",
       "    </tr>\n",
       "    <tr>\n",
       "      <th>2</th>\n",
       "      <td>{'paragraphs': [{'qas': [{'question': 'Woher k...</td>\n",
       "    </tr>\n",
       "    <tr>\n",
       "      <th>3</th>\n",
       "      <td>{'paragraphs': [{'qas': [{'question': 'Seit wa...</td>\n",
       "    </tr>\n",
       "    <tr>\n",
       "      <th>4</th>\n",
       "      <td>{'paragraphs': [{'qas': [{'question': 'Was ist...</td>\n",
       "    </tr>\n",
       "    <tr>\n",
       "      <th>...</th>\n",
       "      <td>...</td>\n",
       "    </tr>\n",
       "    <tr>\n",
       "      <th>2535</th>\n",
       "      <td>{'paragraphs': [{'qas': [{'question': 'wie kan...</td>\n",
       "    </tr>\n",
       "    <tr>\n",
       "      <th>2536</th>\n",
       "      <td>{'paragraphs': [{'qas': [{'question': 'In welc...</td>\n",
       "    </tr>\n",
       "    <tr>\n",
       "      <th>2537</th>\n",
       "      <td>{'paragraphs': [{'qas': [{'question': 'Welches...</td>\n",
       "    </tr>\n",
       "    <tr>\n",
       "      <th>2538</th>\n",
       "      <td>{'paragraphs': [{'qas': [{'question': 'Wie hei...</td>\n",
       "    </tr>\n",
       "    <tr>\n",
       "      <th>2539</th>\n",
       "      <td>{'paragraphs': [{'qas': [{'question': 'Wann wu...</td>\n",
       "    </tr>\n",
       "  </tbody>\n",
       "</table>\n",
       "<p>2540 rows × 1 columns</p>\n",
       "</div>"
      ],
      "text/plain": [
       "                                                   data\n",
       "0     {'paragraphs': [{'qas': [{'question': 'Von wel...\n",
       "1     {'paragraphs': [{'qas': [{'question': 'Wie vie...\n",
       "2     {'paragraphs': [{'qas': [{'question': 'Woher k...\n",
       "3     {'paragraphs': [{'qas': [{'question': 'Seit wa...\n",
       "4     {'paragraphs': [{'qas': [{'question': 'Was ist...\n",
       "...                                                 ...\n",
       "2535  {'paragraphs': [{'qas': [{'question': 'wie kan...\n",
       "2536  {'paragraphs': [{'qas': [{'question': 'In welc...\n",
       "2537  {'paragraphs': [{'qas': [{'question': 'Welches...\n",
       "2538  {'paragraphs': [{'qas': [{'question': 'Wie hei...\n",
       "2539  {'paragraphs': [{'qas': [{'question': 'Wann wu...\n",
       "\n",
       "[2540 rows x 1 columns]"
      ]
     },
     "execution_count": 12,
     "metadata": {},
     "output_type": "execute_result"
    }
   ],
   "source": [
    "GermanQuAD_train"
   ]
  },
  {
   "cell_type": "code",
   "execution_count": null,
   "id": "637c93f0",
   "metadata": {},
   "outputs": [],
   "source": []
  },
  {
   "cell_type": "code",
   "execution_count": null,
   "id": "acf5fcca",
   "metadata": {},
   "outputs": [],
   "source": []
  },
  {
   "cell_type": "code",
   "execution_count": null,
   "id": "6623821e",
   "metadata": {},
   "outputs": [],
   "source": []
  }
 ],
 "metadata": {
  "kernelspec": {
   "display_name": "Python 3 (ipykernel)",
   "language": "python",
   "name": "python3"
  },
  "language_info": {
   "codemirror_mode": {
    "name": "ipython",
    "version": 3
   },
   "file_extension": ".py",
   "mimetype": "text/x-python",
   "name": "python",
   "nbconvert_exporter": "python",
   "pygments_lexer": "ipython3",
   "version": "3.9.12"
  }
 },
 "nbformat": 4,
 "nbformat_minor": 5
}
